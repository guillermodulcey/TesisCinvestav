{
  "nbformat": 4,
  "nbformat_minor": 0,
  "metadata": {
    "colab": {
      "name": "multimodal_v3_4(medicine).ipynb",
      "provenance": [],
      "collapsed_sections": [],
      "mount_file_id": "1elZSYGEJvIIDJGWyktdbGdd2_FFhdzS3",
      "authorship_tag": "ABX9TyOICJSwrKFXm+uQGUGC8NnM",
      "include_colab_link": true
    },
    "kernelspec": {
      "name": "python3",
      "display_name": "Python 3"
    },
    "accelerator": "GPU",
    "widgets": {
      "application/vnd.jupyter.widget-state+json": {
        "cba9924a2da64e9ab61656d33c57bb73": {
          "model_module": "@jupyter-widgets/controls",
          "model_name": "HBoxModel",
          "model_module_version": "1.5.0",
          "state": {
            "_view_name": "HBoxView",
            "_dom_classes": [],
            "_model_name": "HBoxModel",
            "_view_module": "@jupyter-widgets/controls",
            "_model_module_version": "1.5.0",
            "_view_count": null,
            "_view_module_version": "1.5.0",
            "box_style": "",
            "layout": "IPY_MODEL_b0655310d6564c91a2bf8c6a9935fb92",
            "_model_module": "@jupyter-widgets/controls",
            "children": [
              "IPY_MODEL_9357571d1f0f4dc7ba157a44ce80804b",
              "IPY_MODEL_cbcb0e7d8bbd4ee4b9e90f579165d0f6"
            ]
          }
        },
        "b0655310d6564c91a2bf8c6a9935fb92": {
          "model_module": "@jupyter-widgets/base",
          "model_name": "LayoutModel",
          "model_module_version": "1.2.0",
          "state": {
            "_view_name": "LayoutView",
            "grid_template_rows": null,
            "right": null,
            "justify_content": null,
            "_view_module": "@jupyter-widgets/base",
            "overflow": null,
            "_model_module_version": "1.2.0",
            "_view_count": null,
            "flex_flow": null,
            "width": null,
            "min_width": null,
            "border": null,
            "align_items": null,
            "bottom": null,
            "_model_module": "@jupyter-widgets/base",
            "top": null,
            "grid_column": null,
            "overflow_y": null,
            "overflow_x": null,
            "grid_auto_flow": null,
            "grid_area": null,
            "grid_template_columns": null,
            "flex": null,
            "_model_name": "LayoutModel",
            "justify_items": null,
            "grid_row": null,
            "max_height": null,
            "align_content": null,
            "visibility": null,
            "align_self": null,
            "height": null,
            "min_height": null,
            "padding": null,
            "grid_auto_rows": null,
            "grid_gap": null,
            "max_width": null,
            "order": null,
            "_view_module_version": "1.2.0",
            "grid_template_areas": null,
            "object_position": null,
            "object_fit": null,
            "grid_auto_columns": null,
            "margin": null,
            "display": null,
            "left": null
          }
        },
        "9357571d1f0f4dc7ba157a44ce80804b": {
          "model_module": "@jupyter-widgets/controls",
          "model_name": "FloatProgressModel",
          "model_module_version": "1.5.0",
          "state": {
            "_view_name": "ProgressView",
            "style": "IPY_MODEL_7516c7f781b64e66ab0e9ec37d9565a1",
            "_dom_classes": [],
            "description": "Dl Completed...: 100%",
            "_model_name": "FloatProgressModel",
            "bar_style": "success",
            "max": 1,
            "_view_module": "@jupyter-widgets/controls",
            "_model_module_version": "1.5.0",
            "value": 1,
            "_view_count": null,
            "_view_module_version": "1.5.0",
            "orientation": "horizontal",
            "min": 0,
            "description_tooltip": null,
            "_model_module": "@jupyter-widgets/controls",
            "layout": "IPY_MODEL_ea89fd0f16b04188b517ffea1e449830"
          }
        },
        "cbcb0e7d8bbd4ee4b9e90f579165d0f6": {
          "model_module": "@jupyter-widgets/controls",
          "model_name": "HTMLModel",
          "model_module_version": "1.5.0",
          "state": {
            "_view_name": "HTMLView",
            "style": "IPY_MODEL_f06bf31510054ac8af2eebf39c7848de",
            "_dom_classes": [],
            "description": "",
            "_model_name": "HTMLModel",
            "placeholder": "​",
            "_view_module": "@jupyter-widgets/controls",
            "_model_module_version": "1.5.0",
            "value": " 1/1 [00:27&lt;00:00, 27.74s/ url]",
            "_view_count": null,
            "_view_module_version": "1.5.0",
            "description_tooltip": null,
            "_model_module": "@jupyter-widgets/controls",
            "layout": "IPY_MODEL_cc6bf9c5376646fb858dad3fabb1301b"
          }
        },
        "7516c7f781b64e66ab0e9ec37d9565a1": {
          "model_module": "@jupyter-widgets/controls",
          "model_name": "ProgressStyleModel",
          "model_module_version": "1.5.0",
          "state": {
            "_view_name": "StyleView",
            "_model_name": "ProgressStyleModel",
            "description_width": "initial",
            "_view_module": "@jupyter-widgets/base",
            "_model_module_version": "1.5.0",
            "_view_count": null,
            "_view_module_version": "1.2.0",
            "bar_color": null,
            "_model_module": "@jupyter-widgets/controls"
          }
        },
        "ea89fd0f16b04188b517ffea1e449830": {
          "model_module": "@jupyter-widgets/base",
          "model_name": "LayoutModel",
          "model_module_version": "1.2.0",
          "state": {
            "_view_name": "LayoutView",
            "grid_template_rows": null,
            "right": null,
            "justify_content": null,
            "_view_module": "@jupyter-widgets/base",
            "overflow": null,
            "_model_module_version": "1.2.0",
            "_view_count": null,
            "flex_flow": null,
            "width": null,
            "min_width": null,
            "border": null,
            "align_items": null,
            "bottom": null,
            "_model_module": "@jupyter-widgets/base",
            "top": null,
            "grid_column": null,
            "overflow_y": null,
            "overflow_x": null,
            "grid_auto_flow": null,
            "grid_area": null,
            "grid_template_columns": null,
            "flex": null,
            "_model_name": "LayoutModel",
            "justify_items": null,
            "grid_row": null,
            "max_height": null,
            "align_content": null,
            "visibility": null,
            "align_self": null,
            "height": null,
            "min_height": null,
            "padding": null,
            "grid_auto_rows": null,
            "grid_gap": null,
            "max_width": null,
            "order": null,
            "_view_module_version": "1.2.0",
            "grid_template_areas": null,
            "object_position": null,
            "object_fit": null,
            "grid_auto_columns": null,
            "margin": null,
            "display": null,
            "left": null
          }
        },
        "f06bf31510054ac8af2eebf39c7848de": {
          "model_module": "@jupyter-widgets/controls",
          "model_name": "DescriptionStyleModel",
          "model_module_version": "1.5.0",
          "state": {
            "_view_name": "StyleView",
            "_model_name": "DescriptionStyleModel",
            "description_width": "",
            "_view_module": "@jupyter-widgets/base",
            "_model_module_version": "1.5.0",
            "_view_count": null,
            "_view_module_version": "1.2.0",
            "_model_module": "@jupyter-widgets/controls"
          }
        },
        "cc6bf9c5376646fb858dad3fabb1301b": {
          "model_module": "@jupyter-widgets/base",
          "model_name": "LayoutModel",
          "model_module_version": "1.2.0",
          "state": {
            "_view_name": "LayoutView",
            "grid_template_rows": null,
            "right": null,
            "justify_content": null,
            "_view_module": "@jupyter-widgets/base",
            "overflow": null,
            "_model_module_version": "1.2.0",
            "_view_count": null,
            "flex_flow": null,
            "width": null,
            "min_width": null,
            "border": null,
            "align_items": null,
            "bottom": null,
            "_model_module": "@jupyter-widgets/base",
            "top": null,
            "grid_column": null,
            "overflow_y": null,
            "overflow_x": null,
            "grid_auto_flow": null,
            "grid_area": null,
            "grid_template_columns": null,
            "flex": null,
            "_model_name": "LayoutModel",
            "justify_items": null,
            "grid_row": null,
            "max_height": null,
            "align_content": null,
            "visibility": null,
            "align_self": null,
            "height": null,
            "min_height": null,
            "padding": null,
            "grid_auto_rows": null,
            "grid_gap": null,
            "max_width": null,
            "order": null,
            "_view_module_version": "1.2.0",
            "grid_template_areas": null,
            "object_position": null,
            "object_fit": null,
            "grid_auto_columns": null,
            "margin": null,
            "display": null,
            "left": null
          }
        },
        "380af0c3b8854f47b0ff7223d08461f6": {
          "model_module": "@jupyter-widgets/controls",
          "model_name": "HBoxModel",
          "model_module_version": "1.5.0",
          "state": {
            "_view_name": "HBoxView",
            "_dom_classes": [],
            "_model_name": "HBoxModel",
            "_view_module": "@jupyter-widgets/controls",
            "_model_module_version": "1.5.0",
            "_view_count": null,
            "_view_module_version": "1.5.0",
            "box_style": "",
            "layout": "IPY_MODEL_3e0283855a6543dba31803c1aa1eaac1",
            "_model_module": "@jupyter-widgets/controls",
            "children": [
              "IPY_MODEL_ff3fad58fcdf46328275adfea4166397",
              "IPY_MODEL_a20709614eb44f418d138765b88b51c2"
            ]
          }
        },
        "3e0283855a6543dba31803c1aa1eaac1": {
          "model_module": "@jupyter-widgets/base",
          "model_name": "LayoutModel",
          "model_module_version": "1.2.0",
          "state": {
            "_view_name": "LayoutView",
            "grid_template_rows": null,
            "right": null,
            "justify_content": null,
            "_view_module": "@jupyter-widgets/base",
            "overflow": null,
            "_model_module_version": "1.2.0",
            "_view_count": null,
            "flex_flow": null,
            "width": null,
            "min_width": null,
            "border": null,
            "align_items": null,
            "bottom": null,
            "_model_module": "@jupyter-widgets/base",
            "top": null,
            "grid_column": null,
            "overflow_y": null,
            "overflow_x": null,
            "grid_auto_flow": null,
            "grid_area": null,
            "grid_template_columns": null,
            "flex": null,
            "_model_name": "LayoutModel",
            "justify_items": null,
            "grid_row": null,
            "max_height": null,
            "align_content": null,
            "visibility": null,
            "align_self": null,
            "height": null,
            "min_height": null,
            "padding": null,
            "grid_auto_rows": null,
            "grid_gap": null,
            "max_width": null,
            "order": null,
            "_view_module_version": "1.2.0",
            "grid_template_areas": null,
            "object_position": null,
            "object_fit": null,
            "grid_auto_columns": null,
            "margin": null,
            "display": null,
            "left": null
          }
        },
        "ff3fad58fcdf46328275adfea4166397": {
          "model_module": "@jupyter-widgets/controls",
          "model_name": "FloatProgressModel",
          "model_module_version": "1.5.0",
          "state": {
            "_view_name": "ProgressView",
            "style": "IPY_MODEL_25c0d36b263c4b1893dfc1668d6b323e",
            "_dom_classes": [],
            "description": "Dl Size...: 100%",
            "_model_name": "FloatProgressModel",
            "bar_style": "success",
            "max": 1,
            "_view_module": "@jupyter-widgets/controls",
            "_model_module_version": "1.5.0",
            "value": 1,
            "_view_count": null,
            "_view_module_version": "1.5.0",
            "orientation": "horizontal",
            "min": 0,
            "description_tooltip": null,
            "_model_module": "@jupyter-widgets/controls",
            "layout": "IPY_MODEL_68c8306b2dd14b2381fac233f5bebf07"
          }
        },
        "a20709614eb44f418d138765b88b51c2": {
          "model_module": "@jupyter-widgets/controls",
          "model_name": "HTMLModel",
          "model_module_version": "1.5.0",
          "state": {
            "_view_name": "HTMLView",
            "style": "IPY_MODEL_f30bc58629cc495dbd2b0d6220258eb0",
            "_dom_classes": [],
            "description": "",
            "_model_name": "HTMLModel",
            "placeholder": "​",
            "_view_module": "@jupyter-widgets/controls",
            "_model_module_version": "1.5.0",
            "value": " 246/246 [00:27&lt;00:00,  8.88 MiB/s]",
            "_view_count": null,
            "_view_module_version": "1.5.0",
            "description_tooltip": null,
            "_model_module": "@jupyter-widgets/controls",
            "layout": "IPY_MODEL_d4abec5783d04343b635e0c8ce04aad0"
          }
        },
        "25c0d36b263c4b1893dfc1668d6b323e": {
          "model_module": "@jupyter-widgets/controls",
          "model_name": "ProgressStyleModel",
          "model_module_version": "1.5.0",
          "state": {
            "_view_name": "StyleView",
            "_model_name": "ProgressStyleModel",
            "description_width": "initial",
            "_view_module": "@jupyter-widgets/base",
            "_model_module_version": "1.5.0",
            "_view_count": null,
            "_view_module_version": "1.2.0",
            "bar_color": null,
            "_model_module": "@jupyter-widgets/controls"
          }
        },
        "68c8306b2dd14b2381fac233f5bebf07": {
          "model_module": "@jupyter-widgets/base",
          "model_name": "LayoutModel",
          "model_module_version": "1.2.0",
          "state": {
            "_view_name": "LayoutView",
            "grid_template_rows": null,
            "right": null,
            "justify_content": null,
            "_view_module": "@jupyter-widgets/base",
            "overflow": null,
            "_model_module_version": "1.2.0",
            "_view_count": null,
            "flex_flow": null,
            "width": null,
            "min_width": null,
            "border": null,
            "align_items": null,
            "bottom": null,
            "_model_module": "@jupyter-widgets/base",
            "top": null,
            "grid_column": null,
            "overflow_y": null,
            "overflow_x": null,
            "grid_auto_flow": null,
            "grid_area": null,
            "grid_template_columns": null,
            "flex": null,
            "_model_name": "LayoutModel",
            "justify_items": null,
            "grid_row": null,
            "max_height": null,
            "align_content": null,
            "visibility": null,
            "align_self": null,
            "height": null,
            "min_height": null,
            "padding": null,
            "grid_auto_rows": null,
            "grid_gap": null,
            "max_width": null,
            "order": null,
            "_view_module_version": "1.2.0",
            "grid_template_areas": null,
            "object_position": null,
            "object_fit": null,
            "grid_auto_columns": null,
            "margin": null,
            "display": null,
            "left": null
          }
        },
        "f30bc58629cc495dbd2b0d6220258eb0": {
          "model_module": "@jupyter-widgets/controls",
          "model_name": "DescriptionStyleModel",
          "model_module_version": "1.5.0",
          "state": {
            "_view_name": "StyleView",
            "_model_name": "DescriptionStyleModel",
            "description_width": "",
            "_view_module": "@jupyter-widgets/base",
            "_model_module_version": "1.5.0",
            "_view_count": null,
            "_view_module_version": "1.2.0",
            "_model_module": "@jupyter-widgets/controls"
          }
        },
        "d4abec5783d04343b635e0c8ce04aad0": {
          "model_module": "@jupyter-widgets/base",
          "model_name": "LayoutModel",
          "model_module_version": "1.2.0",
          "state": {
            "_view_name": "LayoutView",
            "grid_template_rows": null,
            "right": null,
            "justify_content": null,
            "_view_module": "@jupyter-widgets/base",
            "overflow": null,
            "_model_module_version": "1.2.0",
            "_view_count": null,
            "flex_flow": null,
            "width": null,
            "min_width": null,
            "border": null,
            "align_items": null,
            "bottom": null,
            "_model_module": "@jupyter-widgets/base",
            "top": null,
            "grid_column": null,
            "overflow_y": null,
            "overflow_x": null,
            "grid_auto_flow": null,
            "grid_area": null,
            "grid_template_columns": null,
            "flex": null,
            "_model_name": "LayoutModel",
            "justify_items": null,
            "grid_row": null,
            "max_height": null,
            "align_content": null,
            "visibility": null,
            "align_self": null,
            "height": null,
            "min_height": null,
            "padding": null,
            "grid_auto_rows": null,
            "grid_gap": null,
            "max_width": null,
            "order": null,
            "_view_module_version": "1.2.0",
            "grid_template_areas": null,
            "object_position": null,
            "object_fit": null,
            "grid_auto_columns": null,
            "margin": null,
            "display": null,
            "left": null
          }
        },
        "ccba222af8df4a27af44495272d27c2d": {
          "model_module": "@jupyter-widgets/controls",
          "model_name": "HBoxModel",
          "model_module_version": "1.5.0",
          "state": {
            "_view_name": "HBoxView",
            "_dom_classes": [],
            "_model_name": "HBoxModel",
            "_view_module": "@jupyter-widgets/controls",
            "_model_module_version": "1.5.0",
            "_view_count": null,
            "_view_module_version": "1.5.0",
            "box_style": "",
            "layout": "IPY_MODEL_3193e15c9ed04af88851efbfd20343c8",
            "_model_module": "@jupyter-widgets/controls",
            "children": [
              "IPY_MODEL_6c89e1881c1343328acdb27c97ea9a46",
              "IPY_MODEL_05f2982c2d03488e9bbc4e1e652062f2"
            ]
          }
        },
        "3193e15c9ed04af88851efbfd20343c8": {
          "model_module": "@jupyter-widgets/base",
          "model_name": "LayoutModel",
          "model_module_version": "1.2.0",
          "state": {
            "_view_name": "LayoutView",
            "grid_template_rows": null,
            "right": null,
            "justify_content": null,
            "_view_module": "@jupyter-widgets/base",
            "overflow": null,
            "_model_module_version": "1.2.0",
            "_view_count": null,
            "flex_flow": null,
            "width": null,
            "min_width": null,
            "border": null,
            "align_items": null,
            "bottom": null,
            "_model_module": "@jupyter-widgets/base",
            "top": null,
            "grid_column": null,
            "overflow_y": null,
            "overflow_x": null,
            "grid_auto_flow": null,
            "grid_area": null,
            "grid_template_columns": null,
            "flex": null,
            "_model_name": "LayoutModel",
            "justify_items": null,
            "grid_row": null,
            "max_height": null,
            "align_content": null,
            "visibility": null,
            "align_self": null,
            "height": null,
            "min_height": null,
            "padding": null,
            "grid_auto_rows": null,
            "grid_gap": null,
            "max_width": null,
            "order": null,
            "_view_module_version": "1.2.0",
            "grid_template_areas": null,
            "object_position": null,
            "object_fit": null,
            "grid_auto_columns": null,
            "margin": null,
            "display": null,
            "left": null
          }
        },
        "6c89e1881c1343328acdb27c97ea9a46": {
          "model_module": "@jupyter-widgets/controls",
          "model_name": "FloatProgressModel",
          "model_module_version": "1.5.0",
          "state": {
            "_view_name": "ProgressView",
            "style": "IPY_MODEL_e9ef61c4a9f1444e9afd23636be76f66",
            "_dom_classes": [],
            "description": "Extraction completed...: 100%",
            "_model_name": "FloatProgressModel",
            "bar_style": "success",
            "max": 1,
            "_view_module": "@jupyter-widgets/controls",
            "_model_module_version": "1.5.0",
            "value": 1,
            "_view_count": null,
            "_view_module_version": "1.5.0",
            "orientation": "horizontal",
            "min": 0,
            "description_tooltip": null,
            "_model_module": "@jupyter-widgets/controls",
            "layout": "IPY_MODEL_efddd821a08244cbbcf3a822b11112a4"
          }
        },
        "05f2982c2d03488e9bbc4e1e652062f2": {
          "model_module": "@jupyter-widgets/controls",
          "model_name": "HTMLModel",
          "model_module_version": "1.5.0",
          "state": {
            "_view_name": "HTMLView",
            "style": "IPY_MODEL_a1a38ff8fe1a49f0a534125ac8597ee7",
            "_dom_classes": [],
            "description": "",
            "_model_name": "HTMLModel",
            "placeholder": "​",
            "_view_module": "@jupyter-widgets/controls",
            "_model_module_version": "1.5.0",
            "value": " 1/1 [00:27&lt;00:00, 27.65s/ file]",
            "_view_count": null,
            "_view_module_version": "1.5.0",
            "description_tooltip": null,
            "_model_module": "@jupyter-widgets/controls",
            "layout": "IPY_MODEL_c3a985ccc15f4feda311d7bef061ea98"
          }
        },
        "e9ef61c4a9f1444e9afd23636be76f66": {
          "model_module": "@jupyter-widgets/controls",
          "model_name": "ProgressStyleModel",
          "model_module_version": "1.5.0",
          "state": {
            "_view_name": "StyleView",
            "_model_name": "ProgressStyleModel",
            "description_width": "initial",
            "_view_module": "@jupyter-widgets/base",
            "_model_module_version": "1.5.0",
            "_view_count": null,
            "_view_module_version": "1.2.0",
            "bar_color": null,
            "_model_module": "@jupyter-widgets/controls"
          }
        },
        "efddd821a08244cbbcf3a822b11112a4": {
          "model_module": "@jupyter-widgets/base",
          "model_name": "LayoutModel",
          "model_module_version": "1.2.0",
          "state": {
            "_view_name": "LayoutView",
            "grid_template_rows": null,
            "right": null,
            "justify_content": null,
            "_view_module": "@jupyter-widgets/base",
            "overflow": null,
            "_model_module_version": "1.2.0",
            "_view_count": null,
            "flex_flow": null,
            "width": null,
            "min_width": null,
            "border": null,
            "align_items": null,
            "bottom": null,
            "_model_module": "@jupyter-widgets/base",
            "top": null,
            "grid_column": null,
            "overflow_y": null,
            "overflow_x": null,
            "grid_auto_flow": null,
            "grid_area": null,
            "grid_template_columns": null,
            "flex": null,
            "_model_name": "LayoutModel",
            "justify_items": null,
            "grid_row": null,
            "max_height": null,
            "align_content": null,
            "visibility": null,
            "align_self": null,
            "height": null,
            "min_height": null,
            "padding": null,
            "grid_auto_rows": null,
            "grid_gap": null,
            "max_width": null,
            "order": null,
            "_view_module_version": "1.2.0",
            "grid_template_areas": null,
            "object_position": null,
            "object_fit": null,
            "grid_auto_columns": null,
            "margin": null,
            "display": null,
            "left": null
          }
        },
        "a1a38ff8fe1a49f0a534125ac8597ee7": {
          "model_module": "@jupyter-widgets/controls",
          "model_name": "DescriptionStyleModel",
          "model_module_version": "1.5.0",
          "state": {
            "_view_name": "StyleView",
            "_model_name": "DescriptionStyleModel",
            "description_width": "",
            "_view_module": "@jupyter-widgets/base",
            "_model_module_version": "1.5.0",
            "_view_count": null,
            "_view_module_version": "1.2.0",
            "_model_module": "@jupyter-widgets/controls"
          }
        },
        "c3a985ccc15f4feda311d7bef061ea98": {
          "model_module": "@jupyter-widgets/base",
          "model_name": "LayoutModel",
          "model_module_version": "1.2.0",
          "state": {
            "_view_name": "LayoutView",
            "grid_template_rows": null,
            "right": null,
            "justify_content": null,
            "_view_module": "@jupyter-widgets/base",
            "overflow": null,
            "_model_module_version": "1.2.0",
            "_view_count": null,
            "flex_flow": null,
            "width": null,
            "min_width": null,
            "border": null,
            "align_items": null,
            "bottom": null,
            "_model_module": "@jupyter-widgets/base",
            "top": null,
            "grid_column": null,
            "overflow_y": null,
            "overflow_x": null,
            "grid_auto_flow": null,
            "grid_area": null,
            "grid_template_columns": null,
            "flex": null,
            "_model_name": "LayoutModel",
            "justify_items": null,
            "grid_row": null,
            "max_height": null,
            "align_content": null,
            "visibility": null,
            "align_self": null,
            "height": null,
            "min_height": null,
            "padding": null,
            "grid_auto_rows": null,
            "grid_gap": null,
            "max_width": null,
            "order": null,
            "_view_module_version": "1.2.0",
            "grid_template_areas": null,
            "object_position": null,
            "object_fit": null,
            "grid_auto_columns": null,
            "margin": null,
            "display": null,
            "left": null
          }
        },
        "6a0d7a291e6f4c2998c6b5f7dbce0494": {
          "model_module": "@jupyter-widgets/controls",
          "model_name": "HBoxModel",
          "model_module_version": "1.5.0",
          "state": {
            "_view_name": "HBoxView",
            "_dom_classes": [],
            "_model_name": "HBoxModel",
            "_view_module": "@jupyter-widgets/controls",
            "_model_module_version": "1.5.0",
            "_view_count": null,
            "_view_module_version": "1.5.0",
            "box_style": "",
            "layout": "IPY_MODEL_9df961200ec648c2846e960f2da56b35",
            "_model_module": "@jupyter-widgets/controls",
            "children": [
              "IPY_MODEL_652bd771c2fc43ecbc210d0e050ce7a7",
              "IPY_MODEL_4f432e8613f244ceba36cb0216700768"
            ]
          }
        },
        "9df961200ec648c2846e960f2da56b35": {
          "model_module": "@jupyter-widgets/base",
          "model_name": "LayoutModel",
          "model_module_version": "1.2.0",
          "state": {
            "_view_name": "LayoutView",
            "grid_template_rows": null,
            "right": null,
            "justify_content": null,
            "_view_module": "@jupyter-widgets/base",
            "overflow": null,
            "_model_module_version": "1.2.0",
            "_view_count": null,
            "flex_flow": null,
            "width": null,
            "min_width": null,
            "border": null,
            "align_items": null,
            "bottom": null,
            "_model_module": "@jupyter-widgets/base",
            "top": null,
            "grid_column": null,
            "overflow_y": null,
            "overflow_x": null,
            "grid_auto_flow": null,
            "grid_area": null,
            "grid_template_columns": null,
            "flex": null,
            "_model_name": "LayoutModel",
            "justify_items": null,
            "grid_row": null,
            "max_height": null,
            "align_content": null,
            "visibility": null,
            "align_self": null,
            "height": null,
            "min_height": null,
            "padding": null,
            "grid_auto_rows": null,
            "grid_gap": null,
            "max_width": null,
            "order": null,
            "_view_module_version": "1.2.0",
            "grid_template_areas": null,
            "object_position": null,
            "object_fit": null,
            "grid_auto_columns": null,
            "margin": null,
            "display": null,
            "left": null
          }
        },
        "652bd771c2fc43ecbc210d0e050ce7a7": {
          "model_module": "@jupyter-widgets/controls",
          "model_name": "FloatProgressModel",
          "model_module_version": "1.5.0",
          "state": {
            "_view_name": "ProgressView",
            "style": "IPY_MODEL_37c9cad78c854e159a1da2214a1d8ff2",
            "_dom_classes": [],
            "description": "",
            "_model_name": "FloatProgressModel",
            "bar_style": "info",
            "max": 1,
            "_view_module": "@jupyter-widgets/controls",
            "_model_module_version": "1.5.0",
            "value": 1,
            "_view_count": null,
            "_view_module_version": "1.5.0",
            "orientation": "horizontal",
            "min": 0,
            "description_tooltip": null,
            "_model_module": "@jupyter-widgets/controls",
            "layout": "IPY_MODEL_5c16bf2ccbad4d30a332e4f077b9156e"
          }
        },
        "4f432e8613f244ceba36cb0216700768": {
          "model_module": "@jupyter-widgets/controls",
          "model_name": "HTMLModel",
          "model_module_version": "1.5.0",
          "state": {
            "_view_name": "HTMLView",
            "style": "IPY_MODEL_8fd9577e541f4086a9b909ee38bb110c",
            "_dom_classes": [],
            "description": "",
            "_model_name": "HTMLModel",
            "placeholder": "​",
            "_view_module": "@jupyter-widgets/controls",
            "_model_module_version": "1.5.0",
            "value": " 5000/0 [00:37&lt;00:00, 175.70 examples/s]",
            "_view_count": null,
            "_view_module_version": "1.5.0",
            "description_tooltip": null,
            "_model_module": "@jupyter-widgets/controls",
            "layout": "IPY_MODEL_c4dd5865fa984693af7f9c9051adc0bf"
          }
        },
        "37c9cad78c854e159a1da2214a1d8ff2": {
          "model_module": "@jupyter-widgets/controls",
          "model_name": "ProgressStyleModel",
          "model_module_version": "1.5.0",
          "state": {
            "_view_name": "StyleView",
            "_model_name": "ProgressStyleModel",
            "description_width": "initial",
            "_view_module": "@jupyter-widgets/base",
            "_model_module_version": "1.5.0",
            "_view_count": null,
            "_view_module_version": "1.2.0",
            "bar_color": null,
            "_model_module": "@jupyter-widgets/controls"
          }
        },
        "5c16bf2ccbad4d30a332e4f077b9156e": {
          "model_module": "@jupyter-widgets/base",
          "model_name": "LayoutModel",
          "model_module_version": "1.2.0",
          "state": {
            "_view_name": "LayoutView",
            "grid_template_rows": null,
            "right": null,
            "justify_content": null,
            "_view_module": "@jupyter-widgets/base",
            "overflow": null,
            "_model_module_version": "1.2.0",
            "_view_count": null,
            "flex_flow": null,
            "width": null,
            "min_width": null,
            "border": null,
            "align_items": null,
            "bottom": null,
            "_model_module": "@jupyter-widgets/base",
            "top": null,
            "grid_column": null,
            "overflow_y": null,
            "overflow_x": null,
            "grid_auto_flow": null,
            "grid_area": null,
            "grid_template_columns": null,
            "flex": null,
            "_model_name": "LayoutModel",
            "justify_items": null,
            "grid_row": null,
            "max_height": null,
            "align_content": null,
            "visibility": null,
            "align_self": null,
            "height": null,
            "min_height": null,
            "padding": null,
            "grid_auto_rows": null,
            "grid_gap": null,
            "max_width": null,
            "order": null,
            "_view_module_version": "1.2.0",
            "grid_template_areas": null,
            "object_position": null,
            "object_fit": null,
            "grid_auto_columns": null,
            "margin": null,
            "display": null,
            "left": null
          }
        },
        "8fd9577e541f4086a9b909ee38bb110c": {
          "model_module": "@jupyter-widgets/controls",
          "model_name": "DescriptionStyleModel",
          "model_module_version": "1.5.0",
          "state": {
            "_view_name": "StyleView",
            "_model_name": "DescriptionStyleModel",
            "description_width": "",
            "_view_module": "@jupyter-widgets/base",
            "_model_module_version": "1.5.0",
            "_view_count": null,
            "_view_module_version": "1.2.0",
            "_model_module": "@jupyter-widgets/controls"
          }
        },
        "c4dd5865fa984693af7f9c9051adc0bf": {
          "model_module": "@jupyter-widgets/base",
          "model_name": "LayoutModel",
          "model_module_version": "1.2.0",
          "state": {
            "_view_name": "LayoutView",
            "grid_template_rows": null,
            "right": null,
            "justify_content": null,
            "_view_module": "@jupyter-widgets/base",
            "overflow": null,
            "_model_module_version": "1.2.0",
            "_view_count": null,
            "flex_flow": null,
            "width": null,
            "min_width": null,
            "border": null,
            "align_items": null,
            "bottom": null,
            "_model_module": "@jupyter-widgets/base",
            "top": null,
            "grid_column": null,
            "overflow_y": null,
            "overflow_x": null,
            "grid_auto_flow": null,
            "grid_area": null,
            "grid_template_columns": null,
            "flex": null,
            "_model_name": "LayoutModel",
            "justify_items": null,
            "grid_row": null,
            "max_height": null,
            "align_content": null,
            "visibility": null,
            "align_self": null,
            "height": null,
            "min_height": null,
            "padding": null,
            "grid_auto_rows": null,
            "grid_gap": null,
            "max_width": null,
            "order": null,
            "_view_module_version": "1.2.0",
            "grid_template_areas": null,
            "object_position": null,
            "object_fit": null,
            "grid_auto_columns": null,
            "margin": null,
            "display": null,
            "left": null
          }
        },
        "61c0e380d17a488d98501240dde3426e": {
          "model_module": "@jupyter-widgets/controls",
          "model_name": "HBoxModel",
          "model_module_version": "1.5.0",
          "state": {
            "_view_name": "HBoxView",
            "_dom_classes": [],
            "_model_name": "HBoxModel",
            "_view_module": "@jupyter-widgets/controls",
            "_model_module_version": "1.5.0",
            "_view_count": null,
            "_view_module_version": "1.5.0",
            "box_style": "",
            "layout": "IPY_MODEL_9b9d698db6be410183f40fbe4ac63e82",
            "_model_module": "@jupyter-widgets/controls",
            "children": [
              "IPY_MODEL_e36c039aad2e482d9355aae966063709",
              "IPY_MODEL_21159777e0654d998a4e3da7b2bcf9d6"
            ]
          }
        },
        "9b9d698db6be410183f40fbe4ac63e82": {
          "model_module": "@jupyter-widgets/base",
          "model_name": "LayoutModel",
          "model_module_version": "1.2.0",
          "state": {
            "_view_name": "LayoutView",
            "grid_template_rows": null,
            "right": null,
            "justify_content": null,
            "_view_module": "@jupyter-widgets/base",
            "overflow": null,
            "_model_module_version": "1.2.0",
            "_view_count": null,
            "flex_flow": null,
            "width": null,
            "min_width": null,
            "border": null,
            "align_items": null,
            "bottom": null,
            "_model_module": "@jupyter-widgets/base",
            "top": null,
            "grid_column": null,
            "overflow_y": null,
            "overflow_x": null,
            "grid_auto_flow": null,
            "grid_area": null,
            "grid_template_columns": null,
            "flex": null,
            "_model_name": "LayoutModel",
            "justify_items": null,
            "grid_row": null,
            "max_height": null,
            "align_content": null,
            "visibility": null,
            "align_self": null,
            "height": null,
            "min_height": null,
            "padding": null,
            "grid_auto_rows": null,
            "grid_gap": null,
            "max_width": null,
            "order": null,
            "_view_module_version": "1.2.0",
            "grid_template_areas": null,
            "object_position": null,
            "object_fit": null,
            "grid_auto_columns": null,
            "margin": null,
            "display": null,
            "left": null
          }
        },
        "e36c039aad2e482d9355aae966063709": {
          "model_module": "@jupyter-widgets/controls",
          "model_name": "FloatProgressModel",
          "model_module_version": "1.5.0",
          "state": {
            "_view_name": "ProgressView",
            "style": "IPY_MODEL_befe000acb6c4b3dbecf89f3a152d95a",
            "_dom_classes": [],
            "description": " 97%",
            "_model_name": "FloatProgressModel",
            "bar_style": "danger",
            "max": 5000,
            "_view_module": "@jupyter-widgets/controls",
            "_model_module_version": "1.5.0",
            "value": 4871,
            "_view_count": null,
            "_view_module_version": "1.5.0",
            "orientation": "horizontal",
            "min": 0,
            "description_tooltip": null,
            "_model_module": "@jupyter-widgets/controls",
            "layout": "IPY_MODEL_f7d063aff1674184b8379497465ad5b5"
          }
        },
        "21159777e0654d998a4e3da7b2bcf9d6": {
          "model_module": "@jupyter-widgets/controls",
          "model_name": "HTMLModel",
          "model_module_version": "1.5.0",
          "state": {
            "_view_name": "HTMLView",
            "style": "IPY_MODEL_e160ff68f2c346dc8e31b7e0b7d8b12d",
            "_dom_classes": [],
            "description": "",
            "_model_name": "HTMLModel",
            "placeholder": "​",
            "_view_module": "@jupyter-widgets/controls",
            "_model_module_version": "1.5.0",
            "value": " 4871/5000 [00:20&lt;00:00, 13650.25 examples/s]",
            "_view_count": null,
            "_view_module_version": "1.5.0",
            "description_tooltip": null,
            "_model_module": "@jupyter-widgets/controls",
            "layout": "IPY_MODEL_f90340193f694d1c83ac72196558d7a8"
          }
        },
        "befe000acb6c4b3dbecf89f3a152d95a": {
          "model_module": "@jupyter-widgets/controls",
          "model_name": "ProgressStyleModel",
          "model_module_version": "1.5.0",
          "state": {
            "_view_name": "StyleView",
            "_model_name": "ProgressStyleModel",
            "description_width": "initial",
            "_view_module": "@jupyter-widgets/base",
            "_model_module_version": "1.5.0",
            "_view_count": null,
            "_view_module_version": "1.2.0",
            "bar_color": null,
            "_model_module": "@jupyter-widgets/controls"
          }
        },
        "f7d063aff1674184b8379497465ad5b5": {
          "model_module": "@jupyter-widgets/base",
          "model_name": "LayoutModel",
          "model_module_version": "1.2.0",
          "state": {
            "_view_name": "LayoutView",
            "grid_template_rows": null,
            "right": null,
            "justify_content": null,
            "_view_module": "@jupyter-widgets/base",
            "overflow": null,
            "_model_module_version": "1.2.0",
            "_view_count": null,
            "flex_flow": null,
            "width": null,
            "min_width": null,
            "border": null,
            "align_items": null,
            "bottom": null,
            "_model_module": "@jupyter-widgets/base",
            "top": null,
            "grid_column": null,
            "overflow_y": null,
            "overflow_x": null,
            "grid_auto_flow": null,
            "grid_area": null,
            "grid_template_columns": null,
            "flex": null,
            "_model_name": "LayoutModel",
            "justify_items": null,
            "grid_row": null,
            "max_height": null,
            "align_content": null,
            "visibility": null,
            "align_self": null,
            "height": null,
            "min_height": null,
            "padding": null,
            "grid_auto_rows": null,
            "grid_gap": null,
            "max_width": null,
            "order": null,
            "_view_module_version": "1.2.0",
            "grid_template_areas": null,
            "object_position": null,
            "object_fit": null,
            "grid_auto_columns": null,
            "margin": null,
            "display": null,
            "left": null
          }
        },
        "e160ff68f2c346dc8e31b7e0b7d8b12d": {
          "model_module": "@jupyter-widgets/controls",
          "model_name": "DescriptionStyleModel",
          "model_module_version": "1.5.0",
          "state": {
            "_view_name": "StyleView",
            "_model_name": "DescriptionStyleModel",
            "description_width": "",
            "_view_module": "@jupyter-widgets/base",
            "_model_module_version": "1.5.0",
            "_view_count": null,
            "_view_module_version": "1.2.0",
            "_model_module": "@jupyter-widgets/controls"
          }
        },
        "f90340193f694d1c83ac72196558d7a8": {
          "model_module": "@jupyter-widgets/base",
          "model_name": "LayoutModel",
          "model_module_version": "1.2.0",
          "state": {
            "_view_name": "LayoutView",
            "grid_template_rows": null,
            "right": null,
            "justify_content": null,
            "_view_module": "@jupyter-widgets/base",
            "overflow": null,
            "_model_module_version": "1.2.0",
            "_view_count": null,
            "flex_flow": null,
            "width": null,
            "min_width": null,
            "border": null,
            "align_items": null,
            "bottom": null,
            "_model_module": "@jupyter-widgets/base",
            "top": null,
            "grid_column": null,
            "overflow_y": null,
            "overflow_x": null,
            "grid_auto_flow": null,
            "grid_area": null,
            "grid_template_columns": null,
            "flex": null,
            "_model_name": "LayoutModel",
            "justify_items": null,
            "grid_row": null,
            "max_height": null,
            "align_content": null,
            "visibility": null,
            "align_self": null,
            "height": null,
            "min_height": null,
            "padding": null,
            "grid_auto_rows": null,
            "grid_gap": null,
            "max_width": null,
            "order": null,
            "_view_module_version": "1.2.0",
            "grid_template_areas": null,
            "object_position": null,
            "object_fit": null,
            "grid_auto_columns": null,
            "margin": null,
            "display": null,
            "left": null
          }
        }
      }
    }
  },
  "cells": [
    {
      "cell_type": "markdown",
      "metadata": {
        "id": "view-in-github",
        "colab_type": "text"
      },
      "source": [
        "<a href=\"https://colab.research.google.com/github/guillermodulcey/TesisCinvestav/blob/main/Explicito/modelo_explicito.ipynb\" target=\"_parent\"><img src=\"https://colab.research.google.com/assets/colab-badge.svg\" alt=\"Open In Colab\"/></a>"
      ]
    },
    {
      "cell_type": "code",
      "metadata": {
        "id": "-fIgMJLBFyTr"
      },
      "source": [
        "import numpy as np\n",
        "import pandas as pd\n",
        "\n",
        "import tensorflow as tf\n",
        "import tensorflow_hub as hub\n",
        "import tensorflow_datasets as tfds\n",
        "\n",
        "from tensorflow.keras.preprocessing.text import Tokenizer\n",
        "from tensorflow.keras.preprocessing.sequence import pad_sequences"
      ],
      "execution_count": null,
      "outputs": []
    },
    {
      "cell_type": "code",
      "metadata": {
        "id": "v03il859oAhV"
      },
      "source": [
        "class DatasetAlignment():\n",
        "  def __init__(self, size=3000, val_size=2000):\n",
        "    text_dataset = tf.keras.preprocessing.text_dataset_from_directory(\n",
        "      '/content/drive/MyDrive/Datasets/TranscriptionsB',\n",
        "      labels=\"inferred\",\n",
        "      label_mode=\"int\",\n",
        "      class_names=None,\n",
        "      batch_size=2000,\n",
        "      max_length=None,\n",
        "      shuffle=True,\n",
        "      seed=123,\n",
        "      validation_split=.2,\n",
        "      subset='training',\n",
        "      follow_links=False,\n",
        "    )\n",
        "\n",
        "    text_validation = tf.keras.preprocessing.text_dataset_from_directory(\n",
        "      '/content/drive/MyDrive/Datasets/TranscriptionsB',\n",
        "      labels=\"inferred\",\n",
        "      label_mode=\"int\",\n",
        "      class_names=None,\n",
        "      batch_size=2000,\n",
        "      max_length=None,\n",
        "      shuffle=True,\n",
        "      seed=123,\n",
        "      validation_split=.2,\n",
        "      subset='validation',\n",
        "      follow_links=False,\n",
        "    )\n",
        "\n",
        "    (colorectal_dataset, colorectal_validation), colorectal_info = tfds.load('colorectal_histology', \n",
        "                                                      split=[f'train[:{size}]', f'train[{size}:]'], \n",
        "                                                      shuffle_files=False, \n",
        "                                                      with_info=True, \n",
        "                                                      as_supervised=True)\n",
        "\n",
        "    self.cats_dogs = colorectal_dataset.take(size)\n",
        "    self.reviews = text_dataset.take(size)\n",
        "\n",
        "    self.validation_cats_dogs = colorectal_validation.take(val_size)\n",
        "    self.validation_reviews = text_validation.take(val_size)\n",
        "\n",
        "  def train_text(self, max_words=10000):\n",
        "    for texts, t_labels in self.reviews.take(1):  # only take first batch of dataset\n",
        "      numpy_text = texts.numpy()\n",
        "      numpy_t_labels = t_labels.numpy()\n",
        "\n",
        "    train = pd.DataFrame()\n",
        "    train['text'] = pd.Series(numpy_text)\n",
        "    train['label'] = pd.Series(numpy_t_labels)\n",
        "\n",
        "    train_labels = train['label']\n",
        "    train_text = train['text']\n",
        "\n",
        "    train_text = train_text.apply(lambda x: x.decode('utf-8'))\n",
        "\n",
        "    self.tokenizer = Tokenizer(max_words, oov_token='<OOV>')\n",
        "\n",
        "    self.tokenizer.fit_on_texts(train_text.to_list())\n",
        "    self.total_words = len(self.tokenizer.word_index)+1\n",
        "\n",
        "    train_sequences = self.tokenizer.texts_to_sequences(train_text.to_list())\n",
        "    train_padded = pad_sequences(train_sequences)\n",
        "\n",
        "    train_labels = np.array(train_labels.to_list())\n",
        "\n",
        "    self.max_sequence_length = train_padded.shape[1]\n",
        "\n",
        "    self.reviews = tf.data.Dataset.from_tensor_slices((train_padded, train_labels))\n",
        "\n",
        "    ## Validation\n",
        "    for texts, t_labels in self.validation_reviews.take(1):  # only take first batch of dataset\n",
        "      validation_text = texts.numpy()\n",
        "      validation_labels = t_labels.numpy()\n",
        "\n",
        "    validation = pd.DataFrame()\n",
        "    validation['text'] = pd.Series(validation_text)\n",
        "    validation['label'] = pd.Series(validation_labels)\n",
        "\n",
        "    validation_labels = validation['label']\n",
        "\n",
        "    validation_text = validation['text']\n",
        "    validation_text = validation_text.apply(lambda x: x.decode('utf-8'))\n",
        "\n",
        "    validation_sequences = self.tokenizer.texts_to_sequences(validation_text.to_list())\n",
        "    validation_padded = pad_sequences(validation_sequences, maxlen=self.max_sequence_length)\n",
        "\n",
        "    validation_labels = np.array(validation_labels.to_list())\n",
        "\n",
        "    self.validation_reviews = tf.data.Dataset.from_tensor_slices((validation_padded, validation_labels))\n",
        "\n",
        "  def align(self):\n",
        "    one_i = self.cats_dogs.filter(lambda x,y: y == 0)\n",
        "    two_i = self.cats_dogs.filter(lambda x,y: y == 1)\n",
        "    \n",
        "    one_t = self.reviews.filter(lambda x,y: y == 0)\n",
        "    two_t = self.reviews.filter(lambda x,y: y == 1)\n",
        "    \n",
        "    one_z = tf.data.Dataset.zip((one_i, one_t))\n",
        "    two_z = tf.data.Dataset.zip((two_i, two_t))\n",
        "\n",
        "    merged = one_z.concatenate(two_z)\n",
        "\n",
        "    self.cats_dogs = merged.map(lambda x, y: x)\n",
        "    self.reviews = merged.map(lambda x, y: y)\n",
        "\n",
        "    return self.cats_dogs, self.reviews\n",
        "\n",
        "  def validation(self, size=10000):\n",
        "    one_i = self.validation_cats_dogs.filter(lambda x,y: y == 0)\n",
        "    two_i = self.validation_cats_dogs.filter(lambda x,y: y == 1)\n",
        "\n",
        "    one_t = self.validation_reviews.filter(lambda x,y: y == 0)\n",
        "    two_t = self.validation_reviews.filter(lambda x,y: y == 1)\n",
        "\n",
        "    one_z = tf.data.Dataset.zip((one_i, one_t))\n",
        "    two_z = tf.data.Dataset.zip((two_i, two_t))\n",
        "\n",
        "    merged = one_z.concatenate(two_z)\n",
        "\n",
        "    self.validation_cats_dogs = merged.map(lambda x, y: x)\n",
        "    self.validation_reviews = merged.map(lambda x, y: y)\n",
        "\n",
        "    return self.validation_cats_dogs, self.validation_reviews\n"
      ],
      "execution_count": null,
      "outputs": []
    },
    {
      "cell_type": "code",
      "metadata": {
        "id": "jDSHWxQfoVgt",
        "colab": {
          "base_uri": "https://localhost:8080/",
          "height": 383,
          "referenced_widgets": [
            "cba9924a2da64e9ab61656d33c57bb73",
            "b0655310d6564c91a2bf8c6a9935fb92",
            "9357571d1f0f4dc7ba157a44ce80804b",
            "cbcb0e7d8bbd4ee4b9e90f579165d0f6",
            "7516c7f781b64e66ab0e9ec37d9565a1",
            "ea89fd0f16b04188b517ffea1e449830",
            "f06bf31510054ac8af2eebf39c7848de",
            "cc6bf9c5376646fb858dad3fabb1301b",
            "380af0c3b8854f47b0ff7223d08461f6",
            "3e0283855a6543dba31803c1aa1eaac1",
            "ff3fad58fcdf46328275adfea4166397",
            "a20709614eb44f418d138765b88b51c2",
            "25c0d36b263c4b1893dfc1668d6b323e",
            "68c8306b2dd14b2381fac233f5bebf07",
            "f30bc58629cc495dbd2b0d6220258eb0",
            "d4abec5783d04343b635e0c8ce04aad0",
            "ccba222af8df4a27af44495272d27c2d",
            "3193e15c9ed04af88851efbfd20343c8",
            "6c89e1881c1343328acdb27c97ea9a46",
            "05f2982c2d03488e9bbc4e1e652062f2",
            "e9ef61c4a9f1444e9afd23636be76f66",
            "efddd821a08244cbbcf3a822b11112a4",
            "a1a38ff8fe1a49f0a534125ac8597ee7",
            "c3a985ccc15f4feda311d7bef061ea98",
            "6a0d7a291e6f4c2998c6b5f7dbce0494",
            "9df961200ec648c2846e960f2da56b35",
            "652bd771c2fc43ecbc210d0e050ce7a7",
            "4f432e8613f244ceba36cb0216700768",
            "37c9cad78c854e159a1da2214a1d8ff2",
            "5c16bf2ccbad4d30a332e4f077b9156e",
            "8fd9577e541f4086a9b909ee38bb110c",
            "c4dd5865fa984693af7f9c9051adc0bf",
            "61c0e380d17a488d98501240dde3426e",
            "9b9d698db6be410183f40fbe4ac63e82",
            "e36c039aad2e482d9355aae966063709",
            "21159777e0654d998a4e3da7b2bcf9d6",
            "befe000acb6c4b3dbecf89f3a152d95a",
            "f7d063aff1674184b8379497465ad5b5",
            "e160ff68f2c346dc8e31b7e0b7d8b12d",
            "f90340193f694d1c83ac72196558d7a8"
          ]
        },
        "outputId": "4c41214c-20b7-4132-f0e3-5c53c5caba2e"
      },
      "source": [
        "da = DatasetAlignment()"
      ],
      "execution_count": null,
      "outputs": [
        {
          "output_type": "stream",
          "text": [
            "Found 1619 files belonging to 2 classes.\n",
            "Using 1296 files for training.\n",
            "Found 1619 files belonging to 2 classes.\n",
            "Using 323 files for validation.\n",
            "\u001b[1mDownloading and preparing dataset colorectal_histology/2.0.0 (download: 246.14 MiB, generated: Unknown size, total: 246.14 MiB) to /root/tensorflow_datasets/colorectal_histology/2.0.0...\u001b[0m\n"
          ],
          "name": "stdout"
        },
        {
          "output_type": "display_data",
          "data": {
            "application/vnd.jupyter.widget-view+json": {
              "model_id": "cba9924a2da64e9ab61656d33c57bb73",
              "version_minor": 0,
              "version_major": 2
            },
            "text/plain": [
              "HBox(children=(FloatProgress(value=1.0, bar_style='info', description='Dl Completed...', max=1.0, style=Progre…"
            ]
          },
          "metadata": {
            "tags": []
          }
        },
        {
          "output_type": "display_data",
          "data": {
            "application/vnd.jupyter.widget-view+json": {
              "model_id": "380af0c3b8854f47b0ff7223d08461f6",
              "version_minor": 0,
              "version_major": 2
            },
            "text/plain": [
              "HBox(children=(FloatProgress(value=1.0, bar_style='info', description='Dl Size...', max=1.0, style=ProgressSty…"
            ]
          },
          "metadata": {
            "tags": []
          }
        },
        {
          "output_type": "display_data",
          "data": {
            "application/vnd.jupyter.widget-view+json": {
              "model_id": "ccba222af8df4a27af44495272d27c2d",
              "version_minor": 0,
              "version_major": 2
            },
            "text/plain": [
              "HBox(children=(FloatProgress(value=1.0, bar_style='info', description='Extraction completed...', max=1.0, styl…"
            ]
          },
          "metadata": {
            "tags": []
          }
        },
        {
          "output_type": "stream",
          "text": [
            "\n",
            "\n",
            "\n",
            "\n",
            "\n",
            "\n"
          ],
          "name": "stdout"
        },
        {
          "output_type": "display_data",
          "data": {
            "application/vnd.jupyter.widget-view+json": {
              "model_id": "6a0d7a291e6f4c2998c6b5f7dbce0494",
              "version_minor": 0,
              "version_major": 2
            },
            "text/plain": [
              "HBox(children=(FloatProgress(value=1.0, bar_style='info', max=1.0), HTML(value='')))"
            ]
          },
          "metadata": {
            "tags": []
          }
        },
        {
          "output_type": "stream",
          "text": [
            "\rShuffling and writing examples to /root/tensorflow_datasets/colorectal_histology/2.0.0.incompleteLMLDJL/colorectal_histology-train.tfrecord\n"
          ],
          "name": "stdout"
        },
        {
          "output_type": "display_data",
          "data": {
            "application/vnd.jupyter.widget-view+json": {
              "model_id": "61c0e380d17a488d98501240dde3426e",
              "version_minor": 0,
              "version_major": 2
            },
            "text/plain": [
              "HBox(children=(FloatProgress(value=0.0, max=5000.0), HTML(value='')))"
            ]
          },
          "metadata": {
            "tags": []
          }
        },
        {
          "output_type": "stream",
          "text": [
            "\u001b[1mDataset colorectal_histology downloaded and prepared to /root/tensorflow_datasets/colorectal_histology/2.0.0. Subsequent calls will reuse this data.\u001b[0m\n"
          ],
          "name": "stdout"
        }
      ]
    },
    {
      "cell_type": "code",
      "metadata": {
        "id": "lrW2HoK3rvPf"
      },
      "source": [
        "da.train_text()\n",
        "total_words = da.total_words\n",
        "max_sequence_length = da.max_sequence_length"
      ],
      "execution_count": null,
      "outputs": []
    },
    {
      "cell_type": "code",
      "metadata": {
        "id": "i3M4N-jZYv-5"
      },
      "source": [
        "cats_dogs, reviews = da.align()"
      ],
      "execution_count": null,
      "outputs": []
    },
    {
      "cell_type": "code",
      "metadata": {
        "id": "ccl_bN4IooGM"
      },
      "source": [
        "input_cats_dogs = cats_dogs\n",
        "\n",
        "input_reviews = reviews"
      ],
      "execution_count": null,
      "outputs": []
    },
    {
      "cell_type": "code",
      "metadata": {
        "id": "qkqcqyZoLAkF"
      },
      "source": [
        "resize_function = lambda x, y: (tf.image.resize(x, (299, 299))/255.0, y)\n",
        "\n",
        "train_batches = input_cats_dogs.map(resize_function).batch(32).prefetch(1)"
      ],
      "execution_count": null,
      "outputs": []
    },
    {
      "cell_type": "code",
      "metadata": {
        "colab": {
          "base_uri": "https://localhost:8080/"
        },
        "id": "0exDFixpocj_",
        "outputId": "32d12ba1-baf9-47f9-8fcf-100e127145d3"
      },
      "source": [
        "IMAGE_RES = 299\n",
        "URL = \"https://tfhub.dev/google/imagenet/inception_v3/feature_vector/4\"\n",
        "feature_extractor = hub.KerasLayer(URL, input_shape=(IMAGE_RES, IMAGE_RES, 3), name=\"imagenet\")\n",
        "feature_extractor.trainable = False\n",
        "\n",
        "image_model = tf.keras.Sequential([\n",
        "            feature_extractor\n",
        "])\n",
        "\n",
        "cats_dogs_encoded = image_model.predict(train_batches, verbose=1)"
      ],
      "execution_count": null,
      "outputs": [
        {
          "output_type": "stream",
          "text": [
            "24/24 [==============================] - 38s 271ms/step\n"
          ],
          "name": "stdout"
        }
      ]
    },
    {
      "cell_type": "code",
      "metadata": {
        "colab": {
          "base_uri": "https://localhost:8080/"
        },
        "id": "o4cqYCjAojsm",
        "outputId": "410f85a8-ad23-4e7c-9392-501cd48b1b50"
      },
      "source": [
        "cats_dogs_encoded.shape"
      ],
      "execution_count": null,
      "outputs": [
        {
          "output_type": "execute_result",
          "data": {
            "text/plain": [
              "(750, 2048)"
            ]
          },
          "metadata": {
            "tags": []
          },
          "execution_count": 9
        }
      ]
    },
    {
      "cell_type": "code",
      "metadata": {
        "id": "3B5b2WYspnBd"
      },
      "source": [
        "labels = np.concatenate([yc.numpy() for _ , yc in train_batches], axis=0)"
      ],
      "execution_count": null,
      "outputs": []
    },
    {
      "cell_type": "code",
      "metadata": {
        "id": "zLcYUCRWG-SY"
      },
      "source": [
        "URL = \"https://tfhub.dev/google/nnlm-en-dim50-with-normalization/2\"\n",
        "feature_extractor = hub.KerasLayer(URL, input_shape=[], dtype=tf.string)\n",
        "\n",
        "weights = feature_extractor.get_weights()\n",
        "weights = np.squeeze(weights)\n",
        "\n",
        "embedding_matrix = np.zeros((total_words,50))\n",
        "\n",
        "embedding_matrix[1:] = weights[:total_words-1]"
      ],
      "execution_count": null,
      "outputs": []
    },
    {
      "cell_type": "code",
      "metadata": {
        "colab": {
          "base_uri": "https://localhost:8080/"
        },
        "id": "W107bocdOdPI",
        "outputId": "2672cd7f-d937-49d7-9bef-a8568d9aa59a"
      },
      "source": [
        "for texts, t_labels in input_reviews.batch(10000).take(1):  # only take first batch of dataset\n",
        "    numpy_text = texts.numpy()\n",
        "    numpy_t_labels = t_labels.numpy()\n",
        "\n",
        "numpy_t_labels.shape"
      ],
      "execution_count": null,
      "outputs": [
        {
          "output_type": "execute_result",
          "data": {
            "text/plain": [
              "(750,)"
            ]
          },
          "metadata": {
            "tags": []
          },
          "execution_count": 12
        }
      ]
    },
    {
      "cell_type": "code",
      "metadata": {
        "colab": {
          "base_uri": "https://localhost:8080/"
        },
        "id": "AnQYuA_2Y-NE",
        "outputId": "efcdf28f-8919-4529-9998-f86caf649c82"
      },
      "source": [
        "tf.keras.backend.clear_session()\n",
        "\n",
        "###### Image\n",
        "input_image = tf.keras.Input(shape=(2048), name=\"input_image\")\n",
        "###############################################\n",
        "\n",
        "###### Text\n",
        "input_text = tf.keras.Input(shape=(max_sequence_length), name=\"input_text\")\n",
        "\n",
        "x = tf.keras.layers.Embedding(total_words, 50, input_length=max_sequence_length, weights=[embedding_matrix], trainable=True)(input_text)\n",
        "x = tf.keras.layers.Bidirectional(tf.keras.layers.GRU(10, return_sequences=True))(x)\n",
        "x = tf.keras.layers.GRU(10)(x)\n",
        "text_model = tf.keras.layers.Dense(16, 'relu')(x)\n",
        "###############################################\n",
        "\n",
        "\n",
        "###### Concatenate\n",
        "c = tf.keras.layers.concatenate([input_image, text_model])\n",
        "\n",
        "output = tf.keras.layers.Dense(1, 'sigmoid', name='output_image')(c)\n",
        "###############################################\n",
        "model = tf.keras.Model(inputs=[input_image, input_text], outputs=[output])\n",
        "\n",
        "model.summary()"
      ],
      "execution_count": null,
      "outputs": [
        {
          "output_type": "stream",
          "text": [
            "Model: \"model\"\n",
            "__________________________________________________________________________________________________\n",
            "Layer (type)                    Output Shape         Param #     Connected to                     \n",
            "==================================================================================================\n",
            "input_text (InputLayer)         [(None, 69)]         0                                            \n",
            "__________________________________________________________________________________________________\n",
            "embedding (Embedding)           (None, 69, 50)       208300      input_text[0][0]                 \n",
            "__________________________________________________________________________________________________\n",
            "bidirectional (Bidirectional)   (None, 69, 20)       3720        embedding[0][0]                  \n",
            "__________________________________________________________________________________________________\n",
            "gru_1 (GRU)                     (None, 10)           960         bidirectional[0][0]              \n",
            "__________________________________________________________________________________________________\n",
            "input_image (InputLayer)        [(None, 2048)]       0                                            \n",
            "__________________________________________________________________________________________________\n",
            "dense (Dense)                   (None, 16)           176         gru_1[0][0]                      \n",
            "__________________________________________________________________________________________________\n",
            "concatenate (Concatenate)       (None, 2064)         0           input_image[0][0]                \n",
            "                                                                 dense[0][0]                      \n",
            "__________________________________________________________________________________________________\n",
            "output_image (Dense)            (None, 1)            2065        concatenate[0][0]                \n",
            "==================================================================================================\n",
            "Total params: 215,221\n",
            "Trainable params: 215,221\n",
            "Non-trainable params: 0\n",
            "__________________________________________________________________________________________________\n"
          ],
          "name": "stdout"
        }
      ]
    },
    {
      "cell_type": "code",
      "metadata": {
        "colab": {
          "base_uri": "https://localhost:8080/",
          "height": 754
        },
        "id": "-1st3DlsANmh",
        "outputId": "bd865016-f1cd-4fd0-9a13-4711f85bb2cd"
      },
      "source": [
        "tf.keras.utils.plot_model(model, \"multimodal.png\", show_shapes=True)"
      ],
      "execution_count": null,
      "outputs": [
        {
          "output_type": "execute_result",
          "data": {
            "image/png": "[encoded data removed]",
            "text/plain": [
              "<IPython.core.display.Image object>"
            ]
          },
          "metadata": {
            "tags": []
          },
          "execution_count": 14
        }
      ]
    },
    {
      "cell_type": "code",
      "metadata": {
        "id": "bur2R9KIH29t"
      },
      "source": [
        "model.compile(\n",
        "    optimizer=tf.keras.optimizers.Adam(),\n",
        "    loss=tf.keras.losses.BinaryCrossentropy(),\n",
        "    metrics=['accuracy']\n",
        ")"
      ],
      "execution_count": null,
      "outputs": []
    },
    {
      "cell_type": "code",
      "metadata": {
        "id": "utQqxJ8_pBK5"
      },
      "source": [
        "class Stopper(tf.keras.callbacks.Callback):\n",
        "  def __init__(self, metric, value):\n",
        "    super().__init__()\n",
        "    self.metric = metric\n",
        "    self.value = value\n",
        "\n",
        "  def on_epoch_end(self, epoch, logs={}):\n",
        "    if(logs.get(self.metric)>self.value):\n",
        "      print(f\"\\nReached {self.value} {self.metric} or above\")\n",
        "      self.model.stop_training = True\n",
        "\n",
        "callbacks = Stopper('accuracy', 0.9)"
      ],
      "execution_count": null,
      "outputs": []
    },
    {
      "cell_type": "code",
      "metadata": {
        "colab": {
          "base_uri": "https://localhost:8080/"
        },
        "id": "CGDl6kboIoHk",
        "outputId": "1d3ab098-5463-4925-9e7f-03b088e022b1"
      },
      "source": [
        "model.fit(\n",
        "    {\"input_image\": cats_dogs_encoded, \"input_text\": numpy_text},\n",
        "    labels,\n",
        "    epochs=10,\n",
        "    # callbacks=[callbacks],\n",
        ")"
      ],
      "execution_count": null,
      "outputs": [
        {
          "output_type": "stream",
          "text": [
            "Epoch 1/10\n",
            "24/24 [==============================] - 5s 17ms/step - loss: 0.5175 - accuracy: 0.7813\n",
            "Epoch 2/10\n",
            "24/24 [==============================] - 0s 14ms/step - loss: 0.2137 - accuracy: 0.9680\n",
            "Epoch 3/10\n",
            "24/24 [==============================] - 0s 14ms/step - loss: 0.1420 - accuracy: 0.9773\n",
            "Epoch 4/10\n",
            "24/24 [==============================] - 0s 14ms/step - loss: 0.1061 - accuracy: 0.9827\n",
            "Epoch 5/10\n",
            "24/24 [==============================] - 0s 14ms/step - loss: 0.0750 - accuracy: 0.9893\n",
            "Epoch 6/10\n",
            "24/24 [==============================] - 0s 14ms/step - loss: 0.0435 - accuracy: 0.9947\n",
            "Epoch 7/10\n",
            "24/24 [==============================] - 0s 14ms/step - loss: 0.0227 - accuracy: 0.9960\n",
            "Epoch 8/10\n",
            "24/24 [==============================] - 0s 14ms/step - loss: 0.0112 - accuracy: 0.9987\n",
            "Epoch 9/10\n",
            "24/24 [==============================] - 0s 13ms/step - loss: 0.0077 - accuracy: 0.9987\n",
            "Epoch 10/10\n",
            "24/24 [==============================] - 0s 14ms/step - loss: 0.0053 - accuracy: 0.9973\n"
          ],
          "name": "stdout"
        },
        {
          "output_type": "execute_result",
          "data": {
            "text/plain": [
              "<tensorflow.python.keras.callbacks.History at 0x7f1a3ba64d10>"
            ]
          },
          "metadata": {
            "tags": []
          },
          "execution_count": 17
        }
      ]
    },
    {
      "cell_type": "code",
      "metadata": {
        "colab": {
          "base_uri": "https://localhost:8080/"
        },
        "id": "S6dRZhFOrVV1",
        "outputId": "67ce16df-224e-49ce-eb83-3d8f02a53963"
      },
      "source": [
        "da.validation()"
      ],
      "execution_count": null,
      "outputs": [
        {
          "output_type": "execute_result",
          "data": {
            "text/plain": [
              "(<MapDataset shapes: ((150, 150, 3), ()), types: (tf.uint8, tf.int64)>,\n",
              " <MapDataset shapes: ((69,), ()), types: (tf.int32, tf.int64)>)"
            ]
          },
          "metadata": {
            "tags": []
          },
          "execution_count": 18
        }
      ]
    },
    {
      "cell_type": "code",
      "metadata": {
        "id": "IfIX3wshrkoQ"
      },
      "source": [
        "validation_cats_dogs = da.validation_cats_dogs.map(resize_function).batch(32).prefetch(1)"
      ],
      "execution_count": null,
      "outputs": []
    },
    {
      "cell_type": "code",
      "metadata": {
        "colab": {
          "base_uri": "https://localhost:8080/"
        },
        "id": "jdwDLMcprm8D",
        "outputId": "6260a367-f6d1-4d4d-ed8b-0a2a798853f4"
      },
      "source": [
        "validation_cats_dogs_encoded = image_model.predict(validation_cats_dogs, verbose=1)"
      ],
      "execution_count": null,
      "outputs": [
        {
          "output_type": "stream",
          "text": [
            "12/12 [==============================] - 3s 284ms/step\n"
          ],
          "name": "stdout"
        }
      ]
    },
    {
      "cell_type": "code",
      "metadata": {
        "id": "L53lDxDQrpeC"
      },
      "source": [
        "validation_labels = np.concatenate([yc.numpy() for _ , yc in validation_cats_dogs], axis=0)"
      ],
      "execution_count": null,
      "outputs": []
    },
    {
      "cell_type": "code",
      "metadata": {
        "colab": {
          "base_uri": "https://localhost:8080/"
        },
        "id": "fCw26J9LrueD",
        "outputId": "4285dd3f-c09f-4226-b016-61abd16ae972"
      },
      "source": [
        "validation_reviews = da.validation_reviews.batch(10000)\n",
        "\n",
        "for text, labels2 in validation_reviews.take(1):  # only take first element of dataset\n",
        "    validation_numpy_text = text.numpy()\n",
        "    validation_numpy_labels = labels2.numpy()\n",
        "\n",
        "validation_numpy_labels.shape"
      ],
      "execution_count": null,
      "outputs": [
        {
          "output_type": "execute_result",
          "data": {
            "text/plain": [
              "(323,)"
            ]
          },
          "metadata": {
            "tags": []
          },
          "execution_count": 22
        }
      ]
    },
    {
      "cell_type": "code",
      "metadata": {
        "colab": {
          "base_uri": "https://localhost:8080/"
        },
        "id": "PH0Ixn3nr2eD",
        "outputId": "530dc81f-b77d-401d-e084-7c9b4054d85e"
      },
      "source": [
        "model.evaluate({\"input_image\": validation_cats_dogs_encoded, \"input_text\": validation_numpy_text},\n",
        "    validation_labels)"
      ],
      "execution_count": null,
      "outputs": [
        {
          "output_type": "stream",
          "text": [
            "11/11 [==============================] - 1s 8ms/step - loss: 0.0894 - accuracy: 0.9567\n"
          ],
          "name": "stdout"
        },
        {
          "output_type": "execute_result",
          "data": {
            "text/plain": [
              "[0.08941499143838882, 0.9566563367843628]"
            ]
          },
          "metadata": {
            "tags": []
          },
          "execution_count": 23
        }
      ]
    },
    {
      "cell_type": "code",
      "metadata": {
        "id": "JCODm-bEsbf9"
      },
      "source": [
        "model_result = model.predict({\"input_image\": validation_cats_dogs_encoded, \"input_text\": validation_numpy_text})"
      ],
      "execution_count": null,
      "outputs": []
    },
    {
      "cell_type": "code",
      "metadata": {
        "id": "kVtCJ91StfDW"
      },
      "source": [
        "model_result"
      ],
      "execution_count": null,
      "outputs": []
    },
    {
      "cell_type": "code",
      "metadata": {
        "id": "iH3b33Ncs8WL"
      },
      "source": [
        "y_pred = [1 if y_t > 0.5 else 0 for y_t in model_result]"
      ],
      "execution_count": null,
      "outputs": []
    },
    {
      "cell_type": "code",
      "metadata": {
        "colab": {
          "base_uri": "https://localhost:8080/"
        },
        "id": "IH7UZ_DUs2qa",
        "outputId": "fa8fc694-6fc5-40bb-fd83-b8c3248b8495"
      },
      "source": [
        "from sklearn.metrics import classification_report\n",
        "\n",
        "print(classification_report(y_pred, validation_numpy_labels))"
      ],
      "execution_count": null,
      "outputs": [
        {
          "output_type": "stream",
          "text": [
            "              precision    recall  f1-score   support\n",
            "\n",
            "           0       0.93      0.93      0.93       105\n",
            "           1       0.97      0.97      0.97       218\n",
            "\n",
            "    accuracy                           0.96       323\n",
            "   macro avg       0.95      0.95      0.95       323\n",
            "weighted avg       0.96      0.96      0.96       323\n",
            "\n"
          ],
          "name": "stdout"
        }
      ]
    },
    {
      "cell_type": "code",
      "metadata": {
        "colab": {
          "base_uri": "https://localhost:8080/"
        },
        "id": "ttbLDdDhs4Co",
        "outputId": "4b41c55c-7448-40fb-d624-5e85718179c5"
      },
      "source": [
        "from sklearn.metrics import confusion_matrix\n",
        "\n",
        "confusion_matrix(y_pred, validation_numpy_labels)"
      ],
      "execution_count": null,
      "outputs": [
        {
          "output_type": "execute_result",
          "data": {
            "text/plain": [
              "array([[ 98,   7],\n",
              "       [  7, 211]])"
            ]
          },
          "metadata": {
            "tags": []
          },
          "execution_count": 28
        }
      ]
    }
  ]
}