{
  "nbformat": 4,
  "nbformat_minor": 0,
  "metadata": {
    "colab": {
      "name": "ModeloSOM (medicine) v3.ipynb",
      "provenance": [],
      "collapsed_sections": [],
      "mount_file_id": "1riFuGNDbJYUUVp_6KZhA3MQHkCMcTRhA",
      "authorship_tag": "ABX9TyO7nBVSTrV+ogpJAIAy3fe3",
      "include_colab_link": true
    },
    "kernelspec": {
      "name": "python3",
      "display_name": "Python 3"
    },
    "accelerator": "GPU",
    "widgets": {
      "application/vnd.jupyter.widget-state+json": {
        "86788d67eafe4053b85b30cc757a5557": {
          "model_module": "@jupyter-widgets/controls",
          "model_name": "HBoxModel",
          "model_module_version": "1.5.0",
          "state": {
            "_view_name": "HBoxView",
            "_dom_classes": [],
            "_model_name": "HBoxModel",
            "_view_module": "@jupyter-widgets/controls",
            "_model_module_version": "1.5.0",
            "_view_count": null,
            "_view_module_version": "1.5.0",
            "box_style": "",
            "layout": "IPY_MODEL_519888c7cf3646bbad67d45a03c32ded",
            "_model_module": "@jupyter-widgets/controls",
            "children": [
              "IPY_MODEL_010627d550f34e358511cab949ca9ec6",
              "IPY_MODEL_38456703e8fa4047a0a5f27db10ff80f"
            ]
          }
        },
        "519888c7cf3646bbad67d45a03c32ded": {
          "model_module": "@jupyter-widgets/base",
          "model_name": "LayoutModel",
          "model_module_version": "1.2.0",
          "state": {
            "_view_name": "LayoutView",
            "grid_template_rows": null,
            "right": null,
            "justify_content": null,
            "_view_module": "@jupyter-widgets/base",
            "overflow": null,
            "_model_module_version": "1.2.0",
            "_view_count": null,
            "flex_flow": null,
            "width": null,
            "min_width": null,
            "border": null,
            "align_items": null,
            "bottom": null,
            "_model_module": "@jupyter-widgets/base",
            "top": null,
            "grid_column": null,
            "overflow_y": null,
            "overflow_x": null,
            "grid_auto_flow": null,
            "grid_area": null,
            "grid_template_columns": null,
            "flex": null,
            "_model_name": "LayoutModel",
            "justify_items": null,
            "grid_row": null,
            "max_height": null,
            "align_content": null,
            "visibility": null,
            "align_self": null,
            "height": null,
            "min_height": null,
            "padding": null,
            "grid_auto_rows": null,
            "grid_gap": null,
            "max_width": null,
            "order": null,
            "_view_module_version": "1.2.0",
            "grid_template_areas": null,
            "object_position": null,
            "object_fit": null,
            "grid_auto_columns": null,
            "margin": null,
            "display": null,
            "left": null
          }
        },
        "010627d550f34e358511cab949ca9ec6": {
          "model_module": "@jupyter-widgets/controls",
          "model_name": "FloatProgressModel",
          "model_module_version": "1.5.0",
          "state": {
            "_view_name": "ProgressView",
            "style": "IPY_MODEL_4f5f71abdc9f4dbabcbc6e0d7d6e5f8c",
            "_dom_classes": [],
            "description": "Dl Completed...: 100%",
            "_model_name": "FloatProgressModel",
            "bar_style": "success",
            "max": 1,
            "_view_module": "@jupyter-widgets/controls",
            "_model_module_version": "1.5.0",
            "value": 1,
            "_view_count": null,
            "_view_module_version": "1.5.0",
            "orientation": "horizontal",
            "min": 0,
            "description_tooltip": null,
            "_model_module": "@jupyter-widgets/controls",
            "layout": "IPY_MODEL_2211276f2aef48e4ba7e469d3a0843ff"
          }
        },
        "38456703e8fa4047a0a5f27db10ff80f": {
          "model_module": "@jupyter-widgets/controls",
          "model_name": "HTMLModel",
          "model_module_version": "1.5.0",
          "state": {
            "_view_name": "HTMLView",
            "style": "IPY_MODEL_9f043ed5cdca4b54b2c42168cc9f54bf",
            "_dom_classes": [],
            "description": "",
            "_model_name": "HTMLModel",
            "placeholder": "​",
            "_view_module": "@jupyter-widgets/controls",
            "_model_module_version": "1.5.0",
            "value": " 1/1 [00:20&lt;00:00, 20.74s/ url]",
            "_view_count": null,
            "_view_module_version": "1.5.0",
            "description_tooltip": null,
            "_model_module": "@jupyter-widgets/controls",
            "layout": "IPY_MODEL_e79f80c5e10041caaac70279a68ae6df"
          }
        },
        "4f5f71abdc9f4dbabcbc6e0d7d6e5f8c": {
          "model_module": "@jupyter-widgets/controls",
          "model_name": "ProgressStyleModel",
          "model_module_version": "1.5.0",
          "state": {
            "_view_name": "StyleView",
            "_model_name": "ProgressStyleModel",
            "description_width": "initial",
            "_view_module": "@jupyter-widgets/base",
            "_model_module_version": "1.5.0",
            "_view_count": null,
            "_view_module_version": "1.2.0",
            "bar_color": null,
            "_model_module": "@jupyter-widgets/controls"
          }
        },
        "2211276f2aef48e4ba7e469d3a0843ff": {
          "model_module": "@jupyter-widgets/base",
          "model_name": "LayoutModel",
          "model_module_version": "1.2.0",
          "state": {
            "_view_name": "LayoutView",
            "grid_template_rows": null,
            "right": null,
            "justify_content": null,
            "_view_module": "@jupyter-widgets/base",
            "overflow": null,
            "_model_module_version": "1.2.0",
            "_view_count": null,
            "flex_flow": null,
            "width": null,
            "min_width": null,
            "border": null,
            "align_items": null,
            "bottom": null,
            "_model_module": "@jupyter-widgets/base",
            "top": null,
            "grid_column": null,
            "overflow_y": null,
            "overflow_x": null,
            "grid_auto_flow": null,
            "grid_area": null,
            "grid_template_columns": null,
            "flex": null,
            "_model_name": "LayoutModel",
            "justify_items": null,
            "grid_row": null,
            "max_height": null,
            "align_content": null,
            "visibility": null,
            "align_self": null,
            "height": null,
            "min_height": null,
            "padding": null,
            "grid_auto_rows": null,
            "grid_gap": null,
            "max_width": null,
            "order": null,
            "_view_module_version": "1.2.0",
            "grid_template_areas": null,
            "object_position": null,
            "object_fit": null,
            "grid_auto_columns": null,
            "margin": null,
            "display": null,
            "left": null
          }
        },
        "9f043ed5cdca4b54b2c42168cc9f54bf": {
          "model_module": "@jupyter-widgets/controls",
          "model_name": "DescriptionStyleModel",
          "model_module_version": "1.5.0",
          "state": {
            "_view_name": "StyleView",
            "_model_name": "DescriptionStyleModel",
            "description_width": "",
            "_view_module": "@jupyter-widgets/base",
            "_model_module_version": "1.5.0",
            "_view_count": null,
            "_view_module_version": "1.2.0",
            "_model_module": "@jupyter-widgets/controls"
          }
        },
        "e79f80c5e10041caaac70279a68ae6df": {
          "model_module": "@jupyter-widgets/base",
          "model_name": "LayoutModel",
          "model_module_version": "1.2.0",
          "state": {
            "_view_name": "LayoutView",
            "grid_template_rows": null,
            "right": null,
            "justify_content": null,
            "_view_module": "@jupyter-widgets/base",
            "overflow": null,
            "_model_module_version": "1.2.0",
            "_view_count": null,
            "flex_flow": null,
            "width": null,
            "min_width": null,
            "border": null,
            "align_items": null,
            "bottom": null,
            "_model_module": "@jupyter-widgets/base",
            "top": null,
            "grid_column": null,
            "overflow_y": null,
            "overflow_x": null,
            "grid_auto_flow": null,
            "grid_area": null,
            "grid_template_columns": null,
            "flex": null,
            "_model_name": "LayoutModel",
            "justify_items": null,
            "grid_row": null,
            "max_height": null,
            "align_content": null,
            "visibility": null,
            "align_self": null,
            "height": null,
            "min_height": null,
            "padding": null,
            "grid_auto_rows": null,
            "grid_gap": null,
            "max_width": null,
            "order": null,
            "_view_module_version": "1.2.0",
            "grid_template_areas": null,
            "object_position": null,
            "object_fit": null,
            "grid_auto_columns": null,
            "margin": null,
            "display": null,
            "left": null
          }
        },
        "0038f0986efb406cb8709af9eafd42c0": {
          "model_module": "@jupyter-widgets/controls",
          "model_name": "HBoxModel",
          "model_module_version": "1.5.0",
          "state": {
            "_view_name": "HBoxView",
            "_dom_classes": [],
            "_model_name": "HBoxModel",
            "_view_module": "@jupyter-widgets/controls",
            "_model_module_version": "1.5.0",
            "_view_count": null,
            "_view_module_version": "1.5.0",
            "box_style": "",
            "layout": "IPY_MODEL_c1c3e1c4b397400baac818651c9d5b37",
            "_model_module": "@jupyter-widgets/controls",
            "children": [
              "IPY_MODEL_9ba91f7b66d442efac1be8f987c91405",
              "IPY_MODEL_5478f6048dd84c1288b19580be87a2bd"
            ]
          }
        },
        "c1c3e1c4b397400baac818651c9d5b37": {
          "model_module": "@jupyter-widgets/base",
          "model_name": "LayoutModel",
          "model_module_version": "1.2.0",
          "state": {
            "_view_name": "LayoutView",
            "grid_template_rows": null,
            "right": null,
            "justify_content": null,
            "_view_module": "@jupyter-widgets/base",
            "overflow": null,
            "_model_module_version": "1.2.0",
            "_view_count": null,
            "flex_flow": null,
            "width": null,
            "min_width": null,
            "border": null,
            "align_items": null,
            "bottom": null,
            "_model_module": "@jupyter-widgets/base",
            "top": null,
            "grid_column": null,
            "overflow_y": null,
            "overflow_x": null,
            "grid_auto_flow": null,
            "grid_area": null,
            "grid_template_columns": null,
            "flex": null,
            "_model_name": "LayoutModel",
            "justify_items": null,
            "grid_row": null,
            "max_height": null,
            "align_content": null,
            "visibility": null,
            "align_self": null,
            "height": null,
            "min_height": null,
            "padding": null,
            "grid_auto_rows": null,
            "grid_gap": null,
            "max_width": null,
            "order": null,
            "_view_module_version": "1.2.0",
            "grid_template_areas": null,
            "object_position": null,
            "object_fit": null,
            "grid_auto_columns": null,
            "margin": null,
            "display": null,
            "left": null
          }
        },
        "9ba91f7b66d442efac1be8f987c91405": {
          "model_module": "@jupyter-widgets/controls",
          "model_name": "FloatProgressModel",
          "model_module_version": "1.5.0",
          "state": {
            "_view_name": "ProgressView",
            "style": "IPY_MODEL_09d0c92431874c0e8a0b79a77664f4ba",
            "_dom_classes": [],
            "description": "Dl Size...: 100%",
            "_model_name": "FloatProgressModel",
            "bar_style": "success",
            "max": 1,
            "_view_module": "@jupyter-widgets/controls",
            "_model_module_version": "1.5.0",
            "value": 1,
            "_view_count": null,
            "_view_module_version": "1.5.0",
            "orientation": "horizontal",
            "min": 0,
            "description_tooltip": null,
            "_model_module": "@jupyter-widgets/controls",
            "layout": "IPY_MODEL_a1ea850535ed48f0923c843f1702b2e6"
          }
        },
        "5478f6048dd84c1288b19580be87a2bd": {
          "model_module": "@jupyter-widgets/controls",
          "model_name": "HTMLModel",
          "model_module_version": "1.5.0",
          "state": {
            "_view_name": "HTMLView",
            "style": "IPY_MODEL_b9ded3251eee49b8a6ef2853ebb8b6fe",
            "_dom_classes": [],
            "description": "",
            "_model_name": "HTMLModel",
            "placeholder": "​",
            "_view_module": "@jupyter-widgets/controls",
            "_model_module_version": "1.5.0",
            "value": " 246/246 [00:20&lt;00:00, 11.89 MiB/s]",
            "_view_count": null,
            "_view_module_version": "1.5.0",
            "description_tooltip": null,
            "_model_module": "@jupyter-widgets/controls",
            "layout": "IPY_MODEL_5d58dfec101142a7b23fee203b5e295e"
          }
        },
        "09d0c92431874c0e8a0b79a77664f4ba": {
          "model_module": "@jupyter-widgets/controls",
          "model_name": "ProgressStyleModel",
          "model_module_version": "1.5.0",
          "state": {
            "_view_name": "StyleView",
            "_model_name": "ProgressStyleModel",
            "description_width": "initial",
            "_view_module": "@jupyter-widgets/base",
            "_model_module_version": "1.5.0",
            "_view_count": null,
            "_view_module_version": "1.2.0",
            "bar_color": null,
            "_model_module": "@jupyter-widgets/controls"
          }
        },
        "a1ea850535ed48f0923c843f1702b2e6": {
          "model_module": "@jupyter-widgets/base",
          "model_name": "LayoutModel",
          "model_module_version": "1.2.0",
          "state": {
            "_view_name": "LayoutView",
            "grid_template_rows": null,
            "right": null,
            "justify_content": null,
            "_view_module": "@jupyter-widgets/base",
            "overflow": null,
            "_model_module_version": "1.2.0",
            "_view_count": null,
            "flex_flow": null,
            "width": null,
            "min_width": null,
            "border": null,
            "align_items": null,
            "bottom": null,
            "_model_module": "@jupyter-widgets/base",
            "top": null,
            "grid_column": null,
            "overflow_y": null,
            "overflow_x": null,
            "grid_auto_flow": null,
            "grid_area": null,
            "grid_template_columns": null,
            "flex": null,
            "_model_name": "LayoutModel",
            "justify_items": null,
            "grid_row": null,
            "max_height": null,
            "align_content": null,
            "visibility": null,
            "align_self": null,
            "height": null,
            "min_height": null,
            "padding": null,
            "grid_auto_rows": null,
            "grid_gap": null,
            "max_width": null,
            "order": null,
            "_view_module_version": "1.2.0",
            "grid_template_areas": null,
            "object_position": null,
            "object_fit": null,
            "grid_auto_columns": null,
            "margin": null,
            "display": null,
            "left": null
          }
        },
        "b9ded3251eee49b8a6ef2853ebb8b6fe": {
          "model_module": "@jupyter-widgets/controls",
          "model_name": "DescriptionStyleModel",
          "model_module_version": "1.5.0",
          "state": {
            "_view_name": "StyleView",
            "_model_name": "DescriptionStyleModel",
            "description_width": "",
            "_view_module": "@jupyter-widgets/base",
            "_model_module_version": "1.5.0",
            "_view_count": null,
            "_view_module_version": "1.2.0",
            "_model_module": "@jupyter-widgets/controls"
          }
        },
        "5d58dfec101142a7b23fee203b5e295e": {
          "model_module": "@jupyter-widgets/base",
          "model_name": "LayoutModel",
          "model_module_version": "1.2.0",
          "state": {
            "_view_name": "LayoutView",
            "grid_template_rows": null,
            "right": null,
            "justify_content": null,
            "_view_module": "@jupyter-widgets/base",
            "overflow": null,
            "_model_module_version": "1.2.0",
            "_view_count": null,
            "flex_flow": null,
            "width": null,
            "min_width": null,
            "border": null,
            "align_items": null,
            "bottom": null,
            "_model_module": "@jupyter-widgets/base",
            "top": null,
            "grid_column": null,
            "overflow_y": null,
            "overflow_x": null,
            "grid_auto_flow": null,
            "grid_area": null,
            "grid_template_columns": null,
            "flex": null,
            "_model_name": "LayoutModel",
            "justify_items": null,
            "grid_row": null,
            "max_height": null,
            "align_content": null,
            "visibility": null,
            "align_self": null,
            "height": null,
            "min_height": null,
            "padding": null,
            "grid_auto_rows": null,
            "grid_gap": null,
            "max_width": null,
            "order": null,
            "_view_module_version": "1.2.0",
            "grid_template_areas": null,
            "object_position": null,
            "object_fit": null,
            "grid_auto_columns": null,
            "margin": null,
            "display": null,
            "left": null
          }
        },
        "bbe2b5d8ec66419f9605c9ef9233655e": {
          "model_module": "@jupyter-widgets/controls",
          "model_name": "HBoxModel",
          "model_module_version": "1.5.0",
          "state": {
            "_view_name": "HBoxView",
            "_dom_classes": [],
            "_model_name": "HBoxModel",
            "_view_module": "@jupyter-widgets/controls",
            "_model_module_version": "1.5.0",
            "_view_count": null,
            "_view_module_version": "1.5.0",
            "box_style": "",
            "layout": "IPY_MODEL_f348af21daa5405886850c2557dc58fc",
            "_model_module": "@jupyter-widgets/controls",
            "children": [
              "IPY_MODEL_953d9179dcf140bd9f02c14d7a12c5c3",
              "IPY_MODEL_7d140fc9e22d4f659e7f93e8289e8924"
            ]
          }
        },
        "f348af21daa5405886850c2557dc58fc": {
          "model_module": "@jupyter-widgets/base",
          "model_name": "LayoutModel",
          "model_module_version": "1.2.0",
          "state": {
            "_view_name": "LayoutView",
            "grid_template_rows": null,
            "right": null,
            "justify_content": null,
            "_view_module": "@jupyter-widgets/base",
            "overflow": null,
            "_model_module_version": "1.2.0",
            "_view_count": null,
            "flex_flow": null,
            "width": null,
            "min_width": null,
            "border": null,
            "align_items": null,
            "bottom": null,
            "_model_module": "@jupyter-widgets/base",
            "top": null,
            "grid_column": null,
            "overflow_y": null,
            "overflow_x": null,
            "grid_auto_flow": null,
            "grid_area": null,
            "grid_template_columns": null,
            "flex": null,
            "_model_name": "LayoutModel",
            "justify_items": null,
            "grid_row": null,
            "max_height": null,
            "align_content": null,
            "visibility": null,
            "align_self": null,
            "height": null,
            "min_height": null,
            "padding": null,
            "grid_auto_rows": null,
            "grid_gap": null,
            "max_width": null,
            "order": null,
            "_view_module_version": "1.2.0",
            "grid_template_areas": null,
            "object_position": null,
            "object_fit": null,
            "grid_auto_columns": null,
            "margin": null,
            "display": null,
            "left": null
          }
        },
        "953d9179dcf140bd9f02c14d7a12c5c3": {
          "model_module": "@jupyter-widgets/controls",
          "model_name": "FloatProgressModel",
          "model_module_version": "1.5.0",
          "state": {
            "_view_name": "ProgressView",
            "style": "IPY_MODEL_c9979a7fb82441dfb332d440a0ac0efc",
            "_dom_classes": [],
            "description": "Extraction completed...: 100%",
            "_model_name": "FloatProgressModel",
            "bar_style": "success",
            "max": 1,
            "_view_module": "@jupyter-widgets/controls",
            "_model_module_version": "1.5.0",
            "value": 1,
            "_view_count": null,
            "_view_module_version": "1.5.0",
            "orientation": "horizontal",
            "min": 0,
            "description_tooltip": null,
            "_model_module": "@jupyter-widgets/controls",
            "layout": "IPY_MODEL_130bb2460b2447bdb91afa0f01ec1ad8"
          }
        },
        "7d140fc9e22d4f659e7f93e8289e8924": {
          "model_module": "@jupyter-widgets/controls",
          "model_name": "HTMLModel",
          "model_module_version": "1.5.0",
          "state": {
            "_view_name": "HTMLView",
            "style": "IPY_MODEL_332c559adf94465eb32a23e978893a19",
            "_dom_classes": [],
            "description": "",
            "_model_name": "HTMLModel",
            "placeholder": "​",
            "_view_module": "@jupyter-widgets/controls",
            "_model_module_version": "1.5.0",
            "value": " 1/1 [00:20&lt;00:00, 20.64s/ file]",
            "_view_count": null,
            "_view_module_version": "1.5.0",
            "description_tooltip": null,
            "_model_module": "@jupyter-widgets/controls",
            "layout": "IPY_MODEL_3c46c5e937df4553a262505e278e057f"
          }
        },
        "c9979a7fb82441dfb332d440a0ac0efc": {
          "model_module": "@jupyter-widgets/controls",
          "model_name": "ProgressStyleModel",
          "model_module_version": "1.5.0",
          "state": {
            "_view_name": "StyleView",
            "_model_name": "ProgressStyleModel",
            "description_width": "initial",
            "_view_module": "@jupyter-widgets/base",
            "_model_module_version": "1.5.0",
            "_view_count": null,
            "_view_module_version": "1.2.0",
            "bar_color": null,
            "_model_module": "@jupyter-widgets/controls"
          }
        },
        "130bb2460b2447bdb91afa0f01ec1ad8": {
          "model_module": "@jupyter-widgets/base",
          "model_name": "LayoutModel",
          "model_module_version": "1.2.0",
          "state": {
            "_view_name": "LayoutView",
            "grid_template_rows": null,
            "right": null,
            "justify_content": null,
            "_view_module": "@jupyter-widgets/base",
            "overflow": null,
            "_model_module_version": "1.2.0",
            "_view_count": null,
            "flex_flow": null,
            "width": null,
            "min_width": null,
            "border": null,
            "align_items": null,
            "bottom": null,
            "_model_module": "@jupyter-widgets/base",
            "top": null,
            "grid_column": null,
            "overflow_y": null,
            "overflow_x": null,
            "grid_auto_flow": null,
            "grid_area": null,
            "grid_template_columns": null,
            "flex": null,
            "_model_name": "LayoutModel",
            "justify_items": null,
            "grid_row": null,
            "max_height": null,
            "align_content": null,
            "visibility": null,
            "align_self": null,
            "height": null,
            "min_height": null,
            "padding": null,
            "grid_auto_rows": null,
            "grid_gap": null,
            "max_width": null,
            "order": null,
            "_view_module_version": "1.2.0",
            "grid_template_areas": null,
            "object_position": null,
            "object_fit": null,
            "grid_auto_columns": null,
            "margin": null,
            "display": null,
            "left": null
          }
        },
        "332c559adf94465eb32a23e978893a19": {
          "model_module": "@jupyter-widgets/controls",
          "model_name": "DescriptionStyleModel",
          "model_module_version": "1.5.0",
          "state": {
            "_view_name": "StyleView",
            "_model_name": "DescriptionStyleModel",
            "description_width": "",
            "_view_module": "@jupyter-widgets/base",
            "_model_module_version": "1.5.0",
            "_view_count": null,
            "_view_module_version": "1.2.0",
            "_model_module": "@jupyter-widgets/controls"
          }
        },
        "3c46c5e937df4553a262505e278e057f": {
          "model_module": "@jupyter-widgets/base",
          "model_name": "LayoutModel",
          "model_module_version": "1.2.0",
          "state": {
            "_view_name": "LayoutView",
            "grid_template_rows": null,
            "right": null,
            "justify_content": null,
            "_view_module": "@jupyter-widgets/base",
            "overflow": null,
            "_model_module_version": "1.2.0",
            "_view_count": null,
            "flex_flow": null,
            "width": null,
            "min_width": null,
            "border": null,
            "align_items": null,
            "bottom": null,
            "_model_module": "@jupyter-widgets/base",
            "top": null,
            "grid_column": null,
            "overflow_y": null,
            "overflow_x": null,
            "grid_auto_flow": null,
            "grid_area": null,
            "grid_template_columns": null,
            "flex": null,
            "_model_name": "LayoutModel",
            "justify_items": null,
            "grid_row": null,
            "max_height": null,
            "align_content": null,
            "visibility": null,
            "align_self": null,
            "height": null,
            "min_height": null,
            "padding": null,
            "grid_auto_rows": null,
            "grid_gap": null,
            "max_width": null,
            "order": null,
            "_view_module_version": "1.2.0",
            "grid_template_areas": null,
            "object_position": null,
            "object_fit": null,
            "grid_auto_columns": null,
            "margin": null,
            "display": null,
            "left": null
          }
        },
        "ce5bedd5ad904ae88fb7f9009189c856": {
          "model_module": "@jupyter-widgets/controls",
          "model_name": "HBoxModel",
          "model_module_version": "1.5.0",
          "state": {
            "_view_name": "HBoxView",
            "_dom_classes": [],
            "_model_name": "HBoxModel",
            "_view_module": "@jupyter-widgets/controls",
            "_model_module_version": "1.5.0",
            "_view_count": null,
            "_view_module_version": "1.5.0",
            "box_style": "",
            "layout": "IPY_MODEL_f60c730b83cd4f1789b7696877999c12",
            "_model_module": "@jupyter-widgets/controls",
            "children": [
              "IPY_MODEL_354feda56fb64a3e82c9096dc92b2e07",
              "IPY_MODEL_2157c41f3e424217a102aacf30f8e74f"
            ]
          }
        },
        "f60c730b83cd4f1789b7696877999c12": {
          "model_module": "@jupyter-widgets/base",
          "model_name": "LayoutModel",
          "model_module_version": "1.2.0",
          "state": {
            "_view_name": "LayoutView",
            "grid_template_rows": null,
            "right": null,
            "justify_content": null,
            "_view_module": "@jupyter-widgets/base",
            "overflow": null,
            "_model_module_version": "1.2.0",
            "_view_count": null,
            "flex_flow": null,
            "width": null,
            "min_width": null,
            "border": null,
            "align_items": null,
            "bottom": null,
            "_model_module": "@jupyter-widgets/base",
            "top": null,
            "grid_column": null,
            "overflow_y": null,
            "overflow_x": null,
            "grid_auto_flow": null,
            "grid_area": null,
            "grid_template_columns": null,
            "flex": null,
            "_model_name": "LayoutModel",
            "justify_items": null,
            "grid_row": null,
            "max_height": null,
            "align_content": null,
            "visibility": null,
            "align_self": null,
            "height": null,
            "min_height": null,
            "padding": null,
            "grid_auto_rows": null,
            "grid_gap": null,
            "max_width": null,
            "order": null,
            "_view_module_version": "1.2.0",
            "grid_template_areas": null,
            "object_position": null,
            "object_fit": null,
            "grid_auto_columns": null,
            "margin": null,
            "display": null,
            "left": null
          }
        },
        "354feda56fb64a3e82c9096dc92b2e07": {
          "model_module": "@jupyter-widgets/controls",
          "model_name": "FloatProgressModel",
          "model_module_version": "1.5.0",
          "state": {
            "_view_name": "ProgressView",
            "style": "IPY_MODEL_b8a2d4d8a74c45b0b167e27a0f52c854",
            "_dom_classes": [],
            "description": "",
            "_model_name": "FloatProgressModel",
            "bar_style": "info",
            "max": 1,
            "_view_module": "@jupyter-widgets/controls",
            "_model_module_version": "1.5.0",
            "value": 1,
            "_view_count": null,
            "_view_module_version": "1.5.0",
            "orientation": "horizontal",
            "min": 0,
            "description_tooltip": null,
            "_model_module": "@jupyter-widgets/controls",
            "layout": "IPY_MODEL_2b15b9e9070344069a442b284283aa5e"
          }
        },
        "2157c41f3e424217a102aacf30f8e74f": {
          "model_module": "@jupyter-widgets/controls",
          "model_name": "HTMLModel",
          "model_module_version": "1.5.0",
          "state": {
            "_view_name": "HTMLView",
            "style": "IPY_MODEL_725c2152676244cba1fd41db88f417c1",
            "_dom_classes": [],
            "description": "",
            "_model_name": "HTMLModel",
            "placeholder": "​",
            "_view_module": "@jupyter-widgets/controls",
            "_model_module_version": "1.5.0",
            "value": " 5000/0 [00:37&lt;00:00, 178.37 examples/s]",
            "_view_count": null,
            "_view_module_version": "1.5.0",
            "description_tooltip": null,
            "_model_module": "@jupyter-widgets/controls",
            "layout": "IPY_MODEL_3e8d321543e04e95b1a758a55afac33b"
          }
        },
        "b8a2d4d8a74c45b0b167e27a0f52c854": {
          "model_module": "@jupyter-widgets/controls",
          "model_name": "ProgressStyleModel",
          "model_module_version": "1.5.0",
          "state": {
            "_view_name": "StyleView",
            "_model_name": "ProgressStyleModel",
            "description_width": "initial",
            "_view_module": "@jupyter-widgets/base",
            "_model_module_version": "1.5.0",
            "_view_count": null,
            "_view_module_version": "1.2.0",
            "bar_color": null,
            "_model_module": "@jupyter-widgets/controls"
          }
        },
        "2b15b9e9070344069a442b284283aa5e": {
          "model_module": "@jupyter-widgets/base",
          "model_name": "LayoutModel",
          "model_module_version": "1.2.0",
          "state": {
            "_view_name": "LayoutView",
            "grid_template_rows": null,
            "right": null,
            "justify_content": null,
            "_view_module": "@jupyter-widgets/base",
            "overflow": null,
            "_model_module_version": "1.2.0",
            "_view_count": null,
            "flex_flow": null,
            "width": null,
            "min_width": null,
            "border": null,
            "align_items": null,
            "bottom": null,
            "_model_module": "@jupyter-widgets/base",
            "top": null,
            "grid_column": null,
            "overflow_y": null,
            "overflow_x": null,
            "grid_auto_flow": null,
            "grid_area": null,
            "grid_template_columns": null,
            "flex": null,
            "_model_name": "LayoutModel",
            "justify_items": null,
            "grid_row": null,
            "max_height": null,
            "align_content": null,
            "visibility": null,
            "align_self": null,
            "height": null,
            "min_height": null,
            "padding": null,
            "grid_auto_rows": null,
            "grid_gap": null,
            "max_width": null,
            "order": null,
            "_view_module_version": "1.2.0",
            "grid_template_areas": null,
            "object_position": null,
            "object_fit": null,
            "grid_auto_columns": null,
            "margin": null,
            "display": null,
            "left": null
          }
        },
        "725c2152676244cba1fd41db88f417c1": {
          "model_module": "@jupyter-widgets/controls",
          "model_name": "DescriptionStyleModel",
          "model_module_version": "1.5.0",
          "state": {
            "_view_name": "StyleView",
            "_model_name": "DescriptionStyleModel",
            "description_width": "",
            "_view_module": "@jupyter-widgets/base",
            "_model_module_version": "1.5.0",
            "_view_count": null,
            "_view_module_version": "1.2.0",
            "_model_module": "@jupyter-widgets/controls"
          }
        },
        "3e8d321543e04e95b1a758a55afac33b": {
          "model_module": "@jupyter-widgets/base",
          "model_name": "LayoutModel",
          "model_module_version": "1.2.0",
          "state": {
            "_view_name": "LayoutView",
            "grid_template_rows": null,
            "right": null,
            "justify_content": null,
            "_view_module": "@jupyter-widgets/base",
            "overflow": null,
            "_model_module_version": "1.2.0",
            "_view_count": null,
            "flex_flow": null,
            "width": null,
            "min_width": null,
            "border": null,
            "align_items": null,
            "bottom": null,
            "_model_module": "@jupyter-widgets/base",
            "top": null,
            "grid_column": null,
            "overflow_y": null,
            "overflow_x": null,
            "grid_auto_flow": null,
            "grid_area": null,
            "grid_template_columns": null,
            "flex": null,
            "_model_name": "LayoutModel",
            "justify_items": null,
            "grid_row": null,
            "max_height": null,
            "align_content": null,
            "visibility": null,
            "align_self": null,
            "height": null,
            "min_height": null,
            "padding": null,
            "grid_auto_rows": null,
            "grid_gap": null,
            "max_width": null,
            "order": null,
            "_view_module_version": "1.2.0",
            "grid_template_areas": null,
            "object_position": null,
            "object_fit": null,
            "grid_auto_columns": null,
            "margin": null,
            "display": null,
            "left": null
          }
        },
        "3ea80308493a44a79db29dc3aa08364d": {
          "model_module": "@jupyter-widgets/controls",
          "model_name": "HBoxModel",
          "model_module_version": "1.5.0",
          "state": {
            "_view_name": "HBoxView",
            "_dom_classes": [],
            "_model_name": "HBoxModel",
            "_view_module": "@jupyter-widgets/controls",
            "_model_module_version": "1.5.0",
            "_view_count": null,
            "_view_module_version": "1.5.0",
            "box_style": "",
            "layout": "IPY_MODEL_03d296db9c9c4f918c2652a969f03ac5",
            "_model_module": "@jupyter-widgets/controls",
            "children": [
              "IPY_MODEL_b76ad776a2794606aaf114c8616c5409",
              "IPY_MODEL_2d0777cb27d845a2aca6f29c471265d4"
            ]
          }
        },
        "03d296db9c9c4f918c2652a969f03ac5": {
          "model_module": "@jupyter-widgets/base",
          "model_name": "LayoutModel",
          "model_module_version": "1.2.0",
          "state": {
            "_view_name": "LayoutView",
            "grid_template_rows": null,
            "right": null,
            "justify_content": null,
            "_view_module": "@jupyter-widgets/base",
            "overflow": null,
            "_model_module_version": "1.2.0",
            "_view_count": null,
            "flex_flow": null,
            "width": null,
            "min_width": null,
            "border": null,
            "align_items": null,
            "bottom": null,
            "_model_module": "@jupyter-widgets/base",
            "top": null,
            "grid_column": null,
            "overflow_y": null,
            "overflow_x": null,
            "grid_auto_flow": null,
            "grid_area": null,
            "grid_template_columns": null,
            "flex": null,
            "_model_name": "LayoutModel",
            "justify_items": null,
            "grid_row": null,
            "max_height": null,
            "align_content": null,
            "visibility": null,
            "align_self": null,
            "height": null,
            "min_height": null,
            "padding": null,
            "grid_auto_rows": null,
            "grid_gap": null,
            "max_width": null,
            "order": null,
            "_view_module_version": "1.2.0",
            "grid_template_areas": null,
            "object_position": null,
            "object_fit": null,
            "grid_auto_columns": null,
            "margin": null,
            "display": null,
            "left": null
          }
        },
        "b76ad776a2794606aaf114c8616c5409": {
          "model_module": "@jupyter-widgets/controls",
          "model_name": "FloatProgressModel",
          "model_module_version": "1.5.0",
          "state": {
            "_view_name": "ProgressView",
            "style": "IPY_MODEL_54739c7de0274221a78fe76477d90907",
            "_dom_classes": [],
            "description": " 75%",
            "_model_name": "FloatProgressModel",
            "bar_style": "danger",
            "max": 5000,
            "_view_module": "@jupyter-widgets/controls",
            "_model_module_version": "1.5.0",
            "value": 3731,
            "_view_count": null,
            "_view_module_version": "1.5.0",
            "orientation": "horizontal",
            "min": 0,
            "description_tooltip": null,
            "_model_module": "@jupyter-widgets/controls",
            "layout": "IPY_MODEL_f3e818ba49a24abdb5d2b16487e027bc"
          }
        },
        "2d0777cb27d845a2aca6f29c471265d4": {
          "model_module": "@jupyter-widgets/controls",
          "model_name": "HTMLModel",
          "model_module_version": "1.5.0",
          "state": {
            "_view_name": "HTMLView",
            "style": "IPY_MODEL_1705246ac0a0480c8279179c323888a2",
            "_dom_classes": [],
            "description": "",
            "_model_name": "HTMLModel",
            "placeholder": "​",
            "_view_module": "@jupyter-widgets/controls",
            "_model_module_version": "1.5.0",
            "value": " 3731/5000 [00:00&lt;00:00, 16557.03 examples/s]",
            "_view_count": null,
            "_view_module_version": "1.5.0",
            "description_tooltip": null,
            "_model_module": "@jupyter-widgets/controls",
            "layout": "IPY_MODEL_35519979840b4c80b47e9a90dac436d1"
          }
        },
        "54739c7de0274221a78fe76477d90907": {
          "model_module": "@jupyter-widgets/controls",
          "model_name": "ProgressStyleModel",
          "model_module_version": "1.5.0",
          "state": {
            "_view_name": "StyleView",
            "_model_name": "ProgressStyleModel",
            "description_width": "initial",
            "_view_module": "@jupyter-widgets/base",
            "_model_module_version": "1.5.0",
            "_view_count": null,
            "_view_module_version": "1.2.0",
            "bar_color": null,
            "_model_module": "@jupyter-widgets/controls"
          }
        },
        "f3e818ba49a24abdb5d2b16487e027bc": {
          "model_module": "@jupyter-widgets/base",
          "model_name": "LayoutModel",
          "model_module_version": "1.2.0",
          "state": {
            "_view_name": "LayoutView",
            "grid_template_rows": null,
            "right": null,
            "justify_content": null,
            "_view_module": "@jupyter-widgets/base",
            "overflow": null,
            "_model_module_version": "1.2.0",
            "_view_count": null,
            "flex_flow": null,
            "width": null,
            "min_width": null,
            "border": null,
            "align_items": null,
            "bottom": null,
            "_model_module": "@jupyter-widgets/base",
            "top": null,
            "grid_column": null,
            "overflow_y": null,
            "overflow_x": null,
            "grid_auto_flow": null,
            "grid_area": null,
            "grid_template_columns": null,
            "flex": null,
            "_model_name": "LayoutModel",
            "justify_items": null,
            "grid_row": null,
            "max_height": null,
            "align_content": null,
            "visibility": null,
            "align_self": null,
            "height": null,
            "min_height": null,
            "padding": null,
            "grid_auto_rows": null,
            "grid_gap": null,
            "max_width": null,
            "order": null,
            "_view_module_version": "1.2.0",
            "grid_template_areas": null,
            "object_position": null,
            "object_fit": null,
            "grid_auto_columns": null,
            "margin": null,
            "display": null,
            "left": null
          }
        },
        "1705246ac0a0480c8279179c323888a2": {
          "model_module": "@jupyter-widgets/controls",
          "model_name": "DescriptionStyleModel",
          "model_module_version": "1.5.0",
          "state": {
            "_view_name": "StyleView",
            "_model_name": "DescriptionStyleModel",
            "description_width": "",
            "_view_module": "@jupyter-widgets/base",
            "_model_module_version": "1.5.0",
            "_view_count": null,
            "_view_module_version": "1.2.0",
            "_model_module": "@jupyter-widgets/controls"
          }
        },
        "35519979840b4c80b47e9a90dac436d1": {
          "model_module": "@jupyter-widgets/base",
          "model_name": "LayoutModel",
          "model_module_version": "1.2.0",
          "state": {
            "_view_name": "LayoutView",
            "grid_template_rows": null,
            "right": null,
            "justify_content": null,
            "_view_module": "@jupyter-widgets/base",
            "overflow": null,
            "_model_module_version": "1.2.0",
            "_view_count": null,
            "flex_flow": null,
            "width": null,
            "min_width": null,
            "border": null,
            "align_items": null,
            "bottom": null,
            "_model_module": "@jupyter-widgets/base",
            "top": null,
            "grid_column": null,
            "overflow_y": null,
            "overflow_x": null,
            "grid_auto_flow": null,
            "grid_area": null,
            "grid_template_columns": null,
            "flex": null,
            "_model_name": "LayoutModel",
            "justify_items": null,
            "grid_row": null,
            "max_height": null,
            "align_content": null,
            "visibility": null,
            "align_self": null,
            "height": null,
            "min_height": null,
            "padding": null,
            "grid_auto_rows": null,
            "grid_gap": null,
            "max_width": null,
            "order": null,
            "_view_module_version": "1.2.0",
            "grid_template_areas": null,
            "object_position": null,
            "object_fit": null,
            "grid_auto_columns": null,
            "margin": null,
            "display": null,
            "left": null
          }
        }
      }
    }
  },
  "cells": [
    {
      "cell_type": "markdown",
      "metadata": {
        "id": "view-in-github",
        "colab_type": "text"
      },
      "source": [
        "<a href=\"https://colab.research.google.com/github/guillermodulcey/TesisCinvestav/blob/main/MSR/ModeloMSR.ipynb\" target=\"_parent\"><img src=\"https://colab.research.google.com/assets/colab-badge.svg\" alt=\"Open In Colab\"/></a>"
      ]
    },
    {
      "cell_type": "markdown",
      "metadata": {
        "id": "y5NRmHo7hvE4"
      },
      "source": [
        "# Dependencias\n",
        "\n"
      ]
    },
    {
      "cell_type": "code",
      "metadata": {
        "id": "pIuyUJkAFgw5"
      },
      "source": [
        "import numpy as np\n",
        "import pandas as pd\n",
        "import matplotlib.pyplot as plt\n",
        "\n",
        "import tensorflow as tf\n",
        "import tensorflow_hub as hub\n",
        "import tensorflow_datasets as tfds\n",
        "\n",
        "from tensorflow.keras.preprocessing.text import Tokenizer\n",
        "from tensorflow.keras.preprocessing.sequence import pad_sequences"
      ],
      "execution_count": null,
      "outputs": []
    },
    {
      "cell_type": "code",
      "metadata": {
        "id": "fEUd4P3_FliE"
      },
      "source": [
        "class DatasetAlignment():\n",
        "  def __init__(self, size=3000, val_size=2000):\n",
        "    text_dataset = tf.keras.preprocessing.text_dataset_from_directory(\n",
        "      '/content/drive/MyDrive/Datasets/TranscriptionsB',\n",
        "      labels=\"inferred\",\n",
        "      label_mode=\"int\",\n",
        "      class_names=None,\n",
        "      batch_size=2000,\n",
        "      max_length=None,\n",
        "      shuffle=True,\n",
        "      seed=123,\n",
        "      validation_split=.2,\n",
        "      subset='training',\n",
        "      follow_links=False,\n",
        "    )\n",
        "\n",
        "    text_validation = tf.keras.preprocessing.text_dataset_from_directory(\n",
        "      '/content/drive/MyDrive/Datasets/TranscriptionsB',\n",
        "      labels=\"inferred\",\n",
        "      label_mode=\"int\",\n",
        "      class_names=None,\n",
        "      batch_size=2000,\n",
        "      max_length=None,\n",
        "      shuffle=True,\n",
        "      seed=123,\n",
        "      validation_split=.2,\n",
        "      subset='validation',\n",
        "      follow_links=False,\n",
        "    )\n",
        "\n",
        "    (colorectal_dataset, colorectal_validation), colorectal_info = tfds.load('colorectal_histology', \n",
        "                                                      split=[f'train[:{size}]', f'train[{size}:]'], \n",
        "                                                      shuffle_files=False, \n",
        "                                                      with_info=True, \n",
        "                                                      as_supervised=True)\n",
        "\n",
        "    self.cats_dogs = colorectal_dataset.take(size)\n",
        "    self.reviews = text_dataset.take(size)\n",
        "\n",
        "    self.validation_cats_dogs = colorectal_validation.take(val_size)\n",
        "    self.validation_reviews = text_validation.take(val_size)\n",
        "\n",
        "  def train_text(self, max_words=10000):\n",
        "    for texts, t_labels in self.reviews.take(1):  # only take first batch of dataset\n",
        "      numpy_text = texts.numpy()\n",
        "      numpy_t_labels = t_labels.numpy()\n",
        "\n",
        "    train = pd.DataFrame()\n",
        "    train['text'] = pd.Series(numpy_text)\n",
        "    train['label'] = pd.Series(numpy_t_labels)\n",
        "\n",
        "    train_labels = train['label']\n",
        "    train_text = train['text']\n",
        "\n",
        "    train_text = train_text.apply(lambda x: x.decode('utf-8'))\n",
        "\n",
        "    self.tokenizer = Tokenizer(max_words, oov_token='<OOV>')\n",
        "\n",
        "    self.tokenizer.fit_on_texts(train_text.to_list())\n",
        "    self.total_words = len(self.tokenizer.word_index)+1\n",
        "\n",
        "    train_sequences = self.tokenizer.texts_to_sequences(train_text.to_list())\n",
        "    train_padded = pad_sequences(train_sequences)\n",
        "\n",
        "    train_labels = np.array(train_labels.to_list())\n",
        "\n",
        "    self.max_sequence_length = train_padded.shape[1]\n",
        "\n",
        "    self.reviews = tf.data.Dataset.from_tensor_slices((train_padded, train_labels))\n",
        "\n",
        "    ## Validation\n",
        "    for texts, t_labels in self.validation_reviews.take(1):  # only take first batch of dataset\n",
        "      validation_text = texts.numpy()\n",
        "      validation_labels = t_labels.numpy()\n",
        "\n",
        "    validation = pd.DataFrame()\n",
        "    validation['text'] = pd.Series(validation_text)\n",
        "    validation['label'] = pd.Series(validation_labels)\n",
        "\n",
        "    validation_labels = validation['label']\n",
        "\n",
        "    validation_text = validation['text']\n",
        "    validation_text = validation_text.apply(lambda x: x.decode('utf-8'))\n",
        "\n",
        "    validation_sequences = self.tokenizer.texts_to_sequences(validation_text.to_list())\n",
        "    validation_padded = pad_sequences(validation_sequences, maxlen=self.max_sequence_length)\n",
        "\n",
        "    validation_labels = np.array(validation_labels.to_list())\n",
        "\n",
        "    self.validation_reviews = tf.data.Dataset.from_tensor_slices((validation_padded, validation_labels))\n",
        "\n",
        "  def align(self):\n",
        "    one_i = self.cats_dogs.filter(lambda x,y: y == 0)\n",
        "    two_i = self.cats_dogs.filter(lambda x,y: y == 1)\n",
        "    \n",
        "    one_t = self.reviews.filter(lambda x,y: y == 0)\n",
        "    two_t = self.reviews.filter(lambda x,y: y == 1)\n",
        "    \n",
        "    one_z = tf.data.Dataset.zip((one_i, one_t))\n",
        "    two_z = tf.data.Dataset.zip((two_i, two_t))\n",
        "\n",
        "    merged = one_z.concatenate(two_z)\n",
        "\n",
        "    self.cats_dogs = merged.map(lambda x, y: x)\n",
        "    self.reviews = merged.map(lambda x, y: y)\n",
        "\n",
        "    return self.cats_dogs, self.reviews\n",
        "\n",
        "  def validation(self, size=10000):\n",
        "    one_i = self.validation_cats_dogs.filter(lambda x,y: y == 0)\n",
        "    two_i = self.validation_cats_dogs.filter(lambda x,y: y == 1)\n",
        "\n",
        "    one_t = self.validation_reviews.filter(lambda x,y: y == 0)\n",
        "    two_t = self.validation_reviews.filter(lambda x,y: y == 1)\n",
        "\n",
        "    one_z = tf.data.Dataset.zip((one_i, one_t))\n",
        "    two_z = tf.data.Dataset.zip((two_i, two_t))\n",
        "\n",
        "    merged = one_z.concatenate(two_z)\n",
        "\n",
        "    self.validation_cats_dogs = merged.map(lambda x, y: x)\n",
        "    self.validation_reviews = merged.map(lambda x, y: y)\n",
        "\n",
        "    return self.validation_cats_dogs, self.validation_reviews\n"
      ],
      "execution_count": null,
      "outputs": []
    },
    {
      "cell_type": "code",
      "metadata": {
        "id": "Re05RP9SmRSm"
      },
      "source": [
        "from scipy.spatial import distance\n",
        "\n",
        "class SOM():\n",
        "  def __init__(self, m, n, inputs, seed=123):\n",
        "    self.m = m\n",
        "    self.n = n\n",
        "    self.dim = inputs.shape[1]\n",
        "    self.std_coeff = 0.5\n",
        "\n",
        "    self.initial_learning_rate = 0.1\n",
        "    self.initial_radius = np.max((self.m, self.n)) / 2\n",
        "    self.inputs = inputs\n",
        "    self.w_init = tf.random_uniform_initializer(maxval=1, seed=seed)\n",
        "    self.weights = tf.Variable(initial_value=self.w_init(shape=[self.m * self.n, self.dim], dtype=\"float32\"), name='weights')\n",
        "    self.location_vects = tf.constant(np.array(list(self.neuron_locations())), name='Location_Vectors')\n",
        "\n",
        "  def neuron_locations(self):\n",
        "    for i in range(self.m):\n",
        "      for j in range(self.n):\n",
        "          yield np.array([i, j])\n",
        "\n",
        "  def train(self, max_epochs):\n",
        "    tf_inputs = tf.Variable(self.inputs)\n",
        "    for epoch in range(1, max_epochs+1):\n",
        "      mean = tf.reduce_mean(self.weights)\n",
        "      std = tf.sqrt(tf.reduce_mean(tf.math.squared_difference(self.weights, mean)))\n",
        "      max = tf.reduce_max(self.weights)\n",
        "      min = tf.reduce_min(self.weights)\n",
        "\n",
        "      squared_distance = tf.reduce_sum(tf.pow(tf.subtract(tf.expand_dims(self.weights, axis=0),tf.expand_dims(tf_inputs, axis=1)), 2), 2)\n",
        "      # BMU_Indices (Best matching unit)\n",
        "      bmu_indices = tf.argmin(squared_distance, axis=1)\n",
        "      # BMU_Locations\n",
        "      bmu_locs = tf.reshape(tf.gather(self.location_vects, bmu_indices), [-1, 2])\n",
        "      # Learning_Rate\n",
        "      radius = tf.subtract(self.initial_radius, tf.multiply(epoch, tf.divide(tf.cast(tf.subtract(self.initial_radius, 1), tf.float32),\n",
        "                                            tf.cast(tf.subtract(max_epochs+1, 1), tf.float32))))\n",
        "      alpha = tf.multiply(self.initial_learning_rate, tf.subtract(1.0, tf.divide(tf.cast(epoch, tf.float32),\n",
        "                                                  tf.cast(max_epochs+1, tf.float32))))\n",
        "      bmu_distance_squares = tf.reduce_sum(tf.pow(tf.subtract(tf.expand_dims(self.location_vects, axis=0),\n",
        "                                                  tf.expand_dims(bmu_locs, axis=1)), 2), 2)\n",
        "      neighbourhood_func = tf.exp(tf.divide(tf.negative(tf.cast(bmu_distance_squares, \"float32\")), tf.multiply(\n",
        "                                                        tf.square(tf.multiply(radius, self.std_coeff)), 2)))\n",
        "      learning_rate_op = tf.multiply(neighbourhood_func, alpha)\n",
        "      # Update_Weights\n",
        "      numerators = tf.reduce_sum(tf.multiply(tf.expand_dims(learning_rate_op, axis=-1), tf.expand_dims(tf_inputs, axis=1)), axis=0)\n",
        "      denominators = tf.expand_dims(tf.reduce_sum(learning_rate_op, axis=0) + float(1e-12), axis=-1)\n",
        "        \n",
        "      self.weights = tf.divide(numerators, denominators)\n",
        "    return self.weights\n",
        "\n",
        "  def transform(self):\n",
        "    result_matrix = list()\n",
        "    for i, row in enumerate(self.inputs):\n",
        "      image_document = np.zeros(shape=self.m*self.n, dtype=np.float32)\n",
        "      for j, node in enumerate(self.weights.numpy()):\n",
        "        #image_document[j]=np.dot(row, node.weights)\n",
        "        image_document[j] = 1.0/distance.euclidean(row, node)\n",
        "      mn = image_document.min()\n",
        "      mx = image_document.max()\n",
        "      image_document = ((image_document-mn)/(mx-mn)*255.9).astype(np.uint8)\n",
        "      image_document = image_document.reshape(self.m, self.n)\n",
        "      result_matrix.append(image_document)\n",
        "\n",
        "    return np.array(result_matrix)\n",
        "\n",
        "  def save(self, name):\n",
        "    np.save(f'drive/MyDrive/Models/{name}.npy', self.weights)\n",
        "\n",
        "  def load(self, name):\n",
        "    self.weights = np.load(f'drive/MyDrive/Models/{name}.npy')\n",
        "    self.weights = tf.Variable(self.weights)"
      ],
      "execution_count": null,
      "outputs": []
    },
    {
      "cell_type": "markdown",
      "metadata": {
        "id": "LSPTkWgmh4JS"
      },
      "source": [
        "# Cargar Dataset"
      ]
    },
    {
      "cell_type": "code",
      "metadata": {
        "id": "rtVu1qfhIRm9",
        "colab": {
          "base_uri": "https://localhost:8080/",
          "height": 383,
          "referenced_widgets": [
            "86788d67eafe4053b85b30cc757a5557",
            "519888c7cf3646bbad67d45a03c32ded",
            "010627d550f34e358511cab949ca9ec6",
            "38456703e8fa4047a0a5f27db10ff80f",
            "4f5f71abdc9f4dbabcbc6e0d7d6e5f8c",
            "2211276f2aef48e4ba7e469d3a0843ff",
            "9f043ed5cdca4b54b2c42168cc9f54bf",
            "e79f80c5e10041caaac70279a68ae6df",
            "0038f0986efb406cb8709af9eafd42c0",
            "c1c3e1c4b397400baac818651c9d5b37",
            "9ba91f7b66d442efac1be8f987c91405",
            "5478f6048dd84c1288b19580be87a2bd",
            "09d0c92431874c0e8a0b79a77664f4ba",
            "a1ea850535ed48f0923c843f1702b2e6",
            "b9ded3251eee49b8a6ef2853ebb8b6fe",
            "5d58dfec101142a7b23fee203b5e295e",
            "bbe2b5d8ec66419f9605c9ef9233655e",
            "f348af21daa5405886850c2557dc58fc",
            "953d9179dcf140bd9f02c14d7a12c5c3",
            "7d140fc9e22d4f659e7f93e8289e8924",
            "c9979a7fb82441dfb332d440a0ac0efc",
            "130bb2460b2447bdb91afa0f01ec1ad8",
            "332c559adf94465eb32a23e978893a19",
            "3c46c5e937df4553a262505e278e057f",
            "ce5bedd5ad904ae88fb7f9009189c856",
            "f60c730b83cd4f1789b7696877999c12",
            "354feda56fb64a3e82c9096dc92b2e07",
            "2157c41f3e424217a102aacf30f8e74f",
            "b8a2d4d8a74c45b0b167e27a0f52c854",
            "2b15b9e9070344069a442b284283aa5e",
            "725c2152676244cba1fd41db88f417c1",
            "3e8d321543e04e95b1a758a55afac33b",
            "3ea80308493a44a79db29dc3aa08364d",
            "03d296db9c9c4f918c2652a969f03ac5",
            "b76ad776a2794606aaf114c8616c5409",
            "2d0777cb27d845a2aca6f29c471265d4",
            "54739c7de0274221a78fe76477d90907",
            "f3e818ba49a24abdb5d2b16487e027bc",
            "1705246ac0a0480c8279179c323888a2",
            "35519979840b4c80b47e9a90dac436d1"
          ]
        },
        "outputId": "1b62fcb2-97cc-4fd9-c39a-04e9d222f9c8"
      },
      "source": [
        "da = DatasetAlignment()"
      ],
      "execution_count": null,
      "outputs": [
        {
          "output_type": "stream",
          "text": [
            "Found 1619 files belonging to 2 classes.\n",
            "Using 1296 files for training.\n",
            "Found 1619 files belonging to 2 classes.\n",
            "Using 323 files for validation.\n",
            "\u001b[1mDownloading and preparing dataset colorectal_histology/2.0.0 (download: 246.14 MiB, generated: Unknown size, total: 246.14 MiB) to /root/tensorflow_datasets/colorectal_histology/2.0.0...\u001b[0m\n"
          ],
          "name": "stdout"
        },
        {
          "output_type": "display_data",
          "data": {
            "application/vnd.jupyter.widget-view+json": {
              "model_id": "86788d67eafe4053b85b30cc757a5557",
              "version_minor": 0,
              "version_major": 2
            },
            "text/plain": [
              "HBox(children=(FloatProgress(value=1.0, bar_style='info', description='Dl Completed...', max=1.0, style=Progre…"
            ]
          },
          "metadata": {
            "tags": []
          }
        },
        {
          "output_type": "display_data",
          "data": {
            "application/vnd.jupyter.widget-view+json": {
              "model_id": "0038f0986efb406cb8709af9eafd42c0",
              "version_minor": 0,
              "version_major": 2
            },
            "text/plain": [
              "HBox(children=(FloatProgress(value=1.0, bar_style='info', description='Dl Size...', max=1.0, style=ProgressSty…"
            ]
          },
          "metadata": {
            "tags": []
          }
        },
        {
          "output_type": "display_data",
          "data": {
            "application/vnd.jupyter.widget-view+json": {
              "model_id": "bbe2b5d8ec66419f9605c9ef9233655e",
              "version_minor": 0,
              "version_major": 2
            },
            "text/plain": [
              "HBox(children=(FloatProgress(value=1.0, bar_style='info', description='Extraction completed...', max=1.0, styl…"
            ]
          },
          "metadata": {
            "tags": []
          }
        },
        {
          "output_type": "stream",
          "text": [
            "\n",
            "\n",
            "\n",
            "\n",
            "\n",
            "\n"
          ],
          "name": "stdout"
        },
        {
          "output_type": "display_data",
          "data": {
            "application/vnd.jupyter.widget-view+json": {
              "model_id": "ce5bedd5ad904ae88fb7f9009189c856",
              "version_minor": 0,
              "version_major": 2
            },
            "text/plain": [
              "HBox(children=(FloatProgress(value=1.0, bar_style='info', max=1.0), HTML(value='')))"
            ]
          },
          "metadata": {
            "tags": []
          }
        },
        {
          "output_type": "stream",
          "text": [
            "\rShuffling and writing examples to /root/tensorflow_datasets/colorectal_histology/2.0.0.incompleteFLTRDR/colorectal_histology-train.tfrecord\n"
          ],
          "name": "stdout"
        },
        {
          "output_type": "display_data",
          "data": {
            "application/vnd.jupyter.widget-view+json": {
              "model_id": "3ea80308493a44a79db29dc3aa08364d",
              "version_minor": 0,
              "version_major": 2
            },
            "text/plain": [
              "HBox(children=(FloatProgress(value=0.0, max=5000.0), HTML(value='')))"
            ]
          },
          "metadata": {
            "tags": []
          }
        },
        {
          "output_type": "stream",
          "text": [
            "\u001b[1mDataset colorectal_histology downloaded and prepared to /root/tensorflow_datasets/colorectal_histology/2.0.0. Subsequent calls will reuse this data.\u001b[0m\n",
            "\r"
          ],
          "name": "stdout"
        }
      ]
    },
    {
      "cell_type": "code",
      "metadata": {
        "id": "fihar_ywIvnI"
      },
      "source": [
        "da.train_text()\n",
        "cats_dogs, reviews = da.align()"
      ],
      "execution_count": null,
      "outputs": []
    },
    {
      "cell_type": "code",
      "metadata": {
        "id": "3-ZWIj07JW9W"
      },
      "source": [
        "total_words = da.total_words\n",
        "max_sequence_length = da.max_sequence_length"
      ],
      "execution_count": null,
      "outputs": []
    },
    {
      "cell_type": "markdown",
      "metadata": {
        "id": "UI8TLhYMJJzK"
      },
      "source": [
        "# Texto"
      ]
    },
    {
      "cell_type": "code",
      "metadata": {
        "id": "nAKEM622WYIF"
      },
      "source": [
        "tf.keras.backend.clear_session()"
      ],
      "execution_count": null,
      "outputs": []
    },
    {
      "cell_type": "code",
      "metadata": {
        "id": "PLbcU_wOKtMT"
      },
      "source": [
        "URL = \"https://tfhub.dev/google/nnlm-en-dim50-with-normalization/2\"\n",
        "feature_extractor = hub.KerasLayer(URL, input_shape=[], dtype=tf.string)\n",
        "\n",
        "weights = feature_extractor.get_weights()\n",
        "weights = np.squeeze(weights)\n",
        "\n",
        "embedding_matrix = np.zeros((total_words,50))\n",
        "\n",
        "embedding_matrix[1:] = weights[:total_words-1]"
      ],
      "execution_count": null,
      "outputs": []
    },
    {
      "cell_type": "code",
      "metadata": {
        "colab": {
          "base_uri": "https://localhost:8080/"
        },
        "id": "EujJQhe2WLY5",
        "outputId": "b7c5e204-a65f-4cfb-faf2-218bc498cd4f"
      },
      "source": [
        "input_text = tf.keras.Input(shape=(max_sequence_length, ), name=\"input_text\")\n",
        "\n",
        "embedding_layer = tf.keras.layers.Embedding(total_words, 50, input_length=max_sequence_length, weights=[embedding_matrix], trainable=True)(input_text)\n",
        "rnn_layer1 = tf.keras.layers.Bidirectional(tf.keras.layers.GRU(10, return_sequences=True))(embedding_layer)\n",
        "rnn_layer2 = tf.keras.layers.GRU(10)(rnn_layer1)\n",
        "dense_layer = tf.keras.layers.Dense(16, 'relu')(rnn_layer2)\n",
        "\n",
        "x = tf.keras.layers.Dense(1, 'sigmoid')(dense_layer)\n",
        "\n",
        "text_model = tf.keras.Model(inputs=[input_text], outputs=[x])\n",
        "\n",
        "text_model.summary()"
      ],
      "execution_count": null,
      "outputs": [
        {
          "output_type": "stream",
          "text": [
            "Model: \"model\"\n",
            "_________________________________________________________________\n",
            "Layer (type)                 Output Shape              Param #   \n",
            "=================================================================\n",
            "input_text (InputLayer)      [(None, 69)]              0         \n",
            "_________________________________________________________________\n",
            "embedding (Embedding)        (None, 69, 50)            208300    \n",
            "_________________________________________________________________\n",
            "bidirectional (Bidirectional (None, 69, 20)            3720      \n",
            "_________________________________________________________________\n",
            "gru_1 (GRU)                  (None, 10)                960       \n",
            "_________________________________________________________________\n",
            "dense (Dense)                (None, 16)                176       \n",
            "_________________________________________________________________\n",
            "dense_1 (Dense)              (None, 1)                 17        \n",
            "=================================================================\n",
            "Total params: 213,173\n",
            "Trainable params: 213,173\n",
            "Non-trainable params: 0\n",
            "_________________________________________________________________\n"
          ],
          "name": "stdout"
        }
      ]
    },
    {
      "cell_type": "code",
      "metadata": {
        "colab": {
          "base_uri": "https://localhost:8080/",
          "height": 644
        },
        "id": "27SIbAtfWNrT",
        "outputId": "9f54c122-b8f8-4950-947e-9d3a05c70c10"
      },
      "source": [
        "tf.keras.utils.plot_model(text_model, \"text.png\", show_shapes=True)"
      ],
      "execution_count": null,
      "outputs": [
        {
          "output_type": "execute_result",
          "data": {
            "image/png": "[encoded data removed]",
            "text/plain": [
              "<IPython.core.display.Image object>"
            ]
          },
          "metadata": {
            "tags": []
          },
          "execution_count": 17
        }
      ]
    },
    {
      "cell_type": "code",
      "metadata": {
        "id": "f7RCTaaaZjeL"
      },
      "source": [
        "batched_reviews = reviews.batch(32).prefetch(1)"
      ],
      "execution_count": null,
      "outputs": []
    },
    {
      "cell_type": "code",
      "metadata": {
        "id": "mdWW61zeOai4"
      },
      "source": [
        "class Stopper(tf.keras.callbacks.Callback):\n",
        "  def __init__(self, metric, value):\n",
        "    super().__init__()\n",
        "    self.metric = metric\n",
        "    self.value = value\n",
        "\n",
        "  def on_epoch_end(self, epoch, logs={}):\n",
        "    if(logs.get(self.metric)>self.value):\n",
        "      print(f\"\\nReached {self.value} {self.metric} or above\")\n",
        "      self.model.stop_training = True\n",
        "\n",
        "callbacks = Stopper('accuracy', 0.9)"
      ],
      "execution_count": null,
      "outputs": []
    },
    {
      "cell_type": "code",
      "metadata": {
        "colab": {
          "base_uri": "https://localhost:8080/"
        },
        "id": "QPmit_t6WRDb",
        "outputId": "233fc78e-0a1c-4742-bdc9-cba0829116e9"
      },
      "source": [
        "text_model.compile(optimizer=tf.keras.optimizers.Adam(),\n",
        "              loss=tf.keras.losses.BinaryCrossentropy(),\n",
        "              metrics=['accuracy'])\n",
        "\n",
        "epochs=10\n",
        "history = text_model.fit(\n",
        "    batched_reviews,\n",
        "    epochs=epochs,\n",
        "    # callbacks=[callbacks]\n",
        "    )"
      ],
      "execution_count": null,
      "outputs": [
        {
          "output_type": "stream",
          "text": [
            "Epoch 1/5\n",
            "24/24 [==============================] - 8s 186ms/step - loss: 0.5104 - accuracy: 0.7880\n",
            "Epoch 2/5\n",
            "24/24 [==============================] - 5s 190ms/step - loss: 0.3607 - accuracy: 0.9240\n",
            "Epoch 3/5\n",
            "24/24 [==============================] - 5s 190ms/step - loss: 0.2627 - accuracy: 0.9507\n",
            "Epoch 4/5\n",
            "24/24 [==============================] - 5s 189ms/step - loss: 0.1684 - accuracy: 0.9667\n",
            "Epoch 5/5\n",
            "24/24 [==============================] - 5s 191ms/step - loss: 0.1116 - accuracy: 0.9707\n"
          ],
          "name": "stdout"
        }
      ]
    },
    {
      "cell_type": "code",
      "metadata": {
        "colab": {
          "base_uri": "https://localhost:8080/"
        },
        "id": "BIYg7wEKlHit",
        "outputId": "7271e72e-a202-414a-c6ed-14cda2bfa561"
      },
      "source": [
        "extract_text_model = tf.keras.Model(inputs=[input_text], outputs=[dense_layer])\n",
        "\n",
        "extract_text_model.summary()"
      ],
      "execution_count": null,
      "outputs": [
        {
          "output_type": "stream",
          "text": [
            "Model: \"model_1\"\n",
            "_________________________________________________________________\n",
            "Layer (type)                 Output Shape              Param #   \n",
            "=================================================================\n",
            "input_text (InputLayer)      [(None, 69)]              0         \n",
            "_________________________________________________________________\n",
            "embedding (Embedding)        (None, 69, 50)            208300    \n",
            "_________________________________________________________________\n",
            "bidirectional (Bidirectional (None, 69, 20)            3720      \n",
            "_________________________________________________________________\n",
            "gru_1 (GRU)                  (None, 10)                960       \n",
            "_________________________________________________________________\n",
            "dense (Dense)                (None, 16)                176       \n",
            "=================================================================\n",
            "Total params: 213,156\n",
            "Trainable params: 213,156\n",
            "Non-trainable params: 0\n",
            "_________________________________________________________________\n"
          ],
          "name": "stdout"
        }
      ]
    },
    {
      "cell_type": "code",
      "metadata": {
        "id": "kRQLkSpclaDq",
        "colab": {
          "base_uri": "https://localhost:8080/"
        },
        "outputId": "01cfddde-fc9c-4e53-c5c2-a52771a7418c"
      },
      "source": [
        "text_result = extract_text_model.predict(reviews.batch(32), verbose=1)"
      ],
      "execution_count": null,
      "outputs": [
        {
          "output_type": "stream",
          "text": [
            "24/24 [==============================] - 5s 185ms/step\n"
          ],
          "name": "stdout"
        }
      ]
    },
    {
      "cell_type": "code",
      "metadata": {
        "colab": {
          "base_uri": "https://localhost:8080/"
        },
        "id": "_-y4aHIf7WBj",
        "outputId": "eeb9f040-6f6d-41e0-fa79-2fde40575782"
      },
      "source": [
        "extract_text_model.save('drive/MyDrive/Models/text_model_som_med_b.tf')"
      ],
      "execution_count": null,
      "outputs": [
        {
          "output_type": "stream",
          "text": [
            "WARNING:tensorflow:Compiled the loaded model, but the compiled metrics have yet to be built. `model.compile_metrics` will be empty until you train or evaluate the model.\n"
          ],
          "name": "stdout"
        },
        {
          "output_type": "stream",
          "text": [
            "WARNING:tensorflow:Compiled the loaded model, but the compiled metrics have yet to be built. `model.compile_metrics` will be empty until you train or evaluate the model.\n",
            "WARNING:absl:Found untraced functions such as gru_cell_3_layer_call_and_return_conditional_losses, gru_cell_3_layer_call_fn, gru_cell_1_layer_call_and_return_conditional_losses, gru_cell_1_layer_call_fn, gru_cell_2_layer_call_and_return_conditional_losses while saving (showing 5 of 15). These functions will not be directly callable after loading.\n"
          ],
          "name": "stderr"
        },
        {
          "output_type": "stream",
          "text": [
            "INFO:tensorflow:Assets written to: drive/MyDrive/Models/text_model_som_med_b.tf/assets\n"
          ],
          "name": "stdout"
        },
        {
          "output_type": "stream",
          "text": [
            "INFO:tensorflow:Assets written to: drive/MyDrive/Models/text_model_som_med_b.tf/assets\n"
          ],
          "name": "stderr"
        }
      ]
    },
    {
      "cell_type": "code",
      "metadata": {
        "id": "qYLYJ5IMmT5G"
      },
      "source": [
        "grid = 10\n",
        "train = 2000\n",
        "#Training SOM\n",
        "som = SOM(grid, grid, text_result)\n",
        "som.train(train)\n",
        "text_images_matrix = som.transform()"
      ],
      "execution_count": null,
      "outputs": []
    },
    {
      "cell_type": "code",
      "metadata": {
        "id": "Z_f-fkOC9NUj"
      },
      "source": [
        "som.save('som_text_tf_b')"
      ],
      "execution_count": null,
      "outputs": []
    },
    {
      "cell_type": "code",
      "metadata": {
        "id": "LF4mBOGdnLJA"
      },
      "source": [
        "labels = reviews.batch(32)\n",
        "\n",
        "y = np.concatenate([y for x, y in labels], axis=0)"
      ],
      "execution_count": null,
      "outputs": []
    },
    {
      "cell_type": "code",
      "metadata": {
        "colab": {
          "base_uri": "https://localhost:8080/"
        },
        "id": "0sAQKwHsnZ6A",
        "outputId": "f792a625-b828-4123-d8cb-bb8e8dd33a80"
      },
      "source": [
        "y.shape"
      ],
      "execution_count": null,
      "outputs": [
        {
          "output_type": "execute_result",
          "data": {
            "text/plain": [
              "(750,)"
            ]
          },
          "metadata": {
            "tags": []
          },
          "execution_count": 28
        }
      ]
    },
    {
      "cell_type": "code",
      "metadata": {
        "id": "0osNQNrCMFHF"
      },
      "source": [
        "y2 = [yc.numpy() for _ , yc in cats_dogs]"
      ],
      "execution_count": null,
      "outputs": []
    },
    {
      "cell_type": "code",
      "metadata": {
        "colab": {
          "base_uri": "https://localhost:8080/"
        },
        "id": "xPK9GOD2NhCN",
        "outputId": "04e186db-9d48-41da-f8d0-95fe3caf2e75"
      },
      "source": [
        "y2 = np.array(y2)\n",
        "\n",
        "y2.shape"
      ],
      "execution_count": null,
      "outputs": [
        {
          "output_type": "execute_result",
          "data": {
            "text/plain": [
              "(750,)"
            ]
          },
          "metadata": {
            "tags": []
          },
          "execution_count": 30
        }
      ]
    },
    {
      "cell_type": "code",
      "metadata": {
        "colab": {
          "base_uri": "https://localhost:8080/"
        },
        "id": "lJHlx8eRNv1V",
        "outputId": "c4bdc694-f291-4767-ef23-1e02976f9b11"
      },
      "source": [
        "np.array_equal(y, y2)"
      ],
      "execution_count": null,
      "outputs": [
        {
          "output_type": "execute_result",
          "data": {
            "text/plain": [
              "True"
            ]
          },
          "metadata": {
            "tags": []
          },
          "execution_count": 31
        }
      ]
    },
    {
      "cell_type": "code",
      "metadata": {
        "colab": {
          "base_uri": "https://localhost:8080/"
        },
        "id": "cSTvgbEMQIbF",
        "outputId": "f46a48a9-15eb-43b2-d490-944d273513b7"
      },
      "source": [
        "len(text_images_matrix)"
      ],
      "execution_count": null,
      "outputs": [
        {
          "output_type": "execute_result",
          "data": {
            "text/plain": [
              "750"
            ]
          },
          "metadata": {
            "tags": []
          },
          "execution_count": 32
        }
      ]
    },
    {
      "cell_type": "markdown",
      "metadata": {
        "id": "XzRLOuXXSKhd"
      },
      "source": [
        "# Imágenes"
      ]
    },
    {
      "cell_type": "code",
      "metadata": {
        "id": "uYLpqTcAZQcB"
      },
      "source": [
        "tf.keras.backend.clear_session()"
      ],
      "execution_count": null,
      "outputs": []
    },
    {
      "cell_type": "code",
      "metadata": {
        "id": "OCc4aHd6SJ-d"
      },
      "source": [
        "IMAGE_RES = 299\n",
        "\n",
        "resize_function = lambda x, y: (tf.image.resize(x, (IMAGE_RES, IMAGE_RES))/255.0, y)"
      ],
      "execution_count": null,
      "outputs": []
    },
    {
      "cell_type": "code",
      "metadata": {
        "colab": {
          "base_uri": "https://localhost:8080/"
        },
        "id": "rukJj_a4TNd2",
        "outputId": "0839b5f4-e8f9-480d-e8f4-c3ee06d10552"
      },
      "source": [
        "URL = \"https://tfhub.dev/google/imagenet/inception_v3/feature_vector/4\"\n",
        "feature_extractor = hub.KerasLayer(URL, input_shape=(IMAGE_RES, IMAGE_RES, 3))\n",
        "feature_extractor.trainable = False\n",
        "\n",
        "image_model = tf.keras.Sequential([\n",
        "  feature_extractor\n",
        "])\n",
        "\n",
        "image_model.summary()"
      ],
      "execution_count": null,
      "outputs": [
        {
          "output_type": "stream",
          "text": [
            "Model: \"sequential\"\n",
            "_________________________________________________________________\n",
            "Layer (type)                 Output Shape              Param #   \n",
            "=================================================================\n",
            "keras_layer (KerasLayer)     (None, 2048)              21802784  \n",
            "=================================================================\n",
            "Total params: 21,802,784\n",
            "Trainable params: 0\n",
            "Non-trainable params: 21,802,784\n",
            "_________________________________________________________________\n"
          ],
          "name": "stdout"
        }
      ]
    },
    {
      "cell_type": "code",
      "metadata": {
        "colab": {
          "base_uri": "https://localhost:8080/",
          "height": 201
        },
        "id": "StrloORDToWT",
        "outputId": "60ee27e4-e44d-4e97-f78f-6aded40b3d20"
      },
      "source": [
        "tf.keras.utils.plot_model(image_model, \"image.png\", show_shapes=True)"
      ],
      "execution_count": null,
      "outputs": [
        {
          "output_type": "execute_result",
          "data": {
            "image/png": "[encoded data removed]",
            "text/plain": [
              "<IPython.core.display.Image object>"
            ]
          },
          "metadata": {
            "tags": []
          },
          "execution_count": 36
        }
      ]
    },
    {
      "cell_type": "code",
      "metadata": {
        "id": "e32frwWXUsOM",
        "colab": {
          "base_uri": "https://localhost:8080/"
        },
        "outputId": "58a99852-2174-4064-f988-43f65a29d8f3"
      },
      "source": [
        "prediction_batches = cats_dogs.map(resize_function).batch(32)\n",
        "\n",
        "image_result = image_model.predict(prediction_batches, verbose=1)"
      ],
      "execution_count": null,
      "outputs": [
        {
          "output_type": "stream",
          "text": [
            "25/25 [==============================] - 34s 283ms/step\n"
          ],
          "name": "stdout"
        }
      ]
    },
    {
      "cell_type": "code",
      "metadata": {
        "colab": {
          "base_uri": "https://localhost:8080/"
        },
        "id": "lG5QpojS_DUn",
        "outputId": "0b11cba0-1d47-4974-dae5-3576308c0c4f"
      },
      "source": [
        "image_model.save('drive/MyDrive/Models/image_model_som_med_b.tf')"
      ],
      "execution_count": null,
      "outputs": [
        {
          "output_type": "stream",
          "text": [
            "WARNING:tensorflow:Compiled the loaded model, but the compiled metrics have yet to be built. `model.compile_metrics` will be empty until you train or evaluate the model.\n"
          ],
          "name": "stdout"
        },
        {
          "output_type": "stream",
          "text": [
            "WARNING:tensorflow:Compiled the loaded model, but the compiled metrics have yet to be built. `model.compile_metrics` will be empty until you train or evaluate the model.\n"
          ],
          "name": "stderr"
        },
        {
          "output_type": "stream",
          "text": [
            "INFO:tensorflow:Assets written to: drive/MyDrive/Models/image_model_som_med_b.tf/assets\n"
          ],
          "name": "stdout"
        },
        {
          "output_type": "stream",
          "text": [
            "INFO:tensorflow:Assets written to: drive/MyDrive/Models/image_model_som_med_b.tf/assets\n"
          ],
          "name": "stderr"
        }
      ]
    },
    {
      "cell_type": "code",
      "metadata": {
        "colab": {
          "base_uri": "https://localhost:8080/"
        },
        "id": "xgMqwMI8VHHA",
        "outputId": "831321ff-7167-4700-a796-7c92eda7166d"
      },
      "source": [
        "image_result.shape"
      ],
      "execution_count": null,
      "outputs": [
        {
          "output_type": "execute_result",
          "data": {
            "text/plain": [
              "(750, 2048)"
            ]
          },
          "metadata": {
            "tags": []
          },
          "execution_count": 39
        }
      ]
    },
    {
      "cell_type": "code",
      "metadata": {
        "id": "kTCCBJuWVJ-X"
      },
      "source": [
        "#Training SOM\n",
        "som2 = SOM(grid, grid, image_result)\n",
        "som2.train(train)\n",
        "image_images_matrix = som2.transform()"
      ],
      "execution_count": null,
      "outputs": []
    },
    {
      "cell_type": "code",
      "metadata": {
        "id": "2o8szqfP_YsK"
      },
      "source": [
        "som2.save('som_image_tf_b')"
      ],
      "execution_count": null,
      "outputs": []
    },
    {
      "cell_type": "code",
      "metadata": {
        "colab": {
          "base_uri": "https://localhost:8080/"
        },
        "id": "1o-E6e5VXkoM",
        "outputId": "0aea8d29-4fcf-4115-f5fa-24850d4d94e1"
      },
      "source": [
        "image_images_matrix[0]"
      ],
      "execution_count": null,
      "outputs": [
        {
          "output_type": "execute_result",
          "data": {
            "text/plain": [
              "array([[255, 173, 145, 107,  95,  99, 103,  93,  81,  80],\n",
              "       [236, 217, 156, 124, 113, 133, 127,  90, 103, 119],\n",
              "       [119, 154, 125, 116, 125, 174, 131,  92, 131, 131],\n",
              "       [ 55,  79, 125, 134, 138, 169, 142, 107, 105, 136],\n",
              "       [ 69,  67,  80, 120, 141, 133, 109,  98, 110, 101],\n",
              "       [ 71,  57,  87, 126, 132, 125, 117,  80, 129, 107],\n",
              "       [ 57,  75,  76,  76,  89,  84,  79,  62,  81,  86],\n",
              "       [ 63,  58,  55,  69,  63,  52,  41,  39,  52,  65],\n",
              "       [ 42,  46,  35,  24,  29,  28,  48,  47,  51,  61],\n",
              "       [ 20,  33,  27,  21,   7,   0,  27,  42,  67,  59]], dtype=uint8)"
            ]
          },
          "metadata": {
            "tags": []
          },
          "execution_count": 42
        }
      ]
    },
    {
      "cell_type": "code",
      "metadata": {
        "id": "poGdP-geaG0Q"
      },
      "source": [
        "image1 = image_images_matrix[100].flatten()\n",
        "text1 = text_images_matrix[100].flatten()\n",
        "\n",
        "spectral1 = list(zip(image1, text1, np.zeros_like(image1)))\n",
        "\n",
        "np_spectral1 = np.array(spectral1)"
      ],
      "execution_count": null,
      "outputs": []
    },
    {
      "cell_type": "code",
      "metadata": {
        "colab": {
          "base_uri": "https://localhost:8080/",
          "height": 592
        },
        "id": "x8eGH-kOahOO",
        "outputId": "9b6834ae-e1f6-4563-c2aa-780d5b74a6ad"
      },
      "source": [
        "plt.figure(figsize=(10,10))\n",
        "plt.grid(False)\n",
        "plt.imshow(np_spectral1.reshape(grid,grid,3))\n",
        "plt.show()"
      ],
      "execution_count": null,
      "outputs": [
        {
          "output_type": "display_data",
          "data": {
            "image/png": "[encoded data removed]",
            "text/plain": [
              "<Figure size 720x720 with 1 Axes>"
            ]
          },
          "metadata": {
            "tags": [],
            "needs_background": "light"
          }
        }
      ]
    },
    {
      "cell_type": "code",
      "metadata": {
        "id": "Km9CJe7NasCx"
      },
      "source": [
        "image0 = image_images_matrix[600].flatten()\n",
        "text0 = text_images_matrix[600].flatten()\n",
        "\n",
        "spectral0 = list(zip(image0, text0, np.zeros_like(image0)))\n",
        "\n",
        "np_spectral0 = np.array(spectral0)"
      ],
      "execution_count": null,
      "outputs": []
    },
    {
      "cell_type": "code",
      "metadata": {
        "colab": {
          "base_uri": "https://localhost:8080/",
          "height": 592
        },
        "id": "DywliqSDatwv",
        "outputId": "6cca53f5-cc86-45c7-c46a-00d12628dd4e"
      },
      "source": [
        "plt.figure(figsize=(10,10))\n",
        "plt.grid(False)\n",
        "plt.imshow(np_spectral0.reshape(grid,grid,3))\n",
        "plt.show()"
      ],
      "execution_count": null,
      "outputs": [
        {
          "output_type": "display_data",
          "data": {
            "image/png": "[encoded data removed]",
            "text/plain": [
              "<Figure size 720x720 with 1 Axes>"
            ]
          },
          "metadata": {
            "tags": [],
            "needs_background": "light"
          }
        }
      ]
    },
    {
      "cell_type": "code",
      "metadata": {
        "id": "2gQLy8FDbcPy"
      },
      "source": [
        "spectral_images = []\n",
        "\n",
        "for i, image in enumerate(image_images_matrix):\n",
        "  r = image.flatten()\n",
        "  g = text_images_matrix[i].flatten()\n",
        "  b = np.zeros_like(r)\n",
        "  spectral = list(zip(r, g, b))\n",
        "  spectral_images.append(np.array(spectral).reshape(grid,grid,3))"
      ],
      "execution_count": null,
      "outputs": []
    },
    {
      "cell_type": "code",
      "metadata": {
        "id": "AwTvrw2ocD6x"
      },
      "source": [
        "spectral_data = tf.data.Dataset.from_tensor_slices((spectral_images, y))"
      ],
      "execution_count": null,
      "outputs": []
    },
    {
      "cell_type": "code",
      "metadata": {
        "id": "hIVprZtEcfnO"
      },
      "source": [
        "spectral_train_batches = spectral_data.map(resize_function).batch(32).prefetch(1)"
      ],
      "execution_count": null,
      "outputs": []
    },
    {
      "cell_type": "code",
      "metadata": {
        "colab": {
          "base_uri": "https://localhost:8080/"
        },
        "id": "FGnqPz5UdGCg",
        "outputId": "b0c62184-d36a-4514-89b1-b3acd8b451c8"
      },
      "source": [
        "spectral_train_batches\n",
        "# <PrefetchDataset shapes: ((None, 299, 299, 3), (None,)), types: (tf.float32, tf.int64)>"
      ],
      "execution_count": null,
      "outputs": [
        {
          "output_type": "execute_result",
          "data": {
            "text/plain": [
              "<PrefetchDataset shapes: ((None, 299, 299, 3), (None,)), types: (tf.float32, tf.int64)>"
            ]
          },
          "metadata": {
            "tags": []
          },
          "execution_count": 50
        }
      ]
    },
    {
      "cell_type": "code",
      "metadata": {
        "colab": {
          "base_uri": "https://localhost:8080/"
        },
        "id": "GMGcfPR8cyj8",
        "outputId": "54174468-a29f-4e9a-8052-6d97c46edd50"
      },
      "source": [
        "tf.keras.backend.clear_session()\n",
        "\n",
        "URL = \"https://tfhub.dev/google/imagenet/inception_v3/feature_vector/4\"\n",
        "feature_extractor = hub.KerasLayer(URL, input_shape=(IMAGE_RES, IMAGE_RES, 3))\n",
        "feature_extractor.trainable = False\n",
        "\n",
        "spectral_model = tf.keras.Sequential([\n",
        "  feature_extractor,\n",
        "  tf.keras.layers.Dense(1, 'sigmoid')\n",
        "])\n",
        "\n",
        "spectral_model.summary()"
      ],
      "execution_count": null,
      "outputs": [
        {
          "output_type": "stream",
          "text": [
            "Model: \"sequential\"\n",
            "_________________________________________________________________\n",
            "Layer (type)                 Output Shape              Param #   \n",
            "=================================================================\n",
            "keras_layer (KerasLayer)     (None, 2048)              21802784  \n",
            "_________________________________________________________________\n",
            "dense (Dense)                (None, 1)                 2049      \n",
            "=================================================================\n",
            "Total params: 21,804,833\n",
            "Trainable params: 2,049\n",
            "Non-trainable params: 21,802,784\n",
            "_________________________________________________________________\n"
          ],
          "name": "stdout"
        }
      ]
    },
    {
      "cell_type": "code",
      "metadata": {
        "colab": {
          "base_uri": "https://localhost:8080/"
        },
        "id": "EGNPrGm9c7s6",
        "outputId": "6899324f-c89b-4847-a096-02e5decc4154"
      },
      "source": [
        "spectral_model.compile(optimizer='adam',\n",
        "              loss=tf.keras.losses.BinaryCrossentropy(),\n",
        "              metrics=['accuracy'])\n",
        "\n",
        "epochs=10\n",
        "history = spectral_model.fit(\n",
        "    spectral_train_batches,\n",
        "    epochs=epochs,\n",
        "    # callbacks=[callbacks]\n",
        "    )"
      ],
      "execution_count": null,
      "outputs": [
        {
          "output_type": "stream",
          "text": [
            "Epoch 1/10\n",
            "24/24 [==============================] - 5s 120ms/step - loss: 0.9349 - accuracy: 0.6200\n",
            "Epoch 2/10\n",
            "24/24 [==============================] - 3s 123ms/step - loss: 0.6481 - accuracy: 0.6507\n",
            "Epoch 3/10\n",
            "24/24 [==============================] - 3s 123ms/step - loss: 0.4048 - accuracy: 0.8187\n",
            "Epoch 4/10\n",
            "24/24 [==============================] - 3s 121ms/step - loss: 0.4746 - accuracy: 0.7760\n",
            "Epoch 5/10\n",
            "24/24 [==============================] - 3s 121ms/step - loss: 0.4334 - accuracy: 0.8040\n",
            "Epoch 6/10\n",
            "24/24 [==============================] - 3s 122ms/step - loss: 0.4301 - accuracy: 0.8067\n",
            "Epoch 7/10\n",
            "24/24 [==============================] - 3s 121ms/step - loss: 0.4166 - accuracy: 0.8133\n",
            "Epoch 8/10\n",
            "24/24 [==============================] - 3s 122ms/step - loss: 0.4048 - accuracy: 0.8160\n",
            "Epoch 9/10\n",
            "24/24 [==============================] - 3s 121ms/step - loss: 0.3938 - accuracy: 0.8200\n",
            "Epoch 10/10\n",
            "24/24 [==============================] - 3s 120ms/step - loss: 0.3834 - accuracy: 0.8280\n"
          ],
          "name": "stdout"
        }
      ]
    },
    {
      "cell_type": "code",
      "metadata": {
        "colab": {
          "base_uri": "https://localhost:8080/"
        },
        "id": "ucQzV8Vy__pb",
        "outputId": "f74ce0f7-766f-47bd-ec4a-50c5fd9b9c8b"
      },
      "source": [
        "spectral_model.save('drive/MyDrive/Models/spectral_model_som_med_b.tf')"
      ],
      "execution_count": null,
      "outputs": [
        {
          "output_type": "stream",
          "text": [
            "INFO:tensorflow:Assets written to: drive/MyDrive/Models/spectral_model_som_med_b.tf/assets\n"
          ],
          "name": "stdout"
        },
        {
          "output_type": "stream",
          "text": [
            "INFO:tensorflow:Assets written to: drive/MyDrive/Models/spectral_model_som_med_b.tf/assets\n"
          ],
          "name": "stderr"
        }
      ]
    }
  ]
}