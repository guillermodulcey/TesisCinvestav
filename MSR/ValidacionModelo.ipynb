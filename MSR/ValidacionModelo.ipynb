{
  "nbformat": 4,
  "nbformat_minor": 0,
  "metadata": {
    "accelerator": "GPU",
    "colab": {
      "name": "ValidationSOM (medicine) v3.ipynb",
      "provenance": [],
      "collapsed_sections": [],
      "mount_file_id": "1zgnxiN52ebYY_8FdslJ7OEpLHLRdlpJB",
      "authorship_tag": "ABX9TyPY+21LAqOyf+rcsNm12Vhw",
      "include_colab_link": true
    },
    "kernelspec": {
      "display_name": "Python 3",
      "name": "python3"
    },
    "language_info": {
      "name": "python"
    },
    "widgets": {
      "application/vnd.jupyter.widget-state+json": {
        "423651e34def4e2fad2206300012504e": {
          "model_module": "@jupyter-widgets/controls",
          "model_name": "HBoxModel",
          "model_module_version": "1.5.0",
          "state": {
            "_view_name": "HBoxView",
            "_dom_classes": [],
            "_model_name": "HBoxModel",
            "_view_module": "@jupyter-widgets/controls",
            "_model_module_version": "1.5.0",
            "_view_count": null,
            "_view_module_version": "1.5.0",
            "box_style": "",
            "layout": "IPY_MODEL_b9589aa3a4c6498982595714a414db3b",
            "_model_module": "@jupyter-widgets/controls",
            "children": [
              "IPY_MODEL_87db9e9b9d6f4d6ca3bf2db2807ce6df",
              "IPY_MODEL_36b701ad3eac4fffa7fff638ba18133e"
            ]
          }
        },
        "b9589aa3a4c6498982595714a414db3b": {
          "model_module": "@jupyter-widgets/base",
          "model_name": "LayoutModel",
          "model_module_version": "1.2.0",
          "state": {
            "_view_name": "LayoutView",
            "grid_template_rows": null,
            "right": null,
            "justify_content": null,
            "_view_module": "@jupyter-widgets/base",
            "overflow": null,
            "_model_module_version": "1.2.0",
            "_view_count": null,
            "flex_flow": null,
            "width": null,
            "min_width": null,
            "border": null,
            "align_items": null,
            "bottom": null,
            "_model_module": "@jupyter-widgets/base",
            "top": null,
            "grid_column": null,
            "overflow_y": null,
            "overflow_x": null,
            "grid_auto_flow": null,
            "grid_area": null,
            "grid_template_columns": null,
            "flex": null,
            "_model_name": "LayoutModel",
            "justify_items": null,
            "grid_row": null,
            "max_height": null,
            "align_content": null,
            "visibility": null,
            "align_self": null,
            "height": null,
            "min_height": null,
            "padding": null,
            "grid_auto_rows": null,
            "grid_gap": null,
            "max_width": null,
            "order": null,
            "_view_module_version": "1.2.0",
            "grid_template_areas": null,
            "object_position": null,
            "object_fit": null,
            "grid_auto_columns": null,
            "margin": null,
            "display": null,
            "left": null
          }
        },
        "87db9e9b9d6f4d6ca3bf2db2807ce6df": {
          "model_module": "@jupyter-widgets/controls",
          "model_name": "FloatProgressModel",
          "model_module_version": "1.5.0",
          "state": {
            "_view_name": "ProgressView",
            "style": "IPY_MODEL_ca67e20845e14a75b05afb4fdf3b7ace",
            "_dom_classes": [],
            "description": "Dl Completed...: 100%",
            "_model_name": "FloatProgressModel",
            "bar_style": "success",
            "max": 1,
            "_view_module": "@jupyter-widgets/controls",
            "_model_module_version": "1.5.0",
            "value": 1,
            "_view_count": null,
            "_view_module_version": "1.5.0",
            "orientation": "horizontal",
            "min": 0,
            "description_tooltip": null,
            "_model_module": "@jupyter-widgets/controls",
            "layout": "IPY_MODEL_4a092071feab43029c73d835aa2fbf48"
          }
        },
        "36b701ad3eac4fffa7fff638ba18133e": {
          "model_module": "@jupyter-widgets/controls",
          "model_name": "HTMLModel",
          "model_module_version": "1.5.0",
          "state": {
            "_view_name": "HTMLView",
            "style": "IPY_MODEL_5548f4e67cd54ab09256c81c127956c9",
            "_dom_classes": [],
            "description": "",
            "_model_name": "HTMLModel",
            "placeholder": "​",
            "_view_module": "@jupyter-widgets/controls",
            "_model_module_version": "1.5.0",
            "value": " 1/1 [00:15&lt;00:00, 15.49s/ url]",
            "_view_count": null,
            "_view_module_version": "1.5.0",
            "description_tooltip": null,
            "_model_module": "@jupyter-widgets/controls",
            "layout": "IPY_MODEL_73724148ac8741dfaa548a7d52b60c52"
          }
        },
        "ca67e20845e14a75b05afb4fdf3b7ace": {
          "model_module": "@jupyter-widgets/controls",
          "model_name": "ProgressStyleModel",
          "model_module_version": "1.5.0",
          "state": {
            "_view_name": "StyleView",
            "_model_name": "ProgressStyleModel",
            "description_width": "initial",
            "_view_module": "@jupyter-widgets/base",
            "_model_module_version": "1.5.0",
            "_view_count": null,
            "_view_module_version": "1.2.0",
            "bar_color": null,
            "_model_module": "@jupyter-widgets/controls"
          }
        },
        "4a092071feab43029c73d835aa2fbf48": {
          "model_module": "@jupyter-widgets/base",
          "model_name": "LayoutModel",
          "model_module_version": "1.2.0",
          "state": {
            "_view_name": "LayoutView",
            "grid_template_rows": null,
            "right": null,
            "justify_content": null,
            "_view_module": "@jupyter-widgets/base",
            "overflow": null,
            "_model_module_version": "1.2.0",
            "_view_count": null,
            "flex_flow": null,
            "width": null,
            "min_width": null,
            "border": null,
            "align_items": null,
            "bottom": null,
            "_model_module": "@jupyter-widgets/base",
            "top": null,
            "grid_column": null,
            "overflow_y": null,
            "overflow_x": null,
            "grid_auto_flow": null,
            "grid_area": null,
            "grid_template_columns": null,
            "flex": null,
            "_model_name": "LayoutModel",
            "justify_items": null,
            "grid_row": null,
            "max_height": null,
            "align_content": null,
            "visibility": null,
            "align_self": null,
            "height": null,
            "min_height": null,
            "padding": null,
            "grid_auto_rows": null,
            "grid_gap": null,
            "max_width": null,
            "order": null,
            "_view_module_version": "1.2.0",
            "grid_template_areas": null,
            "object_position": null,
            "object_fit": null,
            "grid_auto_columns": null,
            "margin": null,
            "display": null,
            "left": null
          }
        },
        "5548f4e67cd54ab09256c81c127956c9": {
          "model_module": "@jupyter-widgets/controls",
          "model_name": "DescriptionStyleModel",
          "model_module_version": "1.5.0",
          "state": {
            "_view_name": "StyleView",
            "_model_name": "DescriptionStyleModel",
            "description_width": "",
            "_view_module": "@jupyter-widgets/base",
            "_model_module_version": "1.5.0",
            "_view_count": null,
            "_view_module_version": "1.2.0",
            "_model_module": "@jupyter-widgets/controls"
          }
        },
        "73724148ac8741dfaa548a7d52b60c52": {
          "model_module": "@jupyter-widgets/base",
          "model_name": "LayoutModel",
          "model_module_version": "1.2.0",
          "state": {
            "_view_name": "LayoutView",
            "grid_template_rows": null,
            "right": null,
            "justify_content": null,
            "_view_module": "@jupyter-widgets/base",
            "overflow": null,
            "_model_module_version": "1.2.0",
            "_view_count": null,
            "flex_flow": null,
            "width": null,
            "min_width": null,
            "border": null,
            "align_items": null,
            "bottom": null,
            "_model_module": "@jupyter-widgets/base",
            "top": null,
            "grid_column": null,
            "overflow_y": null,
            "overflow_x": null,
            "grid_auto_flow": null,
            "grid_area": null,
            "grid_template_columns": null,
            "flex": null,
            "_model_name": "LayoutModel",
            "justify_items": null,
            "grid_row": null,
            "max_height": null,
            "align_content": null,
            "visibility": null,
            "align_self": null,
            "height": null,
            "min_height": null,
            "padding": null,
            "grid_auto_rows": null,
            "grid_gap": null,
            "max_width": null,
            "order": null,
            "_view_module_version": "1.2.0",
            "grid_template_areas": null,
            "object_position": null,
            "object_fit": null,
            "grid_auto_columns": null,
            "margin": null,
            "display": null,
            "left": null
          }
        },
        "53852ed67f874f828c496b7092c79ce9": {
          "model_module": "@jupyter-widgets/controls",
          "model_name": "HBoxModel",
          "model_module_version": "1.5.0",
          "state": {
            "_view_name": "HBoxView",
            "_dom_classes": [],
            "_model_name": "HBoxModel",
            "_view_module": "@jupyter-widgets/controls",
            "_model_module_version": "1.5.0",
            "_view_count": null,
            "_view_module_version": "1.5.0",
            "box_style": "",
            "layout": "IPY_MODEL_52aa1a50a2b54956b0567cc4b3150e8b",
            "_model_module": "@jupyter-widgets/controls",
            "children": [
              "IPY_MODEL_f6e8e1f91857455188e1eb9dbba1ce64",
              "IPY_MODEL_9d4bd30c92964bee8e8567f5836b64b4"
            ]
          }
        },
        "52aa1a50a2b54956b0567cc4b3150e8b": {
          "model_module": "@jupyter-widgets/base",
          "model_name": "LayoutModel",
          "model_module_version": "1.2.0",
          "state": {
            "_view_name": "LayoutView",
            "grid_template_rows": null,
            "right": null,
            "justify_content": null,
            "_view_module": "@jupyter-widgets/base",
            "overflow": null,
            "_model_module_version": "1.2.0",
            "_view_count": null,
            "flex_flow": null,
            "width": null,
            "min_width": null,
            "border": null,
            "align_items": null,
            "bottom": null,
            "_model_module": "@jupyter-widgets/base",
            "top": null,
            "grid_column": null,
            "overflow_y": null,
            "overflow_x": null,
            "grid_auto_flow": null,
            "grid_area": null,
            "grid_template_columns": null,
            "flex": null,
            "_model_name": "LayoutModel",
            "justify_items": null,
            "grid_row": null,
            "max_height": null,
            "align_content": null,
            "visibility": null,
            "align_self": null,
            "height": null,
            "min_height": null,
            "padding": null,
            "grid_auto_rows": null,
            "grid_gap": null,
            "max_width": null,
            "order": null,
            "_view_module_version": "1.2.0",
            "grid_template_areas": null,
            "object_position": null,
            "object_fit": null,
            "grid_auto_columns": null,
            "margin": null,
            "display": null,
            "left": null
          }
        },
        "f6e8e1f91857455188e1eb9dbba1ce64": {
          "model_module": "@jupyter-widgets/controls",
          "model_name": "FloatProgressModel",
          "model_module_version": "1.5.0",
          "state": {
            "_view_name": "ProgressView",
            "style": "IPY_MODEL_7ae6726dffa34f9498ec2a5eeba7e517",
            "_dom_classes": [],
            "description": "Dl Size...: 100%",
            "_model_name": "FloatProgressModel",
            "bar_style": "success",
            "max": 1,
            "_view_module": "@jupyter-widgets/controls",
            "_model_module_version": "1.5.0",
            "value": 1,
            "_view_count": null,
            "_view_module_version": "1.5.0",
            "orientation": "horizontal",
            "min": 0,
            "description_tooltip": null,
            "_model_module": "@jupyter-widgets/controls",
            "layout": "IPY_MODEL_b3b91020dc0c4801b3785753acedb06d"
          }
        },
        "9d4bd30c92964bee8e8567f5836b64b4": {
          "model_module": "@jupyter-widgets/controls",
          "model_name": "HTMLModel",
          "model_module_version": "1.5.0",
          "state": {
            "_view_name": "HTMLView",
            "style": "IPY_MODEL_de7753d31b5d475d9abec1223ce06c88",
            "_dom_classes": [],
            "description": "",
            "_model_name": "HTMLModel",
            "placeholder": "​",
            "_view_module": "@jupyter-widgets/controls",
            "_model_module_version": "1.5.0",
            "value": " 246/246 [00:15&lt;00:00, 15.92 MiB/s]",
            "_view_count": null,
            "_view_module_version": "1.5.0",
            "description_tooltip": null,
            "_model_module": "@jupyter-widgets/controls",
            "layout": "IPY_MODEL_6165f34d513c42e4a16f4dc9a905e2a3"
          }
        },
        "7ae6726dffa34f9498ec2a5eeba7e517": {
          "model_module": "@jupyter-widgets/controls",
          "model_name": "ProgressStyleModel",
          "model_module_version": "1.5.0",
          "state": {
            "_view_name": "StyleView",
            "_model_name": "ProgressStyleModel",
            "description_width": "initial",
            "_view_module": "@jupyter-widgets/base",
            "_model_module_version": "1.5.0",
            "_view_count": null,
            "_view_module_version": "1.2.0",
            "bar_color": null,
            "_model_module": "@jupyter-widgets/controls"
          }
        },
        "b3b91020dc0c4801b3785753acedb06d": {
          "model_module": "@jupyter-widgets/base",
          "model_name": "LayoutModel",
          "model_module_version": "1.2.0",
          "state": {
            "_view_name": "LayoutView",
            "grid_template_rows": null,
            "right": null,
            "justify_content": null,
            "_view_module": "@jupyter-widgets/base",
            "overflow": null,
            "_model_module_version": "1.2.0",
            "_view_count": null,
            "flex_flow": null,
            "width": null,
            "min_width": null,
            "border": null,
            "align_items": null,
            "bottom": null,
            "_model_module": "@jupyter-widgets/base",
            "top": null,
            "grid_column": null,
            "overflow_y": null,
            "overflow_x": null,
            "grid_auto_flow": null,
            "grid_area": null,
            "grid_template_columns": null,
            "flex": null,
            "_model_name": "LayoutModel",
            "justify_items": null,
            "grid_row": null,
            "max_height": null,
            "align_content": null,
            "visibility": null,
            "align_self": null,
            "height": null,
            "min_height": null,
            "padding": null,
            "grid_auto_rows": null,
            "grid_gap": null,
            "max_width": null,
            "order": null,
            "_view_module_version": "1.2.0",
            "grid_template_areas": null,
            "object_position": null,
            "object_fit": null,
            "grid_auto_columns": null,
            "margin": null,
            "display": null,
            "left": null
          }
        },
        "de7753d31b5d475d9abec1223ce06c88": {
          "model_module": "@jupyter-widgets/controls",
          "model_name": "DescriptionStyleModel",
          "model_module_version": "1.5.0",
          "state": {
            "_view_name": "StyleView",
            "_model_name": "DescriptionStyleModel",
            "description_width": "",
            "_view_module": "@jupyter-widgets/base",
            "_model_module_version": "1.5.0",
            "_view_count": null,
            "_view_module_version": "1.2.0",
            "_model_module": "@jupyter-widgets/controls"
          }
        },
        "6165f34d513c42e4a16f4dc9a905e2a3": {
          "model_module": "@jupyter-widgets/base",
          "model_name": "LayoutModel",
          "model_module_version": "1.2.0",
          "state": {
            "_view_name": "LayoutView",
            "grid_template_rows": null,
            "right": null,
            "justify_content": null,
            "_view_module": "@jupyter-widgets/base",
            "overflow": null,
            "_model_module_version": "1.2.0",
            "_view_count": null,
            "flex_flow": null,
            "width": null,
            "min_width": null,
            "border": null,
            "align_items": null,
            "bottom": null,
            "_model_module": "@jupyter-widgets/base",
            "top": null,
            "grid_column": null,
            "overflow_y": null,
            "overflow_x": null,
            "grid_auto_flow": null,
            "grid_area": null,
            "grid_template_columns": null,
            "flex": null,
            "_model_name": "LayoutModel",
            "justify_items": null,
            "grid_row": null,
            "max_height": null,
            "align_content": null,
            "visibility": null,
            "align_self": null,
            "height": null,
            "min_height": null,
            "padding": null,
            "grid_auto_rows": null,
            "grid_gap": null,
            "max_width": null,
            "order": null,
            "_view_module_version": "1.2.0",
            "grid_template_areas": null,
            "object_position": null,
            "object_fit": null,
            "grid_auto_columns": null,
            "margin": null,
            "display": null,
            "left": null
          }
        },
        "a207ec0066a0427c8f921d55536564bd": {
          "model_module": "@jupyter-widgets/controls",
          "model_name": "HBoxModel",
          "model_module_version": "1.5.0",
          "state": {
            "_view_name": "HBoxView",
            "_dom_classes": [],
            "_model_name": "HBoxModel",
            "_view_module": "@jupyter-widgets/controls",
            "_model_module_version": "1.5.0",
            "_view_count": null,
            "_view_module_version": "1.5.0",
            "box_style": "",
            "layout": "IPY_MODEL_26e7197317454c1dbedcef2b21d3fe78",
            "_model_module": "@jupyter-widgets/controls",
            "children": [
              "IPY_MODEL_4d03b0c779384a82afc117d3d66a4146",
              "IPY_MODEL_d7972b930b10412993746474abe7ae09"
            ]
          }
        },
        "26e7197317454c1dbedcef2b21d3fe78": {
          "model_module": "@jupyter-widgets/base",
          "model_name": "LayoutModel",
          "model_module_version": "1.2.0",
          "state": {
            "_view_name": "LayoutView",
            "grid_template_rows": null,
            "right": null,
            "justify_content": null,
            "_view_module": "@jupyter-widgets/base",
            "overflow": null,
            "_model_module_version": "1.2.0",
            "_view_count": null,
            "flex_flow": null,
            "width": null,
            "min_width": null,
            "border": null,
            "align_items": null,
            "bottom": null,
            "_model_module": "@jupyter-widgets/base",
            "top": null,
            "grid_column": null,
            "overflow_y": null,
            "overflow_x": null,
            "grid_auto_flow": null,
            "grid_area": null,
            "grid_template_columns": null,
            "flex": null,
            "_model_name": "LayoutModel",
            "justify_items": null,
            "grid_row": null,
            "max_height": null,
            "align_content": null,
            "visibility": null,
            "align_self": null,
            "height": null,
            "min_height": null,
            "padding": null,
            "grid_auto_rows": null,
            "grid_gap": null,
            "max_width": null,
            "order": null,
            "_view_module_version": "1.2.0",
            "grid_template_areas": null,
            "object_position": null,
            "object_fit": null,
            "grid_auto_columns": null,
            "margin": null,
            "display": null,
            "left": null
          }
        },
        "4d03b0c779384a82afc117d3d66a4146": {
          "model_module": "@jupyter-widgets/controls",
          "model_name": "FloatProgressModel",
          "model_module_version": "1.5.0",
          "state": {
            "_view_name": "ProgressView",
            "style": "IPY_MODEL_a8e9ac1fe3284db7af43187af727611f",
            "_dom_classes": [],
            "description": "Extraction completed...: 100%",
            "_model_name": "FloatProgressModel",
            "bar_style": "success",
            "max": 1,
            "_view_module": "@jupyter-widgets/controls",
            "_model_module_version": "1.5.0",
            "value": 1,
            "_view_count": null,
            "_view_module_version": "1.5.0",
            "orientation": "horizontal",
            "min": 0,
            "description_tooltip": null,
            "_model_module": "@jupyter-widgets/controls",
            "layout": "IPY_MODEL_74fbae80112f4b198c9b59db065c5932"
          }
        },
        "d7972b930b10412993746474abe7ae09": {
          "model_module": "@jupyter-widgets/controls",
          "model_name": "HTMLModel",
          "model_module_version": "1.5.0",
          "state": {
            "_view_name": "HTMLView",
            "style": "IPY_MODEL_5a370564241a4edea59e43f34a096935",
            "_dom_classes": [],
            "description": "",
            "_model_name": "HTMLModel",
            "placeholder": "​",
            "_view_module": "@jupyter-widgets/controls",
            "_model_module_version": "1.5.0",
            "value": " 1/1 [00:15&lt;00:00, 15.41s/ file]",
            "_view_count": null,
            "_view_module_version": "1.5.0",
            "description_tooltip": null,
            "_model_module": "@jupyter-widgets/controls",
            "layout": "IPY_MODEL_cfb8193212614ee9807fed3c84bfb100"
          }
        },
        "a8e9ac1fe3284db7af43187af727611f": {
          "model_module": "@jupyter-widgets/controls",
          "model_name": "ProgressStyleModel",
          "model_module_version": "1.5.0",
          "state": {
            "_view_name": "StyleView",
            "_model_name": "ProgressStyleModel",
            "description_width": "initial",
            "_view_module": "@jupyter-widgets/base",
            "_model_module_version": "1.5.0",
            "_view_count": null,
            "_view_module_version": "1.2.0",
            "bar_color": null,
            "_model_module": "@jupyter-widgets/controls"
          }
        },
        "74fbae80112f4b198c9b59db065c5932": {
          "model_module": "@jupyter-widgets/base",
          "model_name": "LayoutModel",
          "model_module_version": "1.2.0",
          "state": {
            "_view_name": "LayoutView",
            "grid_template_rows": null,
            "right": null,
            "justify_content": null,
            "_view_module": "@jupyter-widgets/base",
            "overflow": null,
            "_model_module_version": "1.2.0",
            "_view_count": null,
            "flex_flow": null,
            "width": null,
            "min_width": null,
            "border": null,
            "align_items": null,
            "bottom": null,
            "_model_module": "@jupyter-widgets/base",
            "top": null,
            "grid_column": null,
            "overflow_y": null,
            "overflow_x": null,
            "grid_auto_flow": null,
            "grid_area": null,
            "grid_template_columns": null,
            "flex": null,
            "_model_name": "LayoutModel",
            "justify_items": null,
            "grid_row": null,
            "max_height": null,
            "align_content": null,
            "visibility": null,
            "align_self": null,
            "height": null,
            "min_height": null,
            "padding": null,
            "grid_auto_rows": null,
            "grid_gap": null,
            "max_width": null,
            "order": null,
            "_view_module_version": "1.2.0",
            "grid_template_areas": null,
            "object_position": null,
            "object_fit": null,
            "grid_auto_columns": null,
            "margin": null,
            "display": null,
            "left": null
          }
        },
        "5a370564241a4edea59e43f34a096935": {
          "model_module": "@jupyter-widgets/controls",
          "model_name": "DescriptionStyleModel",
          "model_module_version": "1.5.0",
          "state": {
            "_view_name": "StyleView",
            "_model_name": "DescriptionStyleModel",
            "description_width": "",
            "_view_module": "@jupyter-widgets/base",
            "_model_module_version": "1.5.0",
            "_view_count": null,
            "_view_module_version": "1.2.0",
            "_model_module": "@jupyter-widgets/controls"
          }
        },
        "cfb8193212614ee9807fed3c84bfb100": {
          "model_module": "@jupyter-widgets/base",
          "model_name": "LayoutModel",
          "model_module_version": "1.2.0",
          "state": {
            "_view_name": "LayoutView",
            "grid_template_rows": null,
            "right": null,
            "justify_content": null,
            "_view_module": "@jupyter-widgets/base",
            "overflow": null,
            "_model_module_version": "1.2.0",
            "_view_count": null,
            "flex_flow": null,
            "width": null,
            "min_width": null,
            "border": null,
            "align_items": null,
            "bottom": null,
            "_model_module": "@jupyter-widgets/base",
            "top": null,
            "grid_column": null,
            "overflow_y": null,
            "overflow_x": null,
            "grid_auto_flow": null,
            "grid_area": null,
            "grid_template_columns": null,
            "flex": null,
            "_model_name": "LayoutModel",
            "justify_items": null,
            "grid_row": null,
            "max_height": null,
            "align_content": null,
            "visibility": null,
            "align_self": null,
            "height": null,
            "min_height": null,
            "padding": null,
            "grid_auto_rows": null,
            "grid_gap": null,
            "max_width": null,
            "order": null,
            "_view_module_version": "1.2.0",
            "grid_template_areas": null,
            "object_position": null,
            "object_fit": null,
            "grid_auto_columns": null,
            "margin": null,
            "display": null,
            "left": null
          }
        },
        "09e30b327b5e4a1eb9730207d47590ca": {
          "model_module": "@jupyter-widgets/controls",
          "model_name": "HBoxModel",
          "model_module_version": "1.5.0",
          "state": {
            "_view_name": "HBoxView",
            "_dom_classes": [],
            "_model_name": "HBoxModel",
            "_view_module": "@jupyter-widgets/controls",
            "_model_module_version": "1.5.0",
            "_view_count": null,
            "_view_module_version": "1.5.0",
            "box_style": "",
            "layout": "IPY_MODEL_af71354790674da6a9887e41e35bc515",
            "_model_module": "@jupyter-widgets/controls",
            "children": [
              "IPY_MODEL_51c26f416df94a06b0a4b9d3e5759c27",
              "IPY_MODEL_fe1caee9ff494f9792ff5664037bf5ae"
            ]
          }
        },
        "af71354790674da6a9887e41e35bc515": {
          "model_module": "@jupyter-widgets/base",
          "model_name": "LayoutModel",
          "model_module_version": "1.2.0",
          "state": {
            "_view_name": "LayoutView",
            "grid_template_rows": null,
            "right": null,
            "justify_content": null,
            "_view_module": "@jupyter-widgets/base",
            "overflow": null,
            "_model_module_version": "1.2.0",
            "_view_count": null,
            "flex_flow": null,
            "width": null,
            "min_width": null,
            "border": null,
            "align_items": null,
            "bottom": null,
            "_model_module": "@jupyter-widgets/base",
            "top": null,
            "grid_column": null,
            "overflow_y": null,
            "overflow_x": null,
            "grid_auto_flow": null,
            "grid_area": null,
            "grid_template_columns": null,
            "flex": null,
            "_model_name": "LayoutModel",
            "justify_items": null,
            "grid_row": null,
            "max_height": null,
            "align_content": null,
            "visibility": null,
            "align_self": null,
            "height": null,
            "min_height": null,
            "padding": null,
            "grid_auto_rows": null,
            "grid_gap": null,
            "max_width": null,
            "order": null,
            "_view_module_version": "1.2.0",
            "grid_template_areas": null,
            "object_position": null,
            "object_fit": null,
            "grid_auto_columns": null,
            "margin": null,
            "display": null,
            "left": null
          }
        },
        "51c26f416df94a06b0a4b9d3e5759c27": {
          "model_module": "@jupyter-widgets/controls",
          "model_name": "FloatProgressModel",
          "model_module_version": "1.5.0",
          "state": {
            "_view_name": "ProgressView",
            "style": "IPY_MODEL_b2ae4f2386d846768c7cbc78a0e28c8b",
            "_dom_classes": [],
            "description": "",
            "_model_name": "FloatProgressModel",
            "bar_style": "info",
            "max": 1,
            "_view_module": "@jupyter-widgets/controls",
            "_model_module_version": "1.5.0",
            "value": 1,
            "_view_count": null,
            "_view_module_version": "1.5.0",
            "orientation": "horizontal",
            "min": 0,
            "description_tooltip": null,
            "_model_module": "@jupyter-widgets/controls",
            "layout": "IPY_MODEL_ab5055b1c6f44441863ccb44f3ccf169"
          }
        },
        "fe1caee9ff494f9792ff5664037bf5ae": {
          "model_module": "@jupyter-widgets/controls",
          "model_name": "HTMLModel",
          "model_module_version": "1.5.0",
          "state": {
            "_view_name": "HTMLView",
            "style": "IPY_MODEL_d540f6ce180e40aaa952de2b705122be",
            "_dom_classes": [],
            "description": "",
            "_model_name": "HTMLModel",
            "placeholder": "​",
            "_view_module": "@jupyter-widgets/controls",
            "_model_module_version": "1.5.0",
            "value": " 5000/0 [00:36&lt;00:00, 181.68 examples/s]",
            "_view_count": null,
            "_view_module_version": "1.5.0",
            "description_tooltip": null,
            "_model_module": "@jupyter-widgets/controls",
            "layout": "IPY_MODEL_bcfc54a536e04037b09fe21ca4332a3f"
          }
        },
        "b2ae4f2386d846768c7cbc78a0e28c8b": {
          "model_module": "@jupyter-widgets/controls",
          "model_name": "ProgressStyleModel",
          "model_module_version": "1.5.0",
          "state": {
            "_view_name": "StyleView",
            "_model_name": "ProgressStyleModel",
            "description_width": "initial",
            "_view_module": "@jupyter-widgets/base",
            "_model_module_version": "1.5.0",
            "_view_count": null,
            "_view_module_version": "1.2.0",
            "bar_color": null,
            "_model_module": "@jupyter-widgets/controls"
          }
        },
        "ab5055b1c6f44441863ccb44f3ccf169": {
          "model_module": "@jupyter-widgets/base",
          "model_name": "LayoutModel",
          "model_module_version": "1.2.0",
          "state": {
            "_view_name": "LayoutView",
            "grid_template_rows": null,
            "right": null,
            "justify_content": null,
            "_view_module": "@jupyter-widgets/base",
            "overflow": null,
            "_model_module_version": "1.2.0",
            "_view_count": null,
            "flex_flow": null,
            "width": null,
            "min_width": null,
            "border": null,
            "align_items": null,
            "bottom": null,
            "_model_module": "@jupyter-widgets/base",
            "top": null,
            "grid_column": null,
            "overflow_y": null,
            "overflow_x": null,
            "grid_auto_flow": null,
            "grid_area": null,
            "grid_template_columns": null,
            "flex": null,
            "_model_name": "LayoutModel",
            "justify_items": null,
            "grid_row": null,
            "max_height": null,
            "align_content": null,
            "visibility": null,
            "align_self": null,
            "height": null,
            "min_height": null,
            "padding": null,
            "grid_auto_rows": null,
            "grid_gap": null,
            "max_width": null,
            "order": null,
            "_view_module_version": "1.2.0",
            "grid_template_areas": null,
            "object_position": null,
            "object_fit": null,
            "grid_auto_columns": null,
            "margin": null,
            "display": null,
            "left": null
          }
        },
        "d540f6ce180e40aaa952de2b705122be": {
          "model_module": "@jupyter-widgets/controls",
          "model_name": "DescriptionStyleModel",
          "model_module_version": "1.5.0",
          "state": {
            "_view_name": "StyleView",
            "_model_name": "DescriptionStyleModel",
            "description_width": "",
            "_view_module": "@jupyter-widgets/base",
            "_model_module_version": "1.5.0",
            "_view_count": null,
            "_view_module_version": "1.2.0",
            "_model_module": "@jupyter-widgets/controls"
          }
        },
        "bcfc54a536e04037b09fe21ca4332a3f": {
          "model_module": "@jupyter-widgets/base",
          "model_name": "LayoutModel",
          "model_module_version": "1.2.0",
          "state": {
            "_view_name": "LayoutView",
            "grid_template_rows": null,
            "right": null,
            "justify_content": null,
            "_view_module": "@jupyter-widgets/base",
            "overflow": null,
            "_model_module_version": "1.2.0",
            "_view_count": null,
            "flex_flow": null,
            "width": null,
            "min_width": null,
            "border": null,
            "align_items": null,
            "bottom": null,
            "_model_module": "@jupyter-widgets/base",
            "top": null,
            "grid_column": null,
            "overflow_y": null,
            "overflow_x": null,
            "grid_auto_flow": null,
            "grid_area": null,
            "grid_template_columns": null,
            "flex": null,
            "_model_name": "LayoutModel",
            "justify_items": null,
            "grid_row": null,
            "max_height": null,
            "align_content": null,
            "visibility": null,
            "align_self": null,
            "height": null,
            "min_height": null,
            "padding": null,
            "grid_auto_rows": null,
            "grid_gap": null,
            "max_width": null,
            "order": null,
            "_view_module_version": "1.2.0",
            "grid_template_areas": null,
            "object_position": null,
            "object_fit": null,
            "grid_auto_columns": null,
            "margin": null,
            "display": null,
            "left": null
          }
        },
        "1ddab572f22c46419c6cdf445fe647ed": {
          "model_module": "@jupyter-widgets/controls",
          "model_name": "HBoxModel",
          "model_module_version": "1.5.0",
          "state": {
            "_view_name": "HBoxView",
            "_dom_classes": [],
            "_model_name": "HBoxModel",
            "_view_module": "@jupyter-widgets/controls",
            "_model_module_version": "1.5.0",
            "_view_count": null,
            "_view_module_version": "1.5.0",
            "box_style": "",
            "layout": "IPY_MODEL_fb89ebdb86b04c5a8f4df3eb738657a8",
            "_model_module": "@jupyter-widgets/controls",
            "children": [
              "IPY_MODEL_9f90316f9e954df596fe44a337fb3c33",
              "IPY_MODEL_50ac6c00c345412c92b7aa70ad73ab16"
            ]
          }
        },
        "fb89ebdb86b04c5a8f4df3eb738657a8": {
          "model_module": "@jupyter-widgets/base",
          "model_name": "LayoutModel",
          "model_module_version": "1.2.0",
          "state": {
            "_view_name": "LayoutView",
            "grid_template_rows": null,
            "right": null,
            "justify_content": null,
            "_view_module": "@jupyter-widgets/base",
            "overflow": null,
            "_model_module_version": "1.2.0",
            "_view_count": null,
            "flex_flow": null,
            "width": null,
            "min_width": null,
            "border": null,
            "align_items": null,
            "bottom": null,
            "_model_module": "@jupyter-widgets/base",
            "top": null,
            "grid_column": null,
            "overflow_y": null,
            "overflow_x": null,
            "grid_auto_flow": null,
            "grid_area": null,
            "grid_template_columns": null,
            "flex": null,
            "_model_name": "LayoutModel",
            "justify_items": null,
            "grid_row": null,
            "max_height": null,
            "align_content": null,
            "visibility": null,
            "align_self": null,
            "height": null,
            "min_height": null,
            "padding": null,
            "grid_auto_rows": null,
            "grid_gap": null,
            "max_width": null,
            "order": null,
            "_view_module_version": "1.2.0",
            "grid_template_areas": null,
            "object_position": null,
            "object_fit": null,
            "grid_auto_columns": null,
            "margin": null,
            "display": null,
            "left": null
          }
        },
        "9f90316f9e954df596fe44a337fb3c33": {
          "model_module": "@jupyter-widgets/controls",
          "model_name": "FloatProgressModel",
          "model_module_version": "1.5.0",
          "state": {
            "_view_name": "ProgressView",
            "style": "IPY_MODEL_39e9dbc46a3349a2a6aa1f64a8661cf9",
            "_dom_classes": [],
            "description": " 81%",
            "_model_name": "FloatProgressModel",
            "bar_style": "danger",
            "max": 5000,
            "_view_module": "@jupyter-widgets/controls",
            "_model_module_version": "1.5.0",
            "value": 4071,
            "_view_count": null,
            "_view_module_version": "1.5.0",
            "orientation": "horizontal",
            "min": 0,
            "description_tooltip": null,
            "_model_module": "@jupyter-widgets/controls",
            "layout": "IPY_MODEL_d74e6545518e4114a5968dbc5dd36721"
          }
        },
        "50ac6c00c345412c92b7aa70ad73ab16": {
          "model_module": "@jupyter-widgets/controls",
          "model_name": "HTMLModel",
          "model_module_version": "1.5.0",
          "state": {
            "_view_name": "HTMLView",
            "style": "IPY_MODEL_0fa56105c3514f02833a0a7cfe3da975",
            "_dom_classes": [],
            "description": "",
            "_model_name": "HTMLModel",
            "placeholder": "​",
            "_view_module": "@jupyter-widgets/controls",
            "_model_module_version": "1.5.0",
            "value": " 4071/5000 [00:19&lt;00:00, 19028.65 examples/s]",
            "_view_count": null,
            "_view_module_version": "1.5.0",
            "description_tooltip": null,
            "_model_module": "@jupyter-widgets/controls",
            "layout": "IPY_MODEL_b7ffe1c3110346259998d1c1a5ea9844"
          }
        },
        "39e9dbc46a3349a2a6aa1f64a8661cf9": {
          "model_module": "@jupyter-widgets/controls",
          "model_name": "ProgressStyleModel",
          "model_module_version": "1.5.0",
          "state": {
            "_view_name": "StyleView",
            "_model_name": "ProgressStyleModel",
            "description_width": "initial",
            "_view_module": "@jupyter-widgets/base",
            "_model_module_version": "1.5.0",
            "_view_count": null,
            "_view_module_version": "1.2.0",
            "bar_color": null,
            "_model_module": "@jupyter-widgets/controls"
          }
        },
        "d74e6545518e4114a5968dbc5dd36721": {
          "model_module": "@jupyter-widgets/base",
          "model_name": "LayoutModel",
          "model_module_version": "1.2.0",
          "state": {
            "_view_name": "LayoutView",
            "grid_template_rows": null,
            "right": null,
            "justify_content": null,
            "_view_module": "@jupyter-widgets/base",
            "overflow": null,
            "_model_module_version": "1.2.0",
            "_view_count": null,
            "flex_flow": null,
            "width": null,
            "min_width": null,
            "border": null,
            "align_items": null,
            "bottom": null,
            "_model_module": "@jupyter-widgets/base",
            "top": null,
            "grid_column": null,
            "overflow_y": null,
            "overflow_x": null,
            "grid_auto_flow": null,
            "grid_area": null,
            "grid_template_columns": null,
            "flex": null,
            "_model_name": "LayoutModel",
            "justify_items": null,
            "grid_row": null,
            "max_height": null,
            "align_content": null,
            "visibility": null,
            "align_self": null,
            "height": null,
            "min_height": null,
            "padding": null,
            "grid_auto_rows": null,
            "grid_gap": null,
            "max_width": null,
            "order": null,
            "_view_module_version": "1.2.0",
            "grid_template_areas": null,
            "object_position": null,
            "object_fit": null,
            "grid_auto_columns": null,
            "margin": null,
            "display": null,
            "left": null
          }
        },
        "0fa56105c3514f02833a0a7cfe3da975": {
          "model_module": "@jupyter-widgets/controls",
          "model_name": "DescriptionStyleModel",
          "model_module_version": "1.5.0",
          "state": {
            "_view_name": "StyleView",
            "_model_name": "DescriptionStyleModel",
            "description_width": "",
            "_view_module": "@jupyter-widgets/base",
            "_model_module_version": "1.5.0",
            "_view_count": null,
            "_view_module_version": "1.2.0",
            "_model_module": "@jupyter-widgets/controls"
          }
        },
        "b7ffe1c3110346259998d1c1a5ea9844": {
          "model_module": "@jupyter-widgets/base",
          "model_name": "LayoutModel",
          "model_module_version": "1.2.0",
          "state": {
            "_view_name": "LayoutView",
            "grid_template_rows": null,
            "right": null,
            "justify_content": null,
            "_view_module": "@jupyter-widgets/base",
            "overflow": null,
            "_model_module_version": "1.2.0",
            "_view_count": null,
            "flex_flow": null,
            "width": null,
            "min_width": null,
            "border": null,
            "align_items": null,
            "bottom": null,
            "_model_module": "@jupyter-widgets/base",
            "top": null,
            "grid_column": null,
            "overflow_y": null,
            "overflow_x": null,
            "grid_auto_flow": null,
            "grid_area": null,
            "grid_template_columns": null,
            "flex": null,
            "_model_name": "LayoutModel",
            "justify_items": null,
            "grid_row": null,
            "max_height": null,
            "align_content": null,
            "visibility": null,
            "align_self": null,
            "height": null,
            "min_height": null,
            "padding": null,
            "grid_auto_rows": null,
            "grid_gap": null,
            "max_width": null,
            "order": null,
            "_view_module_version": "1.2.0",
            "grid_template_areas": null,
            "object_position": null,
            "object_fit": null,
            "grid_auto_columns": null,
            "margin": null,
            "display": null,
            "left": null
          }
        }
      }
    }
  },
  "cells": [
    {
      "cell_type": "markdown",
      "metadata": {
        "id": "view-in-github",
        "colab_type": "text"
      },
      "source": [
        "<a href=\"https://colab.research.google.com/github/guillermodulcey/TesisCinvestav/blob/main/MSR/ValidacionModelo.ipynb\" target=\"_parent\"><img src=\"https://colab.research.google.com/assets/colab-badge.svg\" alt=\"Open In Colab\"/></a>"
      ]
    },
    {
      "cell_type": "markdown",
      "metadata": {
        "id": "mMv-oAXYEw8l"
      },
      "source": [
        "# Dependencias"
      ]
    },
    {
      "cell_type": "code",
      "metadata": {
        "id": "HSmDDgsZARzm"
      },
      "source": [
        "import numpy as np\n",
        "import matplotlib.pyplot as plt\n",
        "import pandas as pd\n",
        "\n",
        "import tensorflow as tf\n",
        "import tensorflow_hub as hub\n",
        "import tensorflow_datasets as tfds\n",
        "\n",
        "from tensorflow.keras.preprocessing.text import Tokenizer\n",
        "from tensorflow.keras.preprocessing.sequence import pad_sequences"
      ],
      "execution_count": null,
      "outputs": []
    },
    {
      "cell_type": "code",
      "metadata": {
        "id": "_eC6p5tuKmPl"
      },
      "source": [
        "seed = 123"
      ],
      "execution_count": null,
      "outputs": []
    },
    {
      "cell_type": "code",
      "metadata": {
        "id": "img14VPlC1tz"
      },
      "source": [
        "from scipy.spatial import distance\n",
        "\n",
        "class SOM():\n",
        "  def __init__(self, m, n, inputs, seed=123):\n",
        "    self.m = m\n",
        "    self.n = n\n",
        "    self.dim = inputs.shape[1]\n",
        "    self.std_coeff = 0.5\n",
        "\n",
        "    self.initial_learning_rate = 0.1\n",
        "    self.initial_radius = np.max((self.m, self.n)) / 2\n",
        "    self.inputs = inputs\n",
        "    self.w_init = tf.random_uniform_initializer(maxval=1, seed=seed)\n",
        "    self.weights = tf.Variable(initial_value=self.w_init(shape=[self.m * self.n, self.dim], dtype=\"float32\"), name='weights')\n",
        "    self.location_vects = tf.constant(np.array(list(self.neuron_locations())), name='Location_Vectors')\n",
        "\n",
        "  def neuron_locations(self):\n",
        "    for i in range(self.m):\n",
        "      for j in range(self.n):\n",
        "          yield np.array([i, j])\n",
        "\n",
        "  def train(self, max_epochs):\n",
        "    tf_inputs = tf.Variable(self.inputs)\n",
        "    for epoch in range(1, max_epochs+1):\n",
        "      mean = tf.reduce_mean(self.weights)\n",
        "      std = tf.sqrt(tf.reduce_mean(tf.math.squared_difference(self.weights, mean)))\n",
        "      max = tf.reduce_max(self.weights)\n",
        "      min = tf.reduce_min(self.weights)\n",
        "\n",
        "      squared_distance = tf.reduce_sum(tf.pow(tf.subtract(tf.expand_dims(self.weights, axis=0),tf.expand_dims(tf_inputs, axis=1)), 2), 2)\n",
        "      # BMU_Indices (Best matching unit)\n",
        "      bmu_indices = tf.argmin(squared_distance, axis=1)\n",
        "      # BMU_Locations\n",
        "      bmu_locs = tf.reshape(tf.gather(self.location_vects, bmu_indices), [-1, 2])\n",
        "      # Learning_Rate\n",
        "      radius = tf.subtract(self.initial_radius, tf.multiply(epoch, tf.divide(tf.cast(tf.subtract(self.initial_radius, 1), tf.float32),\n",
        "                                            tf.cast(tf.subtract(max_epochs+1, 1), tf.float32))))\n",
        "      alpha = tf.multiply(self.initial_learning_rate, tf.subtract(1.0, tf.divide(tf.cast(epoch, tf.float32),\n",
        "                                                  tf.cast(max_epochs+1, tf.float32))))\n",
        "      bmu_distance_squares = tf.reduce_sum(tf.pow(tf.subtract(tf.expand_dims(self.location_vects, axis=0),\n",
        "                                                  tf.expand_dims(bmu_locs, axis=1)), 2), 2)\n",
        "      neighbourhood_func = tf.exp(tf.divide(tf.negative(tf.cast(bmu_distance_squares, \"float32\")), tf.multiply(\n",
        "                                                        tf.square(tf.multiply(radius, self.std_coeff)), 2)))\n",
        "      learning_rate_op = tf.multiply(neighbourhood_func, alpha)\n",
        "      # Update_Weights\n",
        "      numerators = tf.reduce_sum(tf.multiply(tf.expand_dims(learning_rate_op, axis=-1), tf.expand_dims(tf_inputs, axis=1)), axis=0)\n",
        "      denominators = tf.expand_dims(tf.reduce_sum(learning_rate_op, axis=0) + float(1e-12), axis=-1)\n",
        "        \n",
        "      self.weights = tf.divide(numerators, denominators)\n",
        "    return self.weights\n",
        "\n",
        "  def transform(self):\n",
        "    result_matrix = list()\n",
        "    for i, row in enumerate(self.inputs):\n",
        "      image_document = np.zeros(shape=self.m*self.n, dtype=np.float32)\n",
        "      for j, node in enumerate(self.weights.numpy()):\n",
        "        #image_document[j]=np.dot(row, node.weights)\n",
        "        image_document[j] = 1.0/distance.euclidean(row, node)\n",
        "      mn = image_document.min()\n",
        "      mx = image_document.max()\n",
        "      image_document = ((image_document-mn)/(mx-mn)*255.9).astype(np.uint8)\n",
        "      image_document = image_document.reshape(self.m, self.n)\n",
        "      result_matrix.append(image_document)\n",
        "\n",
        "    return np.array(result_matrix)\n",
        "\n",
        "  def save(self, name):\n",
        "    np.save(f'drive/MyDrive/Models/{name}.npy', self.weights)\n",
        "\n",
        "  def load(self, name):\n",
        "    self.weights = np.load(f'drive/MyDrive/Models/{name}.npy')\n",
        "    self.weights = tf.Variable(self.weights)"
      ],
      "execution_count": null,
      "outputs": []
    },
    {
      "cell_type": "code",
      "metadata": {
        "id": "65yVmZ5yIyUb"
      },
      "source": [
        "class DatasetAlignment():\n",
        "  def __init__(self, size=3000, val_size=2000, seed=123):\n",
        "    text_dataset = tf.keras.preprocessing.text_dataset_from_directory(\n",
        "      '/content/drive/MyDrive/Datasets/TranscriptionsB',\n",
        "      labels=\"inferred\",\n",
        "      label_mode=\"int\",\n",
        "      class_names=None,\n",
        "      batch_size=2000,\n",
        "      max_length=None,\n",
        "      shuffle=True,\n",
        "      seed=seed,\n",
        "      validation_split=.2,\n",
        "      subset='training',\n",
        "      follow_links=False,\n",
        "    )\n",
        "\n",
        "    text_validation = tf.keras.preprocessing.text_dataset_from_directory(\n",
        "      '/content/drive/MyDrive/Datasets/TranscriptionsB',\n",
        "      labels=\"inferred\",\n",
        "      label_mode=\"int\",\n",
        "      class_names=None,\n",
        "      batch_size=2000,\n",
        "      max_length=None,\n",
        "      shuffle=True,\n",
        "      seed=seed,\n",
        "      validation_split=.2,\n",
        "      subset='validation',\n",
        "      follow_links=False,\n",
        "    )\n",
        "\n",
        "    (colorectal_dataset, colorectal_validation), colorectal_info = tfds.load('colorectal_histology', \n",
        "                                                      split=[f'train[:{size}]', f'train[{size}:]'], \n",
        "                                                      shuffle_files=False, \n",
        "                                                      with_info=True, \n",
        "                                                      as_supervised=True)\n",
        "\n",
        "    self.cats_dogs = colorectal_dataset.take(size)\n",
        "    self.reviews = text_dataset.take(size)\n",
        "\n",
        "    self.validation_cats_dogs = colorectal_validation.take(val_size)\n",
        "    self.validation_reviews = text_validation.take(val_size)\n",
        "\n",
        "  def train_text(self, max_words=10000):\n",
        "    for texts, t_labels in self.reviews.take(1):  # only take first batch of dataset\n",
        "      numpy_text = texts.numpy()\n",
        "      numpy_t_labels = t_labels.numpy()\n",
        "\n",
        "    train = pd.DataFrame()\n",
        "    train['text'] = pd.Series(numpy_text)\n",
        "    train['label'] = pd.Series(numpy_t_labels)\n",
        "\n",
        "    train_labels = train['label']\n",
        "    train_text = train['text']\n",
        "\n",
        "    train_text = train_text.apply(lambda x: x.decode('utf-8'))\n",
        "\n",
        "    self.tokenizer = Tokenizer(max_words, oov_token='<OOV>')\n",
        "\n",
        "    self.tokenizer.fit_on_texts(train_text.to_list())\n",
        "    self.total_words = len(self.tokenizer.word_index)+1\n",
        "\n",
        "    train_sequences = self.tokenizer.texts_to_sequences(train_text.to_list())\n",
        "    train_padded = pad_sequences(train_sequences)\n",
        "\n",
        "    train_labels = np.array(train_labels.to_list())\n",
        "\n",
        "    self.max_sequence_length = train_padded.shape[1]\n",
        "\n",
        "    self.reviews = tf.data.Dataset.from_tensor_slices((train_padded, train_labels))\n",
        "\n",
        "    ## Validation\n",
        "    for texts, t_labels in self.validation_reviews.take(1):  # only take first batch of dataset\n",
        "      validation_text = texts.numpy()\n",
        "      validation_labels = t_labels.numpy()\n",
        "\n",
        "    validation = pd.DataFrame()\n",
        "    validation['text'] = pd.Series(validation_text)\n",
        "    validation['label'] = pd.Series(validation_labels)\n",
        "\n",
        "    validation_labels = validation['label']\n",
        "\n",
        "    validation_text = validation['text']\n",
        "    validation_text = validation_text.apply(lambda x: x.decode('utf-8'))\n",
        "\n",
        "    validation_sequences = self.tokenizer.texts_to_sequences(validation_text.to_list())\n",
        "    validation_padded = pad_sequences(validation_sequences, maxlen=self.max_sequence_length)\n",
        "\n",
        "    validation_labels = np.array(validation_labels.to_list())\n",
        "\n",
        "    self.validation_reviews = tf.data.Dataset.from_tensor_slices((validation_padded, validation_labels))\n",
        "\n",
        "  def align(self):\n",
        "    one_i = self.cats_dogs.filter(lambda x,y: y == 0)\n",
        "    two_i = self.cats_dogs.filter(lambda x,y: y == 1)\n",
        "    \n",
        "    one_t = self.reviews.filter(lambda x,y: y == 0)\n",
        "    two_t = self.reviews.filter(lambda x,y: y == 1)\n",
        "    \n",
        "    one_z = tf.data.Dataset.zip((one_i, one_t))\n",
        "    two_z = tf.data.Dataset.zip((two_i, two_t))\n",
        "\n",
        "    merged = one_z.concatenate(two_z)\n",
        "\n",
        "    self.cats_dogs = merged.map(lambda x, y: x)\n",
        "    self.reviews = merged.map(lambda x, y: y)\n",
        "\n",
        "    return self.cats_dogs, self.reviews\n",
        "\n",
        "  def validation(self, size=10000):\n",
        "    one_i = self.validation_cats_dogs.filter(lambda x,y: y == 0)\n",
        "    two_i = self.validation_cats_dogs.filter(lambda x,y: y == 1)\n",
        "\n",
        "    one_t = self.validation_reviews.filter(lambda x,y: y == 0)\n",
        "    two_t = self.validation_reviews.filter(lambda x,y: y == 1)\n",
        "\n",
        "    one_z = tf.data.Dataset.zip((one_i, one_t))\n",
        "    two_z = tf.data.Dataset.zip((two_i, two_t))\n",
        "\n",
        "    merged = one_z.concatenate(two_z)\n",
        "\n",
        "    self.validation_cats_dogs = merged.map(lambda x, y: x)\n",
        "    self.validation_reviews = merged.map(lambda x, y: y)\n",
        "\n",
        "    return self.validation_cats_dogs, self.validation_reviews\n",
        "\n",
        "  def reshuffle_text(self, size=3000, val_size=2000, seed=123):\n",
        "    text_validation = tf.keras.preprocessing.text_dataset_from_directory(\n",
        "      '/content/drive/MyDrive/Datasets/TranscriptionsB',\n",
        "      labels=\"inferred\",\n",
        "      label_mode=\"int\",\n",
        "      class_names=None,\n",
        "      batch_size=2000,\n",
        "      max_length=None,\n",
        "      shuffle=True,\n",
        "      seed=seed,\n",
        "      validation_split=.2,\n",
        "      subset='validation',\n",
        "      follow_links=False,\n",
        "    )\n",
        "\n",
        "    self.validation_reviews = text_validation.take(val_size)\n",
        "\n",
        "    for texts, t_labels in self.validation_reviews.take(1):  # only take first batch of dataset\n",
        "      validation_text = texts.numpy()\n",
        "      validation_labels = t_labels.numpy()\n",
        "\n",
        "    validation = pd.DataFrame()\n",
        "    validation['text'] = pd.Series(validation_text)\n",
        "    validation['label'] = pd.Series(validation_labels)\n",
        "\n",
        "    validation_labels = validation['label']\n",
        "\n",
        "    validation_text = validation['text']\n",
        "    validation_text = validation_text.apply(lambda x: x.decode('utf-8'))\n",
        "\n",
        "    validation_sequences = self.tokenizer.texts_to_sequences(validation_text.to_list())\n",
        "    validation_padded = pad_sequences(validation_sequences, maxlen=self.max_sequence_length)\n",
        "\n",
        "    validation_labels = np.array(validation_labels.to_list())\n",
        "\n",
        "    self.validation_reviews = tf.data.Dataset.from_tensor_slices((validation_padded, validation_labels))\n"
      ],
      "execution_count": null,
      "outputs": []
    },
    {
      "cell_type": "markdown",
      "metadata": {
        "id": "B6XClUglErQu"
      },
      "source": [
        "# Carga Modelos"
      ]
    },
    {
      "cell_type": "code",
      "metadata": {
        "colab": {
          "base_uri": "https://localhost:8080/"
        },
        "id": "aE4qpYlrAxvT",
        "outputId": "bed004ac-2835-4ba4-ad08-554f49e796b6"
      },
      "source": [
        "# Load models\n",
        "\n",
        "image_model = tf.keras.models.load_model('drive/MyDrive/Models/image_model_som_med_b.tf')\n",
        "text_model = tf.keras.models.load_model('drive/MyDrive/Models/text_model_som_med_b.tf')\n",
        "\n",
        "spectral_model = tf.keras.models.load_model('drive/MyDrive/Models/spectral_model_som_med_b.tf')\n",
        "\n",
        "# Compiler\n",
        "\n",
        "# any_model.compile(optimizer='adam',\n",
        "#               loss=tf.keras.losses.SparseCategoricalCrossentropy(from_logits=True),\n",
        "#               metrics=['accuracy'])"
      ],
      "execution_count": null,
      "outputs": [
        {
          "output_type": "stream",
          "text": [
            "WARNING:tensorflow:No training configuration found in save file, so the model was *not* compiled. Compile it manually.\n",
            "WARNING:tensorflow:No training configuration found in save file, so the model was *not* compiled. Compile it manually.\n"
          ],
          "name": "stdout"
        }
      ]
    },
    {
      "cell_type": "code",
      "metadata": {
        "colab": {
          "base_uri": "https://localhost:8080/",
          "height": 383,
          "referenced_widgets": [
            "423651e34def4e2fad2206300012504e",
            "b9589aa3a4c6498982595714a414db3b",
            "87db9e9b9d6f4d6ca3bf2db2807ce6df",
            "36b701ad3eac4fffa7fff638ba18133e",
            "ca67e20845e14a75b05afb4fdf3b7ace",
            "4a092071feab43029c73d835aa2fbf48",
            "5548f4e67cd54ab09256c81c127956c9",
            "73724148ac8741dfaa548a7d52b60c52",
            "53852ed67f874f828c496b7092c79ce9",
            "52aa1a50a2b54956b0567cc4b3150e8b",
            "f6e8e1f91857455188e1eb9dbba1ce64",
            "9d4bd30c92964bee8e8567f5836b64b4",
            "7ae6726dffa34f9498ec2a5eeba7e517",
            "b3b91020dc0c4801b3785753acedb06d",
            "de7753d31b5d475d9abec1223ce06c88",
            "6165f34d513c42e4a16f4dc9a905e2a3",
            "a207ec0066a0427c8f921d55536564bd",
            "26e7197317454c1dbedcef2b21d3fe78",
            "4d03b0c779384a82afc117d3d66a4146",
            "d7972b930b10412993746474abe7ae09",
            "a8e9ac1fe3284db7af43187af727611f",
            "74fbae80112f4b198c9b59db065c5932",
            "5a370564241a4edea59e43f34a096935",
            "cfb8193212614ee9807fed3c84bfb100",
            "09e30b327b5e4a1eb9730207d47590ca",
            "af71354790674da6a9887e41e35bc515",
            "51c26f416df94a06b0a4b9d3e5759c27",
            "fe1caee9ff494f9792ff5664037bf5ae",
            "b2ae4f2386d846768c7cbc78a0e28c8b",
            "ab5055b1c6f44441863ccb44f3ccf169",
            "d540f6ce180e40aaa952de2b705122be",
            "bcfc54a536e04037b09fe21ca4332a3f",
            "1ddab572f22c46419c6cdf445fe647ed",
            "fb89ebdb86b04c5a8f4df3eb738657a8",
            "9f90316f9e954df596fe44a337fb3c33",
            "50ac6c00c345412c92b7aa70ad73ab16",
            "39e9dbc46a3349a2a6aa1f64a8661cf9",
            "d74e6545518e4114a5968dbc5dd36721",
            "0fa56105c3514f02833a0a7cfe3da975",
            "b7ffe1c3110346259998d1c1a5ea9844"
          ]
        },
        "id": "wy2aAAsYJD8I",
        "outputId": "a146f347-a8ca-4e5e-a513-c344389cea94"
      },
      "source": [
        "da = DatasetAlignment(seed=seed)\n",
        "da.train_text()\n",
        "cats_dogs, reviews = da.align()"
      ],
      "execution_count": null,
      "outputs": [
        {
          "output_type": "stream",
          "text": [
            "Found 1619 files belonging to 2 classes.\n",
            "Using 1296 files for training.\n",
            "Found 1619 files belonging to 2 classes.\n",
            "Using 323 files for validation.\n",
            "\u001b[1mDownloading and preparing dataset colorectal_histology/2.0.0 (download: 246.14 MiB, generated: Unknown size, total: 246.14 MiB) to /root/tensorflow_datasets/colorectal_histology/2.0.0...\u001b[0m\n"
          ],
          "name": "stdout"
        },
        {
          "output_type": "display_data",
          "data": {
            "application/vnd.jupyter.widget-view+json": {
              "model_id": "423651e34def4e2fad2206300012504e",
              "version_minor": 0,
              "version_major": 2
            },
            "text/plain": [
              "HBox(children=(FloatProgress(value=1.0, bar_style='info', description='Dl Completed...', max=1.0, style=Progre…"
            ]
          },
          "metadata": {
            "tags": []
          }
        },
        {
          "output_type": "display_data",
          "data": {
            "application/vnd.jupyter.widget-view+json": {
              "model_id": "53852ed67f874f828c496b7092c79ce9",
              "version_minor": 0,
              "version_major": 2
            },
            "text/plain": [
              "HBox(children=(FloatProgress(value=1.0, bar_style='info', description='Dl Size...', max=1.0, style=ProgressSty…"
            ]
          },
          "metadata": {
            "tags": []
          }
        },
        {
          "output_type": "display_data",
          "data": {
            "application/vnd.jupyter.widget-view+json": {
              "model_id": "a207ec0066a0427c8f921d55536564bd",
              "version_minor": 0,
              "version_major": 2
            },
            "text/plain": [
              "HBox(children=(FloatProgress(value=1.0, bar_style='info', description='Extraction completed...', max=1.0, styl…"
            ]
          },
          "metadata": {
            "tags": []
          }
        },
        {
          "output_type": "stream",
          "text": [
            "\n",
            "\n",
            "\n",
            "\n",
            "\n",
            "\n"
          ],
          "name": "stdout"
        },
        {
          "output_type": "display_data",
          "data": {
            "application/vnd.jupyter.widget-view+json": {
              "model_id": "09e30b327b5e4a1eb9730207d47590ca",
              "version_minor": 0,
              "version_major": 2
            },
            "text/plain": [
              "HBox(children=(FloatProgress(value=1.0, bar_style='info', max=1.0), HTML(value='')))"
            ]
          },
          "metadata": {
            "tags": []
          }
        },
        {
          "output_type": "stream",
          "text": [
            "\rShuffling and writing examples to /root/tensorflow_datasets/colorectal_histology/2.0.0.incompleteG3GP2C/colorectal_histology-train.tfrecord\n"
          ],
          "name": "stdout"
        },
        {
          "output_type": "display_data",
          "data": {
            "application/vnd.jupyter.widget-view+json": {
              "model_id": "1ddab572f22c46419c6cdf445fe647ed",
              "version_minor": 0,
              "version_major": 2
            },
            "text/plain": [
              "HBox(children=(FloatProgress(value=0.0, max=5000.0), HTML(value='')))"
            ]
          },
          "metadata": {
            "tags": []
          }
        },
        {
          "output_type": "stream",
          "text": [
            "\u001b[1mDataset colorectal_histology downloaded and prepared to /root/tensorflow_datasets/colorectal_histology/2.0.0. Subsequent calls will reuse this data.\u001b[0m\n"
          ],
          "name": "stdout"
        }
      ]
    },
    {
      "cell_type": "code",
      "metadata": {
        "id": "iklS3RMiJRJZ"
      },
      "source": [
        "total_words = da.total_words\n",
        "max_sequence_length = da.max_sequence_length"
      ],
      "execution_count": null,
      "outputs": []
    },
    {
      "cell_type": "code",
      "metadata": {
        "id": "djfOjGjOSsFx"
      },
      "source": [
        "validation_cats_dogs, validation_reviews = da.validation()"
      ],
      "execution_count": null,
      "outputs": []
    },
    {
      "cell_type": "code",
      "metadata": {
        "id": "CkWaXNEZJvGN"
      },
      "source": [
        "text_model.compile(optimizer='adam',\n",
        "              loss=tf.keras.losses.BinaryCrossentropy(),\n",
        "              metrics=['accuracy'])"
      ],
      "execution_count": null,
      "outputs": []
    },
    {
      "cell_type": "code",
      "metadata": {
        "colab": {
          "base_uri": "https://localhost:8080/"
        },
        "id": "2A6vlUv1J0JC",
        "outputId": "225751b8-ba65-495b-b0ae-c05c81167200"
      },
      "source": [
        "text_result = text_model.predict(validation_reviews.batch(32), verbose=1)"
      ],
      "execution_count": null,
      "outputs": [
        {
          "output_type": "stream",
          "text": [
            "11/11 [==============================] - 8s 122ms/step\n"
          ],
          "name": "stdout"
        }
      ]
    },
    {
      "cell_type": "code",
      "metadata": {
        "id": "JzcclEmgcz-b"
      },
      "source": [
        "image_model.compile(optimizer='adam',\n",
        "              loss=tf.keras.losses.BinaryCrossentropy(),\n",
        "              metrics=['accuracy'])"
      ],
      "execution_count": null,
      "outputs": []
    },
    {
      "cell_type": "code",
      "metadata": {
        "id": "gG1y-lkydBU2"
      },
      "source": [
        "IMAGE_RES = 299\n",
        "\n",
        "resize_function = lambda x, y: (tf.image.resize(x, (IMAGE_RES, IMAGE_RES))/255.0, y)\n",
        "\n",
        "validation_batches = validation_cats_dogs.map(resize_function).batch(32).prefetch(1)"
      ],
      "execution_count": null,
      "outputs": []
    },
    {
      "cell_type": "code",
      "metadata": {
        "colab": {
          "base_uri": "https://localhost:8080/"
        },
        "id": "oKdX6mCbc6Je",
        "outputId": "b3b8c1d3-54ee-42f1-9e9b-80ee5ac4a508"
      },
      "source": [
        "image_result = image_model.predict(validation_batches, verbose=1)"
      ],
      "execution_count": null,
      "outputs": [
        {
          "output_type": "stream",
          "text": [
            "12/12 [==============================] - 30s 245ms/step\n"
          ],
          "name": "stdout"
        }
      ]
    },
    {
      "cell_type": "code",
      "metadata": {
        "id": "zYzUqpJnE4Vn"
      },
      "source": [
        "grid = 10\n",
        "\n",
        "som_text = SOM(grid,grid, text_result)\n",
        "som_images = SOM(grid,grid, image_result)\n",
        "\n",
        "som_text.load('som_text_tf_b')\n",
        "som_images.load('som_image_tf_b')"
      ],
      "execution_count": null,
      "outputs": []
    },
    {
      "cell_type": "code",
      "metadata": {
        "id": "o-uLM9_qdcUA"
      },
      "source": [
        "text_images_matrix = som_text.transform()\n",
        "images_images_matrix = som_images.transform()"
      ],
      "execution_count": null,
      "outputs": []
    },
    {
      "cell_type": "code",
      "metadata": {
        "id": "HuuWmQvBbwLL"
      },
      "source": [
        "spectral_images = []\n",
        "\n",
        "for i, image in enumerate(images_images_matrix):\n",
        "  r = image.flatten()\n",
        "  g = text_images_matrix[i].flatten()\n",
        "  b = np.zeros_like(r)\n",
        "  spectral = list(zip(r, g, b))\n",
        "  spectral_images.append(np.array(spectral).reshape(grid,grid,3))"
      ],
      "execution_count": null,
      "outputs": []
    },
    {
      "cell_type": "code",
      "metadata": {
        "id": "dgUWg_Ebd37U"
      },
      "source": [
        "labels = validation_reviews.batch(32)\n",
        "\n",
        "y = np.concatenate([y for x, y in labels], axis=0)"
      ],
      "execution_count": null,
      "outputs": []
    },
    {
      "cell_type": "code",
      "metadata": {
        "id": "T3fd8VlZdtAB"
      },
      "source": [
        "spectral_data = tf.data.Dataset.from_tensor_slices((spectral_images, y))"
      ],
      "execution_count": null,
      "outputs": []
    },
    {
      "cell_type": "code",
      "metadata": {
        "id": "eo2j6l7PeS2G"
      },
      "source": [
        "spectral_model.compile(optimizer='adam',\n",
        "              loss=tf.keras.losses.BinaryCrossentropy(),\n",
        "              metrics=['accuracy'])"
      ],
      "execution_count": null,
      "outputs": []
    },
    {
      "cell_type": "code",
      "metadata": {
        "id": "yRIZhtzBento"
      },
      "source": [
        "validation_spectral_batches = spectral_data.map(resize_function).batch(32).prefetch(1)"
      ],
      "execution_count": null,
      "outputs": []
    },
    {
      "cell_type": "code",
      "metadata": {
        "colab": {
          "base_uri": "https://localhost:8080/"
        },
        "id": "GAt7l0lbeVnw",
        "outputId": "a4b5bb1e-d756-4978-cb64-35334f260fcf"
      },
      "source": [
        "spectral_model.evaluate(validation_spectral_batches)"
      ],
      "execution_count": null,
      "outputs": [
        {
          "output_type": "stream",
          "text": [
            "11/11 [==============================] - 2s 109ms/step - loss: 0.2602 - accuracy: 0.9195\n"
          ],
          "name": "stdout"
        },
        {
          "output_type": "execute_result",
          "data": {
            "text/plain": [
              "[0.26016318798065186, 0.9195046424865723]"
            ]
          },
          "metadata": {
            "tags": []
          },
          "execution_count": 21
        }
      ]
    },
    {
      "cell_type": "code",
      "metadata": {
        "id": "ba_WiIMrf84u",
        "colab": {
          "base_uri": "https://localhost:8080/",
          "height": 302
        },
        "outputId": "65613c4d-b3ee-4cc2-9fab-105f943533b1"
      },
      "source": [
        "for x, y in validation_spectral_batches:\n",
        "  image = x\n",
        "  label = y\n",
        "  break\n",
        "\n",
        "print(label[0])\n",
        "plt.imshow(image[0])"
      ],
      "execution_count": null,
      "outputs": [
        {
          "output_type": "stream",
          "text": [
            "tf.Tensor(0, shape=(), dtype=int64)\n"
          ],
          "name": "stdout"
        },
        {
          "output_type": "execute_result",
          "data": {
            "text/plain": [
              "<matplotlib.image.AxesImage at 0x7f53a2f2cbd0>"
            ]
          },
          "metadata": {
            "tags": []
          },
          "execution_count": 22
        },
        {
          "output_type": "display_data",
          "data": {
            "image/png": "[encoded data removed]",
            "text/plain": [
              "<Figure size 432x288 with 1 Axes>"
            ]
          },
          "metadata": {
            "tags": [],
            "needs_background": "light"
          }
        }
      ]
    },
    {
      "cell_type": "code",
      "metadata": {
        "id": "-4QcL8eZgc8d",
        "colab": {
          "base_uri": "https://localhost:8080/",
          "height": 302
        },
        "outputId": "519b03a0-15d1-4e81-929b-223f5058544f"
      },
      "source": [
        "image = None\n",
        "label = None\n",
        "\n",
        "for x, y in validation_spectral_batches:\n",
        "  if y[0].numpy() == 1:\n",
        "    image = x\n",
        "    label = y\n",
        "    break\n",
        "\n",
        "print(label[0])\n",
        "plt.imshow(image[0])"
      ],
      "execution_count": null,
      "outputs": [
        {
          "output_type": "stream",
          "text": [
            "tf.Tensor(1, shape=(), dtype=int64)\n"
          ],
          "name": "stdout"
        },
        {
          "output_type": "execute_result",
          "data": {
            "text/plain": [
              "<matplotlib.image.AxesImage at 0x7f53a2a14950>"
            ]
          },
          "metadata": {
            "tags": []
          },
          "execution_count": 23
        },
        {
          "output_type": "display_data",
          "data": {
            "image/png": "[encoded data removed]",
            "text/plain": [
              "<Figure size 432x288 with 1 Axes>"
            ]
          },
          "metadata": {
            "tags": [],
            "needs_background": "light"
          }
        }
      ]
    },
    {
      "cell_type": "code",
      "metadata": {
        "id": "P9-1qPg0QtuM",
        "colab": {
          "base_uri": "https://localhost:8080/"
        },
        "outputId": "6fe7d407-9396-4562-bb1f-45c6649e9917"
      },
      "source": [
        "spectral_result = spectral_model.predict(validation_spectral_batches, verbose=1)"
      ],
      "execution_count": null,
      "outputs": [
        {
          "output_type": "stream",
          "text": [
            "11/11 [==============================] - 2s 114ms/step\n"
          ],
          "name": "stdout"
        }
      ]
    },
    {
      "cell_type": "code",
      "metadata": {
        "id": "u3JcVDFzQ92u"
      },
      "source": [
        "y_true = np.concatenate([y_t.numpy() for _ , y_t in validation_spectral_batches], axis=0)"
      ],
      "execution_count": null,
      "outputs": []
    },
    {
      "cell_type": "code",
      "metadata": {
        "id": "R9HB8IyKRdHY",
        "colab": {
          "base_uri": "https://localhost:8080/"
        },
        "outputId": "8b7132b7-7b77-43ad-eb04-ce63b91ef7d7"
      },
      "source": [
        "len(y_true)"
      ],
      "execution_count": null,
      "outputs": [
        {
          "output_type": "execute_result",
          "data": {
            "text/plain": [
              "323"
            ]
          },
          "metadata": {
            "tags": []
          },
          "execution_count": 26
        }
      ]
    },
    {
      "cell_type": "code",
      "metadata": {
        "id": "MbBrF8iiRMVa"
      },
      "source": [
        "y_pred = [1 if y_t > 0.5 else 0 for y_t in spectral_result]"
      ],
      "execution_count": null,
      "outputs": []
    },
    {
      "cell_type": "code",
      "metadata": {
        "id": "NTmDZdsmQPOg",
        "colab": {
          "base_uri": "https://localhost:8080/"
        },
        "outputId": "0e1fe197-4076-4f22-99ec-da9784d70756"
      },
      "source": [
        "from sklearn.metrics import classification_report\n",
        "\n",
        "class_result = classification_report(y_true, y_pred)\n",
        "print(class_result)"
      ],
      "execution_count": null,
      "outputs": [
        {
          "output_type": "stream",
          "text": [
            "              precision    recall  f1-score   support\n",
            "\n",
            "           0       0.92      0.82      0.87       105\n",
            "           1       0.92      0.97      0.94       218\n",
            "\n",
            "    accuracy                           0.92       323\n",
            "   macro avg       0.92      0.89      0.91       323\n",
            "weighted avg       0.92      0.92      0.92       323\n",
            "\n"
          ],
          "name": "stdout"
        }
      ]
    },
    {
      "cell_type": "code",
      "metadata": {
        "id": "WsrhiBwrS36y",
        "colab": {
          "base_uri": "https://localhost:8080/"
        },
        "outputId": "1da67255-ea54-43a2-87c4-3449e2f25ad5"
      },
      "source": [
        "from sklearn.metrics import confusion_matrix\n",
        "\n",
        "conf_matrix = confusion_matrix(y_true, y_pred)\n",
        "conf_matrix"
      ],
      "execution_count": null,
      "outputs": [
        {
          "output_type": "execute_result",
          "data": {
            "text/plain": [
              "array([[ 86,  19],\n",
              "       [  7, 211]])"
            ]
          },
          "metadata": {
            "tags": []
          },
          "execution_count": 26
        }
      ]
    },
    {
      "cell_type": "code",
      "metadata": {
        "id": "caR6Vcy7K54_"
      },
      "source": [
        "import json\n",
        "\n",
        "np.save(f'drive/MyDrive/Models/results/matrix_{seed}.npy', conf_matrix)\n",
        "\n",
        "to_fi = json.dumps(class_result)\n",
        "with open(f'drive/MyDrive/Models/results/classreport_{seed}', 'w') as file:\n",
        "    file.write(to_fi)"
      ],
      "execution_count": null,
      "outputs": []
    },
    {
      "cell_type": "code",
      "metadata": {
        "id": "QxJgJFXcbSWn",
        "colab": {
          "base_uri": "https://localhost:8080/"
        },
        "outputId": "205eb174-fae2-4bdc-d680-fd3234b4d509"
      },
      "source": [
        "import os\n",
        "\n",
        "print(len(os.listdir('drive/MyDrive/Models/results/'))-1)"
      ],
      "execution_count": null,
      "outputs": [
        {
          "output_type": "stream",
          "text": [
            "100\n"
          ],
          "name": "stdout"
        }
      ]
    },
    {
      "cell_type": "code",
      "metadata": {
        "colab": {
          "base_uri": "https://localhost:8080/"
        },
        "id": "cHiTedjMm6I-",
        "outputId": "42f3f13e-10da-4ccd-f697-6ddb58ada03e"
      },
      "source": [
        "import random\n",
        "from sklearn.metrics import confusion_matrix\n",
        "from sklearn.metrics import classification_report\n",
        "import json\n",
        "\n",
        "seed = 1490\n",
        "grid = 10\n",
        "\n",
        "for i in range(8):\n",
        "  # tf.keras.backend.clear_session()\n",
        "  seed = seed + random.randint(10, 50)\n",
        "  da.reshuffle_text(seed=seed)\n",
        "  validation_cats_dogs, validation_reviews = da.validation()\n",
        "  text_result = text_model.predict(validation_reviews.batch(32), verbose=1)\n",
        "\n",
        "  validation_batches = validation_cats_dogs.map(resize_function).batch(32).prefetch(1)\n",
        "  image_result = image_model.predict(validation_batches, verbose=1)\n",
        "\n",
        "  som_text = SOM(grid,grid, text_result)\n",
        "  som_images = SOM(grid,grid, image_result)\n",
        "\n",
        "  som_text.load('som_text_tf_b')\n",
        "  som_images.load('som_image_tf_b')\n",
        "\n",
        "  text_images_matrix = som_text.transform()\n",
        "  images_images_matrix = som_images.transform()\n",
        "\n",
        "  spectral_images = list()\n",
        "\n",
        "  for i, image in enumerate(images_images_matrix):\n",
        "    r = image.flatten()\n",
        "    g = text_images_matrix[i].flatten()\n",
        "    b = np.zeros_like(r)\n",
        "    spectral = list(zip(r, g, b))\n",
        "    spectral_images.append(np.array(spectral).reshape(grid,grid,3))\n",
        "\n",
        "  labels = validation_reviews.batch(32)\n",
        "\n",
        "  y = np.concatenate([y for x, y in labels], axis=0)\n",
        "\n",
        "  spectral_data = tf.data.Dataset.from_tensor_slices((spectral_images, y))\n",
        "\n",
        "  validation_spectral_batches = spectral_data.map(resize_function).batch(32).prefetch(1)\n",
        "\n",
        "  spectral_result = spectral_model.predict(validation_spectral_batches, verbose=1)\n",
        "\n",
        "  y_true = np.concatenate([y_t.numpy() for _ , y_t in validation_spectral_batches], axis=0)\n",
        "\n",
        "  y_pred = [1 if y_t > 0.5 else 0 for y_t in spectral_result]\n",
        "\n",
        "  class_result = classification_report(y_true, y_pred)\n",
        "  conf_matrix = confusion_matrix(y_true, y_pred)\n",
        "\n",
        "  np.save(f'drive/MyDrive/Models/results/matrix_{seed}.npy', conf_matrix)\n",
        "\n",
        "  to_fi = json.dumps(class_result)\n",
        "  with open(f'drive/MyDrive/Models/results/classreport_{seed}', 'w') as file:\n",
        "      file.write(to_fi)"
      ],
      "execution_count": null,
      "outputs": [
        {
          "output_type": "stream",
          "text": [
            "Found 1619 files belonging to 2 classes.\n",
            "Using 323 files for validation.\n",
            "10/10 [==============================] - 4s 379ms/step\n",
            "11/11 [==============================] - 6s 564ms/step\n",
            "10/10 [==============================] - 1s 115ms/step\n",
            "Found 1619 files belonging to 2 classes.\n",
            "Using 323 files for validation.\n",
            "10/10 [==============================] - 7s 745ms/step\n",
            "11/11 [==============================] - 8s 784ms/step\n",
            "10/10 [==============================] - 1s 118ms/step\n",
            "Found 1619 files belonging to 2 classes.\n",
            "Using 323 files for validation.\n",
            "10/10 [==============================] - 8s 804ms/step\n",
            "11/11 [==============================] - 10s 962ms/step\n",
            "10/10 [==============================] - 1s 119ms/step\n",
            "Found 1619 files belonging to 2 classes.\n",
            "Using 323 files for validation.\n",
            "10/10 [==============================] - 15s 2s/step\n",
            "11/11 [==============================] - 16s 2s/step\n",
            "10/10 [==============================] - 1s 118ms/step\n",
            "Found 1619 files belonging to 2 classes.\n",
            "Using 323 files for validation.\n",
            "10/10 [==============================] - 31s 3s/step\n",
            "11/11 [==============================] - 33s 3s/step\n",
            "10/10 [==============================] - 1s 118ms/step\n",
            "Found 1619 files belonging to 2 classes.\n",
            "Using 323 files for validation.\n",
            "10/10 [==============================] - 62s 7s/step\n",
            "11/11 [==============================] - 63s 6s/step\n",
            "10/10 [==============================] - 1s 118ms/step\n",
            "Found 1619 files belonging to 2 classes.\n",
            "Using 323 files for validation.\n",
            "10/10 [==============================] - 66s 7s/step\n",
            "10/10 [==============================] - 69s 7s/step\n",
            "10/10 [==============================] - 1s 117ms/step\n",
            "Found 1619 files belonging to 2 classes.\n",
            "Using 323 files for validation.\n",
            "10/10 [==============================] - 134s 14s/step\n",
            "11/11 [==============================] - 136s 12s/step\n",
            "10/10 [==============================] - 1s 115ms/step\n"
          ],
          "name": "stdout"
        }
      ]
    }
  ]
}