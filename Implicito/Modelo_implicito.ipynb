{
  "nbformat": 4,
  "nbformat_minor": 0,
  "metadata": {
    "colab": {
      "name": "multimodal_v2_4(medicine).ipynb",
      "provenance": [],
      "collapsed_sections": [],
      "mount_file_id": "1iDzlVcQueA3gWeLzvEiS5YNh4gzPs-IB",
      "authorship_tag": "ABX9TyPW19/UaQr+CYrj8gI8laSJ",
      "include_colab_link": true
    },
    "kernelspec": {
      "name": "python3",
      "display_name": "Python 3"
    },
    "accelerator": "GPU",
    "widgets": {
      "application/vnd.jupyter.widget-state+json": {
        "59764fc7ac834e089b437dd59cf03513": {
          "model_module": "@jupyter-widgets/controls",
          "model_name": "HBoxModel",
          "model_module_version": "1.5.0",
          "state": {
            "_view_name": "HBoxView",
            "_dom_classes": [],
            "_model_name": "HBoxModel",
            "_view_module": "@jupyter-widgets/controls",
            "_model_module_version": "1.5.0",
            "_view_count": null,
            "_view_module_version": "1.5.0",
            "box_style": "",
            "layout": "IPY_MODEL_c79ab8c3fcb64299b80f950596030a12",
            "_model_module": "@jupyter-widgets/controls",
            "children": [
              "IPY_MODEL_fc23e447f541463495a505d7ce58bd14",
              "IPY_MODEL_70e70071d4b7448ca681c1ff1587d92e"
            ]
          }
        },
        "c79ab8c3fcb64299b80f950596030a12": {
          "model_module": "@jupyter-widgets/base",
          "model_name": "LayoutModel",
          "model_module_version": "1.2.0",
          "state": {
            "_view_name": "LayoutView",
            "grid_template_rows": null,
            "right": null,
            "justify_content": null,
            "_view_module": "@jupyter-widgets/base",
            "overflow": null,
            "_model_module_version": "1.2.0",
            "_view_count": null,
            "flex_flow": null,
            "width": null,
            "min_width": null,
            "border": null,
            "align_items": null,
            "bottom": null,
            "_model_module": "@jupyter-widgets/base",
            "top": null,
            "grid_column": null,
            "overflow_y": null,
            "overflow_x": null,
            "grid_auto_flow": null,
            "grid_area": null,
            "grid_template_columns": null,
            "flex": null,
            "_model_name": "LayoutModel",
            "justify_items": null,
            "grid_row": null,
            "max_height": null,
            "align_content": null,
            "visibility": null,
            "align_self": null,
            "height": null,
            "min_height": null,
            "padding": null,
            "grid_auto_rows": null,
            "grid_gap": null,
            "max_width": null,
            "order": null,
            "_view_module_version": "1.2.0",
            "grid_template_areas": null,
            "object_position": null,
            "object_fit": null,
            "grid_auto_columns": null,
            "margin": null,
            "display": null,
            "left": null
          }
        },
        "fc23e447f541463495a505d7ce58bd14": {
          "model_module": "@jupyter-widgets/controls",
          "model_name": "FloatProgressModel",
          "model_module_version": "1.5.0",
          "state": {
            "_view_name": "ProgressView",
            "style": "IPY_MODEL_1ff4c325ab1542f2833032d7f1cf64ba",
            "_dom_classes": [],
            "description": "Dl Completed...: 100%",
            "_model_name": "FloatProgressModel",
            "bar_style": "success",
            "max": 1,
            "_view_module": "@jupyter-widgets/controls",
            "_model_module_version": "1.5.0",
            "value": 1,
            "_view_count": null,
            "_view_module_version": "1.5.0",
            "orientation": "horizontal",
            "min": 0,
            "description_tooltip": null,
            "_model_module": "@jupyter-widgets/controls",
            "layout": "IPY_MODEL_b63c36c8d6434fcd94aa76d27a80179d"
          }
        },
        "70e70071d4b7448ca681c1ff1587d92e": {
          "model_module": "@jupyter-widgets/controls",
          "model_name": "HTMLModel",
          "model_module_version": "1.5.0",
          "state": {
            "_view_name": "HTMLView",
            "style": "IPY_MODEL_b202dd0bc19046d583a148460520f31b",
            "_dom_classes": [],
            "description": "",
            "_model_name": "HTMLModel",
            "placeholder": "​",
            "_view_module": "@jupyter-widgets/controls",
            "_model_module_version": "1.5.0",
            "value": " 1/1 [00:45&lt;00:00, 45.84s/ url]",
            "_view_count": null,
            "_view_module_version": "1.5.0",
            "description_tooltip": null,
            "_model_module": "@jupyter-widgets/controls",
            "layout": "IPY_MODEL_ed69df8470fe4f55a6f18051dea3b0b8"
          }
        },
        "1ff4c325ab1542f2833032d7f1cf64ba": {
          "model_module": "@jupyter-widgets/controls",
          "model_name": "ProgressStyleModel",
          "model_module_version": "1.5.0",
          "state": {
            "_view_name": "StyleView",
            "_model_name": "ProgressStyleModel",
            "description_width": "initial",
            "_view_module": "@jupyter-widgets/base",
            "_model_module_version": "1.5.0",
            "_view_count": null,
            "_view_module_version": "1.2.0",
            "bar_color": null,
            "_model_module": "@jupyter-widgets/controls"
          }
        },
        "b63c36c8d6434fcd94aa76d27a80179d": {
          "model_module": "@jupyter-widgets/base",
          "model_name": "LayoutModel",
          "model_module_version": "1.2.0",
          "state": {
            "_view_name": "LayoutView",
            "grid_template_rows": null,
            "right": null,
            "justify_content": null,
            "_view_module": "@jupyter-widgets/base",
            "overflow": null,
            "_model_module_version": "1.2.0",
            "_view_count": null,
            "flex_flow": null,
            "width": null,
            "min_width": null,
            "border": null,
            "align_items": null,
            "bottom": null,
            "_model_module": "@jupyter-widgets/base",
            "top": null,
            "grid_column": null,
            "overflow_y": null,
            "overflow_x": null,
            "grid_auto_flow": null,
            "grid_area": null,
            "grid_template_columns": null,
            "flex": null,
            "_model_name": "LayoutModel",
            "justify_items": null,
            "grid_row": null,
            "max_height": null,
            "align_content": null,
            "visibility": null,
            "align_self": null,
            "height": null,
            "min_height": null,
            "padding": null,
            "grid_auto_rows": null,
            "grid_gap": null,
            "max_width": null,
            "order": null,
            "_view_module_version": "1.2.0",
            "grid_template_areas": null,
            "object_position": null,
            "object_fit": null,
            "grid_auto_columns": null,
            "margin": null,
            "display": null,
            "left": null
          }
        },
        "b202dd0bc19046d583a148460520f31b": {
          "model_module": "@jupyter-widgets/controls",
          "model_name": "DescriptionStyleModel",
          "model_module_version": "1.5.0",
          "state": {
            "_view_name": "StyleView",
            "_model_name": "DescriptionStyleModel",
            "description_width": "",
            "_view_module": "@jupyter-widgets/base",
            "_model_module_version": "1.5.0",
            "_view_count": null,
            "_view_module_version": "1.2.0",
            "_model_module": "@jupyter-widgets/controls"
          }
        },
        "ed69df8470fe4f55a6f18051dea3b0b8": {
          "model_module": "@jupyter-widgets/base",
          "model_name": "LayoutModel",
          "model_module_version": "1.2.0",
          "state": {
            "_view_name": "LayoutView",
            "grid_template_rows": null,
            "right": null,
            "justify_content": null,
            "_view_module": "@jupyter-widgets/base",
            "overflow": null,
            "_model_module_version": "1.2.0",
            "_view_count": null,
            "flex_flow": null,
            "width": null,
            "min_width": null,
            "border": null,
            "align_items": null,
            "bottom": null,
            "_model_module": "@jupyter-widgets/base",
            "top": null,
            "grid_column": null,
            "overflow_y": null,
            "overflow_x": null,
            "grid_auto_flow": null,
            "grid_area": null,
            "grid_template_columns": null,
            "flex": null,
            "_model_name": "LayoutModel",
            "justify_items": null,
            "grid_row": null,
            "max_height": null,
            "align_content": null,
            "visibility": null,
            "align_self": null,
            "height": null,
            "min_height": null,
            "padding": null,
            "grid_auto_rows": null,
            "grid_gap": null,
            "max_width": null,
            "order": null,
            "_view_module_version": "1.2.0",
            "grid_template_areas": null,
            "object_position": null,
            "object_fit": null,
            "grid_auto_columns": null,
            "margin": null,
            "display": null,
            "left": null
          }
        },
        "f1dcd404f26245638f6b725c7686b38b": {
          "model_module": "@jupyter-widgets/controls",
          "model_name": "HBoxModel",
          "model_module_version": "1.5.0",
          "state": {
            "_view_name": "HBoxView",
            "_dom_classes": [],
            "_model_name": "HBoxModel",
            "_view_module": "@jupyter-widgets/controls",
            "_model_module_version": "1.5.0",
            "_view_count": null,
            "_view_module_version": "1.5.0",
            "box_style": "",
            "layout": "IPY_MODEL_9c7dc218589c4cb99a9ae304d6161652",
            "_model_module": "@jupyter-widgets/controls",
            "children": [
              "IPY_MODEL_503006eac93f4c9f85cce27d87049272",
              "IPY_MODEL_a22928578a1440f5aca4dd9d9ea76d76"
            ]
          }
        },
        "9c7dc218589c4cb99a9ae304d6161652": {
          "model_module": "@jupyter-widgets/base",
          "model_name": "LayoutModel",
          "model_module_version": "1.2.0",
          "state": {
            "_view_name": "LayoutView",
            "grid_template_rows": null,
            "right": null,
            "justify_content": null,
            "_view_module": "@jupyter-widgets/base",
            "overflow": null,
            "_model_module_version": "1.2.0",
            "_view_count": null,
            "flex_flow": null,
            "width": null,
            "min_width": null,
            "border": null,
            "align_items": null,
            "bottom": null,
            "_model_module": "@jupyter-widgets/base",
            "top": null,
            "grid_column": null,
            "overflow_y": null,
            "overflow_x": null,
            "grid_auto_flow": null,
            "grid_area": null,
            "grid_template_columns": null,
            "flex": null,
            "_model_name": "LayoutModel",
            "justify_items": null,
            "grid_row": null,
            "max_height": null,
            "align_content": null,
            "visibility": null,
            "align_self": null,
            "height": null,
            "min_height": null,
            "padding": null,
            "grid_auto_rows": null,
            "grid_gap": null,
            "max_width": null,
            "order": null,
            "_view_module_version": "1.2.0",
            "grid_template_areas": null,
            "object_position": null,
            "object_fit": null,
            "grid_auto_columns": null,
            "margin": null,
            "display": null,
            "left": null
          }
        },
        "503006eac93f4c9f85cce27d87049272": {
          "model_module": "@jupyter-widgets/controls",
          "model_name": "FloatProgressModel",
          "model_module_version": "1.5.0",
          "state": {
            "_view_name": "ProgressView",
            "style": "IPY_MODEL_6c3f0770817b443097a481c785c989e8",
            "_dom_classes": [],
            "description": "Dl Size...: 100%",
            "_model_name": "FloatProgressModel",
            "bar_style": "success",
            "max": 1,
            "_view_module": "@jupyter-widgets/controls",
            "_model_module_version": "1.5.0",
            "value": 1,
            "_view_count": null,
            "_view_module_version": "1.5.0",
            "orientation": "horizontal",
            "min": 0,
            "description_tooltip": null,
            "_model_module": "@jupyter-widgets/controls",
            "layout": "IPY_MODEL_7bb19df1ba88491dbb2e1baeb0bb088c"
          }
        },
        "a22928578a1440f5aca4dd9d9ea76d76": {
          "model_module": "@jupyter-widgets/controls",
          "model_name": "HTMLModel",
          "model_module_version": "1.5.0",
          "state": {
            "_view_name": "HTMLView",
            "style": "IPY_MODEL_25dbb93b2e584dc8b3218543108055ba",
            "_dom_classes": [],
            "description": "",
            "_model_name": "HTMLModel",
            "placeholder": "​",
            "_view_module": "@jupyter-widgets/controls",
            "_model_module_version": "1.5.0",
            "value": " 246/246 [00:45&lt;00:00,  5.37 MiB/s]",
            "_view_count": null,
            "_view_module_version": "1.5.0",
            "description_tooltip": null,
            "_model_module": "@jupyter-widgets/controls",
            "layout": "IPY_MODEL_f68db03c01cb44b68542646bfe04b5cf"
          }
        },
        "6c3f0770817b443097a481c785c989e8": {
          "model_module": "@jupyter-widgets/controls",
          "model_name": "ProgressStyleModel",
          "model_module_version": "1.5.0",
          "state": {
            "_view_name": "StyleView",
            "_model_name": "ProgressStyleModel",
            "description_width": "initial",
            "_view_module": "@jupyter-widgets/base",
            "_model_module_version": "1.5.0",
            "_view_count": null,
            "_view_module_version": "1.2.0",
            "bar_color": null,
            "_model_module": "@jupyter-widgets/controls"
          }
        },
        "7bb19df1ba88491dbb2e1baeb0bb088c": {
          "model_module": "@jupyter-widgets/base",
          "model_name": "LayoutModel",
          "model_module_version": "1.2.0",
          "state": {
            "_view_name": "LayoutView",
            "grid_template_rows": null,
            "right": null,
            "justify_content": null,
            "_view_module": "@jupyter-widgets/base",
            "overflow": null,
            "_model_module_version": "1.2.0",
            "_view_count": null,
            "flex_flow": null,
            "width": null,
            "min_width": null,
            "border": null,
            "align_items": null,
            "bottom": null,
            "_model_module": "@jupyter-widgets/base",
            "top": null,
            "grid_column": null,
            "overflow_y": null,
            "overflow_x": null,
            "grid_auto_flow": null,
            "grid_area": null,
            "grid_template_columns": null,
            "flex": null,
            "_model_name": "LayoutModel",
            "justify_items": null,
            "grid_row": null,
            "max_height": null,
            "align_content": null,
            "visibility": null,
            "align_self": null,
            "height": null,
            "min_height": null,
            "padding": null,
            "grid_auto_rows": null,
            "grid_gap": null,
            "max_width": null,
            "order": null,
            "_view_module_version": "1.2.0",
            "grid_template_areas": null,
            "object_position": null,
            "object_fit": null,
            "grid_auto_columns": null,
            "margin": null,
            "display": null,
            "left": null
          }
        },
        "25dbb93b2e584dc8b3218543108055ba": {
          "model_module": "@jupyter-widgets/controls",
          "model_name": "DescriptionStyleModel",
          "model_module_version": "1.5.0",
          "state": {
            "_view_name": "StyleView",
            "_model_name": "DescriptionStyleModel",
            "description_width": "",
            "_view_module": "@jupyter-widgets/base",
            "_model_module_version": "1.5.0",
            "_view_count": null,
            "_view_module_version": "1.2.0",
            "_model_module": "@jupyter-widgets/controls"
          }
        },
        "f68db03c01cb44b68542646bfe04b5cf": {
          "model_module": "@jupyter-widgets/base",
          "model_name": "LayoutModel",
          "model_module_version": "1.2.0",
          "state": {
            "_view_name": "LayoutView",
            "grid_template_rows": null,
            "right": null,
            "justify_content": null,
            "_view_module": "@jupyter-widgets/base",
            "overflow": null,
            "_model_module_version": "1.2.0",
            "_view_count": null,
            "flex_flow": null,
            "width": null,
            "min_width": null,
            "border": null,
            "align_items": null,
            "bottom": null,
            "_model_module": "@jupyter-widgets/base",
            "top": null,
            "grid_column": null,
            "overflow_y": null,
            "overflow_x": null,
            "grid_auto_flow": null,
            "grid_area": null,
            "grid_template_columns": null,
            "flex": null,
            "_model_name": "LayoutModel",
            "justify_items": null,
            "grid_row": null,
            "max_height": null,
            "align_content": null,
            "visibility": null,
            "align_self": null,
            "height": null,
            "min_height": null,
            "padding": null,
            "grid_auto_rows": null,
            "grid_gap": null,
            "max_width": null,
            "order": null,
            "_view_module_version": "1.2.0",
            "grid_template_areas": null,
            "object_position": null,
            "object_fit": null,
            "grid_auto_columns": null,
            "margin": null,
            "display": null,
            "left": null
          }
        },
        "c4511f1563774db2855b8d56d238c131": {
          "model_module": "@jupyter-widgets/controls",
          "model_name": "HBoxModel",
          "model_module_version": "1.5.0",
          "state": {
            "_view_name": "HBoxView",
            "_dom_classes": [],
            "_model_name": "HBoxModel",
            "_view_module": "@jupyter-widgets/controls",
            "_model_module_version": "1.5.0",
            "_view_count": null,
            "_view_module_version": "1.5.0",
            "box_style": "",
            "layout": "IPY_MODEL_61774175ca3c49ebb5ea730f6ecec8b8",
            "_model_module": "@jupyter-widgets/controls",
            "children": [
              "IPY_MODEL_a4e16234d9594c3598f1903d4853cf2b",
              "IPY_MODEL_8f5844485dc74c8b9965678d8e7eb42d"
            ]
          }
        },
        "61774175ca3c49ebb5ea730f6ecec8b8": {
          "model_module": "@jupyter-widgets/base",
          "model_name": "LayoutModel",
          "model_module_version": "1.2.0",
          "state": {
            "_view_name": "LayoutView",
            "grid_template_rows": null,
            "right": null,
            "justify_content": null,
            "_view_module": "@jupyter-widgets/base",
            "overflow": null,
            "_model_module_version": "1.2.0",
            "_view_count": null,
            "flex_flow": null,
            "width": null,
            "min_width": null,
            "border": null,
            "align_items": null,
            "bottom": null,
            "_model_module": "@jupyter-widgets/base",
            "top": null,
            "grid_column": null,
            "overflow_y": null,
            "overflow_x": null,
            "grid_auto_flow": null,
            "grid_area": null,
            "grid_template_columns": null,
            "flex": null,
            "_model_name": "LayoutModel",
            "justify_items": null,
            "grid_row": null,
            "max_height": null,
            "align_content": null,
            "visibility": null,
            "align_self": null,
            "height": null,
            "min_height": null,
            "padding": null,
            "grid_auto_rows": null,
            "grid_gap": null,
            "max_width": null,
            "order": null,
            "_view_module_version": "1.2.0",
            "grid_template_areas": null,
            "object_position": null,
            "object_fit": null,
            "grid_auto_columns": null,
            "margin": null,
            "display": null,
            "left": null
          }
        },
        "a4e16234d9594c3598f1903d4853cf2b": {
          "model_module": "@jupyter-widgets/controls",
          "model_name": "FloatProgressModel",
          "model_module_version": "1.5.0",
          "state": {
            "_view_name": "ProgressView",
            "style": "IPY_MODEL_12e8cbf8973542e7b3e1551ceebd5cc4",
            "_dom_classes": [],
            "description": "Extraction completed...: 100%",
            "_model_name": "FloatProgressModel",
            "bar_style": "success",
            "max": 1,
            "_view_module": "@jupyter-widgets/controls",
            "_model_module_version": "1.5.0",
            "value": 1,
            "_view_count": null,
            "_view_module_version": "1.5.0",
            "orientation": "horizontal",
            "min": 0,
            "description_tooltip": null,
            "_model_module": "@jupyter-widgets/controls",
            "layout": "IPY_MODEL_b94e4297cf2040c8aed4117bb6bb9fc3"
          }
        },
        "8f5844485dc74c8b9965678d8e7eb42d": {
          "model_module": "@jupyter-widgets/controls",
          "model_name": "HTMLModel",
          "model_module_version": "1.5.0",
          "state": {
            "_view_name": "HTMLView",
            "style": "IPY_MODEL_c3ebf9b41074441b9634d62d63a15794",
            "_dom_classes": [],
            "description": "",
            "_model_name": "HTMLModel",
            "placeholder": "​",
            "_view_module": "@jupyter-widgets/controls",
            "_model_module_version": "1.5.0",
            "value": " 1/1 [00:45&lt;00:00, 45.74s/ file]",
            "_view_count": null,
            "_view_module_version": "1.5.0",
            "description_tooltip": null,
            "_model_module": "@jupyter-widgets/controls",
            "layout": "IPY_MODEL_cdd0ef33fb724562b0ab16ad4c0bb007"
          }
        },
        "12e8cbf8973542e7b3e1551ceebd5cc4": {
          "model_module": "@jupyter-widgets/controls",
          "model_name": "ProgressStyleModel",
          "model_module_version": "1.5.0",
          "state": {
            "_view_name": "StyleView",
            "_model_name": "ProgressStyleModel",
            "description_width": "initial",
            "_view_module": "@jupyter-widgets/base",
            "_model_module_version": "1.5.0",
            "_view_count": null,
            "_view_module_version": "1.2.0",
            "bar_color": null,
            "_model_module": "@jupyter-widgets/controls"
          }
        },
        "b94e4297cf2040c8aed4117bb6bb9fc3": {
          "model_module": "@jupyter-widgets/base",
          "model_name": "LayoutModel",
          "model_module_version": "1.2.0",
          "state": {
            "_view_name": "LayoutView",
            "grid_template_rows": null,
            "right": null,
            "justify_content": null,
            "_view_module": "@jupyter-widgets/base",
            "overflow": null,
            "_model_module_version": "1.2.0",
            "_view_count": null,
            "flex_flow": null,
            "width": null,
            "min_width": null,
            "border": null,
            "align_items": null,
            "bottom": null,
            "_model_module": "@jupyter-widgets/base",
            "top": null,
            "grid_column": null,
            "overflow_y": null,
            "overflow_x": null,
            "grid_auto_flow": null,
            "grid_area": null,
            "grid_template_columns": null,
            "flex": null,
            "_model_name": "LayoutModel",
            "justify_items": null,
            "grid_row": null,
            "max_height": null,
            "align_content": null,
            "visibility": null,
            "align_self": null,
            "height": null,
            "min_height": null,
            "padding": null,
            "grid_auto_rows": null,
            "grid_gap": null,
            "max_width": null,
            "order": null,
            "_view_module_version": "1.2.0",
            "grid_template_areas": null,
            "object_position": null,
            "object_fit": null,
            "grid_auto_columns": null,
            "margin": null,
            "display": null,
            "left": null
          }
        },
        "c3ebf9b41074441b9634d62d63a15794": {
          "model_module": "@jupyter-widgets/controls",
          "model_name": "DescriptionStyleModel",
          "model_module_version": "1.5.0",
          "state": {
            "_view_name": "StyleView",
            "_model_name": "DescriptionStyleModel",
            "description_width": "",
            "_view_module": "@jupyter-widgets/base",
            "_model_module_version": "1.5.0",
            "_view_count": null,
            "_view_module_version": "1.2.0",
            "_model_module": "@jupyter-widgets/controls"
          }
        },
        "cdd0ef33fb724562b0ab16ad4c0bb007": {
          "model_module": "@jupyter-widgets/base",
          "model_name": "LayoutModel",
          "model_module_version": "1.2.0",
          "state": {
            "_view_name": "LayoutView",
            "grid_template_rows": null,
            "right": null,
            "justify_content": null,
            "_view_module": "@jupyter-widgets/base",
            "overflow": null,
            "_model_module_version": "1.2.0",
            "_view_count": null,
            "flex_flow": null,
            "width": null,
            "min_width": null,
            "border": null,
            "align_items": null,
            "bottom": null,
            "_model_module": "@jupyter-widgets/base",
            "top": null,
            "grid_column": null,
            "overflow_y": null,
            "overflow_x": null,
            "grid_auto_flow": null,
            "grid_area": null,
            "grid_template_columns": null,
            "flex": null,
            "_model_name": "LayoutModel",
            "justify_items": null,
            "grid_row": null,
            "max_height": null,
            "align_content": null,
            "visibility": null,
            "align_self": null,
            "height": null,
            "min_height": null,
            "padding": null,
            "grid_auto_rows": null,
            "grid_gap": null,
            "max_width": null,
            "order": null,
            "_view_module_version": "1.2.0",
            "grid_template_areas": null,
            "object_position": null,
            "object_fit": null,
            "grid_auto_columns": null,
            "margin": null,
            "display": null,
            "left": null
          }
        },
        "09125bcb4a09457b821be7833ec47c81": {
          "model_module": "@jupyter-widgets/controls",
          "model_name": "HBoxModel",
          "model_module_version": "1.5.0",
          "state": {
            "_view_name": "HBoxView",
            "_dom_classes": [],
            "_model_name": "HBoxModel",
            "_view_module": "@jupyter-widgets/controls",
            "_model_module_version": "1.5.0",
            "_view_count": null,
            "_view_module_version": "1.5.0",
            "box_style": "",
            "layout": "IPY_MODEL_4304ab14a23642beb8156335507e63fc",
            "_model_module": "@jupyter-widgets/controls",
            "children": [
              "IPY_MODEL_eddf393ee3a140dd8b0b0f1910bf6dd0",
              "IPY_MODEL_e0ef018b70114aa980542f19c7e898b1"
            ]
          }
        },
        "4304ab14a23642beb8156335507e63fc": {
          "model_module": "@jupyter-widgets/base",
          "model_name": "LayoutModel",
          "model_module_version": "1.2.0",
          "state": {
            "_view_name": "LayoutView",
            "grid_template_rows": null,
            "right": null,
            "justify_content": null,
            "_view_module": "@jupyter-widgets/base",
            "overflow": null,
            "_model_module_version": "1.2.0",
            "_view_count": null,
            "flex_flow": null,
            "width": null,
            "min_width": null,
            "border": null,
            "align_items": null,
            "bottom": null,
            "_model_module": "@jupyter-widgets/base",
            "top": null,
            "grid_column": null,
            "overflow_y": null,
            "overflow_x": null,
            "grid_auto_flow": null,
            "grid_area": null,
            "grid_template_columns": null,
            "flex": null,
            "_model_name": "LayoutModel",
            "justify_items": null,
            "grid_row": null,
            "max_height": null,
            "align_content": null,
            "visibility": null,
            "align_self": null,
            "height": null,
            "min_height": null,
            "padding": null,
            "grid_auto_rows": null,
            "grid_gap": null,
            "max_width": null,
            "order": null,
            "_view_module_version": "1.2.0",
            "grid_template_areas": null,
            "object_position": null,
            "object_fit": null,
            "grid_auto_columns": null,
            "margin": null,
            "display": null,
            "left": null
          }
        },
        "eddf393ee3a140dd8b0b0f1910bf6dd0": {
          "model_module": "@jupyter-widgets/controls",
          "model_name": "FloatProgressModel",
          "model_module_version": "1.5.0",
          "state": {
            "_view_name": "ProgressView",
            "style": "IPY_MODEL_e244569638c54989b6ca36ef376cc2f7",
            "_dom_classes": [],
            "description": "",
            "_model_name": "FloatProgressModel",
            "bar_style": "info",
            "max": 1,
            "_view_module": "@jupyter-widgets/controls",
            "_model_module_version": "1.5.0",
            "value": 1,
            "_view_count": null,
            "_view_module_version": "1.5.0",
            "orientation": "horizontal",
            "min": 0,
            "description_tooltip": null,
            "_model_module": "@jupyter-widgets/controls",
            "layout": "IPY_MODEL_b16f6833a2a048799480581a7e3c0538"
          }
        },
        "e0ef018b70114aa980542f19c7e898b1": {
          "model_module": "@jupyter-widgets/controls",
          "model_name": "HTMLModel",
          "model_module_version": "1.5.0",
          "state": {
            "_view_name": "HTMLView",
            "style": "IPY_MODEL_ed53fe4faa854ac19956110086a6bcc1",
            "_dom_classes": [],
            "description": "",
            "_model_name": "HTMLModel",
            "placeholder": "​",
            "_view_module": "@jupyter-widgets/controls",
            "_model_module_version": "1.5.0",
            "value": " 5000/0 [00:42&lt;00:00, 155.50 examples/s]",
            "_view_count": null,
            "_view_module_version": "1.5.0",
            "description_tooltip": null,
            "_model_module": "@jupyter-widgets/controls",
            "layout": "IPY_MODEL_a6799593eba445848ed05e8bcf7ca518"
          }
        },
        "e244569638c54989b6ca36ef376cc2f7": {
          "model_module": "@jupyter-widgets/controls",
          "model_name": "ProgressStyleModel",
          "model_module_version": "1.5.0",
          "state": {
            "_view_name": "StyleView",
            "_model_name": "ProgressStyleModel",
            "description_width": "initial",
            "_view_module": "@jupyter-widgets/base",
            "_model_module_version": "1.5.0",
            "_view_count": null,
            "_view_module_version": "1.2.0",
            "bar_color": null,
            "_model_module": "@jupyter-widgets/controls"
          }
        },
        "b16f6833a2a048799480581a7e3c0538": {
          "model_module": "@jupyter-widgets/base",
          "model_name": "LayoutModel",
          "model_module_version": "1.2.0",
          "state": {
            "_view_name": "LayoutView",
            "grid_template_rows": null,
            "right": null,
            "justify_content": null,
            "_view_module": "@jupyter-widgets/base",
            "overflow": null,
            "_model_module_version": "1.2.0",
            "_view_count": null,
            "flex_flow": null,
            "width": null,
            "min_width": null,
            "border": null,
            "align_items": null,
            "bottom": null,
            "_model_module": "@jupyter-widgets/base",
            "top": null,
            "grid_column": null,
            "overflow_y": null,
            "overflow_x": null,
            "grid_auto_flow": null,
            "grid_area": null,
            "grid_template_columns": null,
            "flex": null,
            "_model_name": "LayoutModel",
            "justify_items": null,
            "grid_row": null,
            "max_height": null,
            "align_content": null,
            "visibility": null,
            "align_self": null,
            "height": null,
            "min_height": null,
            "padding": null,
            "grid_auto_rows": null,
            "grid_gap": null,
            "max_width": null,
            "order": null,
            "_view_module_version": "1.2.0",
            "grid_template_areas": null,
            "object_position": null,
            "object_fit": null,
            "grid_auto_columns": null,
            "margin": null,
            "display": null,
            "left": null
          }
        },
        "ed53fe4faa854ac19956110086a6bcc1": {
          "model_module": "@jupyter-widgets/controls",
          "model_name": "DescriptionStyleModel",
          "model_module_version": "1.5.0",
          "state": {
            "_view_name": "StyleView",
            "_model_name": "DescriptionStyleModel",
            "description_width": "",
            "_view_module": "@jupyter-widgets/base",
            "_model_module_version": "1.5.0",
            "_view_count": null,
            "_view_module_version": "1.2.0",
            "_model_module": "@jupyter-widgets/controls"
          }
        },
        "a6799593eba445848ed05e8bcf7ca518": {
          "model_module": "@jupyter-widgets/base",
          "model_name": "LayoutModel",
          "model_module_version": "1.2.0",
          "state": {
            "_view_name": "LayoutView",
            "grid_template_rows": null,
            "right": null,
            "justify_content": null,
            "_view_module": "@jupyter-widgets/base",
            "overflow": null,
            "_model_module_version": "1.2.0",
            "_view_count": null,
            "flex_flow": null,
            "width": null,
            "min_width": null,
            "border": null,
            "align_items": null,
            "bottom": null,
            "_model_module": "@jupyter-widgets/base",
            "top": null,
            "grid_column": null,
            "overflow_y": null,
            "overflow_x": null,
            "grid_auto_flow": null,
            "grid_area": null,
            "grid_template_columns": null,
            "flex": null,
            "_model_name": "LayoutModel",
            "justify_items": null,
            "grid_row": null,
            "max_height": null,
            "align_content": null,
            "visibility": null,
            "align_self": null,
            "height": null,
            "min_height": null,
            "padding": null,
            "grid_auto_rows": null,
            "grid_gap": null,
            "max_width": null,
            "order": null,
            "_view_module_version": "1.2.0",
            "grid_template_areas": null,
            "object_position": null,
            "object_fit": null,
            "grid_auto_columns": null,
            "margin": null,
            "display": null,
            "left": null
          }
        },
        "1ace07d703f443c296e917c135a9dc6f": {
          "model_module": "@jupyter-widgets/controls",
          "model_name": "HBoxModel",
          "model_module_version": "1.5.0",
          "state": {
            "_view_name": "HBoxView",
            "_dom_classes": [],
            "_model_name": "HBoxModel",
            "_view_module": "@jupyter-widgets/controls",
            "_model_module_version": "1.5.0",
            "_view_count": null,
            "_view_module_version": "1.5.0",
            "box_style": "",
            "layout": "IPY_MODEL_cdf3f4cb348a4dccb562294cc3218f8f",
            "_model_module": "@jupyter-widgets/controls",
            "children": [
              "IPY_MODEL_a1f0ef2961c745f18be2b27ec8b6b35b",
              "IPY_MODEL_e291792fa4c04b0b9210a4d9ea1c18c5"
            ]
          }
        },
        "cdf3f4cb348a4dccb562294cc3218f8f": {
          "model_module": "@jupyter-widgets/base",
          "model_name": "LayoutModel",
          "model_module_version": "1.2.0",
          "state": {
            "_view_name": "LayoutView",
            "grid_template_rows": null,
            "right": null,
            "justify_content": null,
            "_view_module": "@jupyter-widgets/base",
            "overflow": null,
            "_model_module_version": "1.2.0",
            "_view_count": null,
            "flex_flow": null,
            "width": null,
            "min_width": null,
            "border": null,
            "align_items": null,
            "bottom": null,
            "_model_module": "@jupyter-widgets/base",
            "top": null,
            "grid_column": null,
            "overflow_y": null,
            "overflow_x": null,
            "grid_auto_flow": null,
            "grid_area": null,
            "grid_template_columns": null,
            "flex": null,
            "_model_name": "LayoutModel",
            "justify_items": null,
            "grid_row": null,
            "max_height": null,
            "align_content": null,
            "visibility": null,
            "align_self": null,
            "height": null,
            "min_height": null,
            "padding": null,
            "grid_auto_rows": null,
            "grid_gap": null,
            "max_width": null,
            "order": null,
            "_view_module_version": "1.2.0",
            "grid_template_areas": null,
            "object_position": null,
            "object_fit": null,
            "grid_auto_columns": null,
            "margin": null,
            "display": null,
            "left": null
          }
        },
        "a1f0ef2961c745f18be2b27ec8b6b35b": {
          "model_module": "@jupyter-widgets/controls",
          "model_name": "FloatProgressModel",
          "model_module_version": "1.5.0",
          "state": {
            "_view_name": "ProgressView",
            "style": "IPY_MODEL_eef9640713964a329593d2e17001881d",
            "_dom_classes": [],
            "description": " 84%",
            "_model_name": "FloatProgressModel",
            "bar_style": "danger",
            "max": 5000,
            "_view_module": "@jupyter-widgets/controls",
            "_model_module_version": "1.5.0",
            "value": 4181,
            "_view_count": null,
            "_view_module_version": "1.5.0",
            "orientation": "horizontal",
            "min": 0,
            "description_tooltip": null,
            "_model_module": "@jupyter-widgets/controls",
            "layout": "IPY_MODEL_cf48d7896fa64a2999ef56017f930a17"
          }
        },
        "e291792fa4c04b0b9210a4d9ea1c18c5": {
          "model_module": "@jupyter-widgets/controls",
          "model_name": "HTMLModel",
          "model_module_version": "1.5.0",
          "state": {
            "_view_name": "HTMLView",
            "style": "IPY_MODEL_92287ccf4e034cb1993fc5652f2e8774",
            "_dom_classes": [],
            "description": "",
            "_model_name": "HTMLModel",
            "placeholder": "​",
            "_view_module": "@jupyter-widgets/controls",
            "_model_module_version": "1.5.0",
            "value": " 4181/5000 [00:19&lt;00:00, 11037.33 examples/s]",
            "_view_count": null,
            "_view_module_version": "1.5.0",
            "description_tooltip": null,
            "_model_module": "@jupyter-widgets/controls",
            "layout": "IPY_MODEL_acdb6ac6a7bb48e4a146bd90af6d5c41"
          }
        },
        "eef9640713964a329593d2e17001881d": {
          "model_module": "@jupyter-widgets/controls",
          "model_name": "ProgressStyleModel",
          "model_module_version": "1.5.0",
          "state": {
            "_view_name": "StyleView",
            "_model_name": "ProgressStyleModel",
            "description_width": "initial",
            "_view_module": "@jupyter-widgets/base",
            "_model_module_version": "1.5.0",
            "_view_count": null,
            "_view_module_version": "1.2.0",
            "bar_color": null,
            "_model_module": "@jupyter-widgets/controls"
          }
        },
        "cf48d7896fa64a2999ef56017f930a17": {
          "model_module": "@jupyter-widgets/base",
          "model_name": "LayoutModel",
          "model_module_version": "1.2.0",
          "state": {
            "_view_name": "LayoutView",
            "grid_template_rows": null,
            "right": null,
            "justify_content": null,
            "_view_module": "@jupyter-widgets/base",
            "overflow": null,
            "_model_module_version": "1.2.0",
            "_view_count": null,
            "flex_flow": null,
            "width": null,
            "min_width": null,
            "border": null,
            "align_items": null,
            "bottom": null,
            "_model_module": "@jupyter-widgets/base",
            "top": null,
            "grid_column": null,
            "overflow_y": null,
            "overflow_x": null,
            "grid_auto_flow": null,
            "grid_area": null,
            "grid_template_columns": null,
            "flex": null,
            "_model_name": "LayoutModel",
            "justify_items": null,
            "grid_row": null,
            "max_height": null,
            "align_content": null,
            "visibility": null,
            "align_self": null,
            "height": null,
            "min_height": null,
            "padding": null,
            "grid_auto_rows": null,
            "grid_gap": null,
            "max_width": null,
            "order": null,
            "_view_module_version": "1.2.0",
            "grid_template_areas": null,
            "object_position": null,
            "object_fit": null,
            "grid_auto_columns": null,
            "margin": null,
            "display": null,
            "left": null
          }
        },
        "92287ccf4e034cb1993fc5652f2e8774": {
          "model_module": "@jupyter-widgets/controls",
          "model_name": "DescriptionStyleModel",
          "model_module_version": "1.5.0",
          "state": {
            "_view_name": "StyleView",
            "_model_name": "DescriptionStyleModel",
            "description_width": "",
            "_view_module": "@jupyter-widgets/base",
            "_model_module_version": "1.5.0",
            "_view_count": null,
            "_view_module_version": "1.2.0",
            "_model_module": "@jupyter-widgets/controls"
          }
        },
        "acdb6ac6a7bb48e4a146bd90af6d5c41": {
          "model_module": "@jupyter-widgets/base",
          "model_name": "LayoutModel",
          "model_module_version": "1.2.0",
          "state": {
            "_view_name": "LayoutView",
            "grid_template_rows": null,
            "right": null,
            "justify_content": null,
            "_view_module": "@jupyter-widgets/base",
            "overflow": null,
            "_model_module_version": "1.2.0",
            "_view_count": null,
            "flex_flow": null,
            "width": null,
            "min_width": null,
            "border": null,
            "align_items": null,
            "bottom": null,
            "_model_module": "@jupyter-widgets/base",
            "top": null,
            "grid_column": null,
            "overflow_y": null,
            "overflow_x": null,
            "grid_auto_flow": null,
            "grid_area": null,
            "grid_template_columns": null,
            "flex": null,
            "_model_name": "LayoutModel",
            "justify_items": null,
            "grid_row": null,
            "max_height": null,
            "align_content": null,
            "visibility": null,
            "align_self": null,
            "height": null,
            "min_height": null,
            "padding": null,
            "grid_auto_rows": null,
            "grid_gap": null,
            "max_width": null,
            "order": null,
            "_view_module_version": "1.2.0",
            "grid_template_areas": null,
            "object_position": null,
            "object_fit": null,
            "grid_auto_columns": null,
            "margin": null,
            "display": null,
            "left": null
          }
        }
      }
    }
  },
  "cells": [
    {
      "cell_type": "markdown",
      "metadata": {
        "id": "view-in-github",
        "colab_type": "text"
      },
      "source": [
        "<a href=\"https://colab.research.google.com/github/guillermodulcey/TesisCinvestav/blob/main/Implicito/Modelo_implicito.ipynb\" target=\"_parent\"><img src=\"https://colab.research.google.com/assets/colab-badge.svg\" alt=\"Open In Colab\"/></a>"
      ]
    },
    {
      "cell_type": "code",
      "metadata": {
        "id": "-fIgMJLBFyTr"
      },
      "source": [
        "import numpy as np\n",
        "import pandas as pd\n",
        "\n",
        "import tensorflow as tf\n",
        "import tensorflow_hub as hub\n",
        "import tensorflow_datasets as tfds\n",
        "\n",
        "from tensorflow.keras.preprocessing.text import Tokenizer\n",
        "from tensorflow.keras.preprocessing.sequence import pad_sequences"
      ],
      "execution_count": null,
      "outputs": []
    },
    {
      "cell_type": "code",
      "metadata": {
        "id": "Ez47033nSaKQ"
      },
      "source": [
        "SIZE = 3000"
      ],
      "execution_count": null,
      "outputs": []
    },
    {
      "cell_type": "code",
      "metadata": {
        "id": "s4iN9XzL8vol"
      },
      "source": [
        "class DatasetAlignment():\n",
        "  def __init__(self, size=3000, val_size=2000):\n",
        "    text_dataset = tf.keras.preprocessing.text_dataset_from_directory(\n",
        "      '/content/drive/MyDrive/Datasets/TranscriptionsB',\n",
        "      labels=\"inferred\",\n",
        "      label_mode=\"int\",\n",
        "      class_names=None,\n",
        "      batch_size=2000,\n",
        "      max_length=None,\n",
        "      shuffle=True,\n",
        "      seed=123,\n",
        "      validation_split=.2,\n",
        "      subset='training',\n",
        "      follow_links=False,\n",
        "    )\n",
        "\n",
        "    text_validation = tf.keras.preprocessing.text_dataset_from_directory(\n",
        "      '/content/drive/MyDrive/Datasets/TranscriptionsB',\n",
        "      labels=\"inferred\",\n",
        "      label_mode=\"int\",\n",
        "      class_names=None,\n",
        "      batch_size=2000,\n",
        "      max_length=None,\n",
        "      shuffle=True,\n",
        "      seed=123,\n",
        "      validation_split=.2,\n",
        "      subset='validation',\n",
        "      follow_links=False,\n",
        "    )\n",
        "\n",
        "    (colorectal_dataset, colorectal_validation), colorectal_info = tfds.load('colorectal_histology', \n",
        "                                                      split=[f'train[:{size}]', f'train[{size}:]'], \n",
        "                                                      shuffle_files=False, \n",
        "                                                      with_info=True, \n",
        "                                                      as_supervised=True)\n",
        "\n",
        "    self.cats_dogs = colorectal_dataset.take(size)\n",
        "    self.reviews = text_dataset.take(size)\n",
        "\n",
        "    self.validation_cats_dogs = colorectal_validation.take(val_size)\n",
        "    self.validation_reviews = text_validation.take(val_size)\n",
        "\n",
        "  def train_text(self, max_words=10000):\n",
        "    for texts, t_labels in self.reviews.take(1):  # only take first batch of dataset\n",
        "      numpy_text = texts.numpy()\n",
        "      numpy_t_labels = t_labels.numpy()\n",
        "\n",
        "    train = pd.DataFrame()\n",
        "    train['text'] = pd.Series(numpy_text)\n",
        "    train['label'] = pd.Series(numpy_t_labels)\n",
        "\n",
        "    train_labels = train['label']\n",
        "    train_text = train['text']\n",
        "\n",
        "    train_text = train_text.apply(lambda x: x.decode('utf-8'))\n",
        "\n",
        "    self.tokenizer = Tokenizer(max_words, oov_token='<OOV>')\n",
        "\n",
        "    self.tokenizer.fit_on_texts(train_text.to_list())\n",
        "    self.total_words = len(self.tokenizer.word_index)+1\n",
        "\n",
        "    train_sequences = self.tokenizer.texts_to_sequences(train_text.to_list())\n",
        "    train_padded = pad_sequences(train_sequences)\n",
        "\n",
        "    train_labels = np.array(train_labels.to_list())\n",
        "\n",
        "    self.max_sequence_length = train_padded.shape[1]\n",
        "\n",
        "    self.reviews = tf.data.Dataset.from_tensor_slices((train_padded, train_labels))\n",
        "\n",
        "    ## Validation\n",
        "    for texts, t_labels in self.validation_reviews.take(1):  # only take first batch of dataset\n",
        "      validation_text = texts.numpy()\n",
        "      validation_labels = t_labels.numpy()\n",
        "\n",
        "    validation = pd.DataFrame()\n",
        "    validation['text'] = pd.Series(validation_text)\n",
        "    validation['label'] = pd.Series(validation_labels)\n",
        "\n",
        "    validation_labels = validation['label']\n",
        "\n",
        "    validation_text = validation['text']\n",
        "    validation_text = validation_text.apply(lambda x: x.decode('utf-8'))\n",
        "\n",
        "    validation_sequences = self.tokenizer.texts_to_sequences(validation_text.to_list())\n",
        "    validation_padded = pad_sequences(validation_sequences, maxlen=self.max_sequence_length)\n",
        "\n",
        "    validation_labels = np.array(validation_labels.to_list())\n",
        "\n",
        "    self.validation_reviews = tf.data.Dataset.from_tensor_slices((validation_padded, validation_labels))\n",
        "\n",
        "  def align(self):\n",
        "    one_i = self.cats_dogs.filter(lambda x,y: y == 0)\n",
        "    two_i = self.cats_dogs.filter(lambda x,y: y == 1)\n",
        "    \n",
        "    one_t = self.reviews.filter(lambda x,y: y == 0)\n",
        "    two_t = self.reviews.filter(lambda x,y: y == 1)\n",
        "    \n",
        "    one_z = tf.data.Dataset.zip((one_i, one_t))\n",
        "    two_z = tf.data.Dataset.zip((two_i, two_t))\n",
        "\n",
        "    merged = one_z.concatenate(two_z)\n",
        "\n",
        "    self.cats_dogs = merged.map(lambda x, y: x)\n",
        "    self.reviews = merged.map(lambda x, y: y)\n",
        "\n",
        "    return self.cats_dogs, self.reviews\n",
        "\n",
        "  def validation(self, size=10000):\n",
        "    one_i = self.validation_cats_dogs.filter(lambda x,y: y == 0)\n",
        "    two_i = self.validation_cats_dogs.filter(lambda x,y: y == 1)\n",
        "\n",
        "    one_t = self.validation_reviews.filter(lambda x,y: y == 0)\n",
        "    two_t = self.validation_reviews.filter(lambda x,y: y == 1)\n",
        "\n",
        "    one_z = tf.data.Dataset.zip((one_i, one_t))\n",
        "    two_z = tf.data.Dataset.zip((two_i, two_t))\n",
        "\n",
        "    merged = one_z.concatenate(two_z)\n",
        "\n",
        "    self.validation_cats_dogs = merged.map(lambda x, y: x)\n",
        "    self.validation_reviews = merged.map(lambda x, y: y)\n",
        "\n",
        "    return self.validation_cats_dogs, self.validation_reviews\n"
      ],
      "execution_count": null,
      "outputs": []
    },
    {
      "cell_type": "code",
      "metadata": {
        "id": "ZP_rwjUK81ds",
        "colab": {
          "base_uri": "https://localhost:8080/",
          "height": 383,
          "referenced_widgets": [
            "59764fc7ac834e089b437dd59cf03513",
            "c79ab8c3fcb64299b80f950596030a12",
            "fc23e447f541463495a505d7ce58bd14",
            "70e70071d4b7448ca681c1ff1587d92e",
            "1ff4c325ab1542f2833032d7f1cf64ba",
            "b63c36c8d6434fcd94aa76d27a80179d",
            "b202dd0bc19046d583a148460520f31b",
            "ed69df8470fe4f55a6f18051dea3b0b8",
            "f1dcd404f26245638f6b725c7686b38b",
            "9c7dc218589c4cb99a9ae304d6161652",
            "503006eac93f4c9f85cce27d87049272",
            "a22928578a1440f5aca4dd9d9ea76d76",
            "6c3f0770817b443097a481c785c989e8",
            "7bb19df1ba88491dbb2e1baeb0bb088c",
            "25dbb93b2e584dc8b3218543108055ba",
            "f68db03c01cb44b68542646bfe04b5cf",
            "c4511f1563774db2855b8d56d238c131",
            "61774175ca3c49ebb5ea730f6ecec8b8",
            "a4e16234d9594c3598f1903d4853cf2b",
            "8f5844485dc74c8b9965678d8e7eb42d",
            "12e8cbf8973542e7b3e1551ceebd5cc4",
            "b94e4297cf2040c8aed4117bb6bb9fc3",
            "c3ebf9b41074441b9634d62d63a15794",
            "cdd0ef33fb724562b0ab16ad4c0bb007",
            "09125bcb4a09457b821be7833ec47c81",
            "4304ab14a23642beb8156335507e63fc",
            "eddf393ee3a140dd8b0b0f1910bf6dd0",
            "e0ef018b70114aa980542f19c7e898b1",
            "e244569638c54989b6ca36ef376cc2f7",
            "b16f6833a2a048799480581a7e3c0538",
            "ed53fe4faa854ac19956110086a6bcc1",
            "a6799593eba445848ed05e8bcf7ca518",
            "1ace07d703f443c296e917c135a9dc6f",
            "cdf3f4cb348a4dccb562294cc3218f8f",
            "a1f0ef2961c745f18be2b27ec8b6b35b",
            "e291792fa4c04b0b9210a4d9ea1c18c5",
            "eef9640713964a329593d2e17001881d",
            "cf48d7896fa64a2999ef56017f930a17",
            "92287ccf4e034cb1993fc5652f2e8774",
            "acdb6ac6a7bb48e4a146bd90af6d5c41"
          ]
        },
        "outputId": "01f9e565-e3ca-4377-abed-87f5f8fb18bb"
      },
      "source": [
        "da = DatasetAlignment()"
      ],
      "execution_count": null,
      "outputs": [
        {
          "output_type": "stream",
          "text": [
            "Found 1619 files belonging to 2 classes.\n",
            "Using 1296 files for training.\n",
            "Found 1619 files belonging to 2 classes.\n",
            "Using 323 files for validation.\n",
            "\u001b[1mDownloading and preparing dataset colorectal_histology/2.0.0 (download: 246.14 MiB, generated: Unknown size, total: 246.14 MiB) to /root/tensorflow_datasets/colorectal_histology/2.0.0...\u001b[0m\n"
          ],
          "name": "stdout"
        },
        {
          "output_type": "display_data",
          "data": {
            "application/vnd.jupyter.widget-view+json": {
              "model_id": "59764fc7ac834e089b437dd59cf03513",
              "version_minor": 0,
              "version_major": 2
            },
            "text/plain": [
              "HBox(children=(FloatProgress(value=1.0, bar_style='info', description='Dl Completed...', max=1.0, style=Progre…"
            ]
          },
          "metadata": {
            "tags": []
          }
        },
        {
          "output_type": "display_data",
          "data": {
            "application/vnd.jupyter.widget-view+json": {
              "model_id": "f1dcd404f26245638f6b725c7686b38b",
              "version_minor": 0,
              "version_major": 2
            },
            "text/plain": [
              "HBox(children=(FloatProgress(value=1.0, bar_style='info', description='Dl Size...', max=1.0, style=ProgressSty…"
            ]
          },
          "metadata": {
            "tags": []
          }
        },
        {
          "output_type": "display_data",
          "data": {
            "application/vnd.jupyter.widget-view+json": {
              "model_id": "c4511f1563774db2855b8d56d238c131",
              "version_minor": 0,
              "version_major": 2
            },
            "text/plain": [
              "HBox(children=(FloatProgress(value=1.0, bar_style='info', description='Extraction completed...', max=1.0, styl…"
            ]
          },
          "metadata": {
            "tags": []
          }
        },
        {
          "output_type": "stream",
          "text": [
            "\n",
            "\n",
            "\n",
            "\n",
            "\n",
            "\n"
          ],
          "name": "stdout"
        },
        {
          "output_type": "display_data",
          "data": {
            "application/vnd.jupyter.widget-view+json": {
              "model_id": "09125bcb4a09457b821be7833ec47c81",
              "version_minor": 0,
              "version_major": 2
            },
            "text/plain": [
              "HBox(children=(FloatProgress(value=1.0, bar_style='info', max=1.0), HTML(value='')))"
            ]
          },
          "metadata": {
            "tags": []
          }
        },
        {
          "output_type": "stream",
          "text": [
            "\rShuffling and writing examples to /root/tensorflow_datasets/colorectal_histology/2.0.0.incomplete6GDYMW/colorectal_histology-train.tfrecord\n"
          ],
          "name": "stdout"
        },
        {
          "output_type": "display_data",
          "data": {
            "application/vnd.jupyter.widget-view+json": {
              "model_id": "1ace07d703f443c296e917c135a9dc6f",
              "version_minor": 0,
              "version_major": 2
            },
            "text/plain": [
              "HBox(children=(FloatProgress(value=0.0, max=5000.0), HTML(value='')))"
            ]
          },
          "metadata": {
            "tags": []
          }
        },
        {
          "output_type": "stream",
          "text": [
            "\u001b[1mDataset colorectal_histology downloaded and prepared to /root/tensorflow_datasets/colorectal_histology/2.0.0. Subsequent calls will reuse this data.\u001b[0m\n"
          ],
          "name": "stdout"
        }
      ]
    },
    {
      "cell_type": "code",
      "metadata": {
        "id": "NxA5sqjcQGk3"
      },
      "source": [
        "da.train_text()\n",
        "total_words = da.total_words\n",
        "max_sequence_length = da.max_sequence_length\n",
        "\n",
        "cats_dogs, reviews = da.align()"
      ],
      "execution_count": null,
      "outputs": []
    },
    {
      "cell_type": "code",
      "metadata": {
        "id": "MIlg46EB-c3J"
      },
      "source": [
        "input_cats_dogs = cats_dogs\n",
        "\n",
        "input_reviews = reviews"
      ],
      "execution_count": null,
      "outputs": []
    },
    {
      "cell_type": "code",
      "metadata": {
        "id": "xqNFGiYa-J74"
      },
      "source": [
        "URL = \"https://tfhub.dev/google/nnlm-en-dim50-with-normalization/2\"\n",
        "feature_extractor = hub.KerasLayer(URL, input_shape=[], dtype=tf.string)\n",
        "\n",
        "weights = feature_extractor.get_weights()\n",
        "weights = np.squeeze(weights)\n",
        "\n",
        "embedding_matrix = np.zeros((total_words,50))\n",
        "\n",
        "embedding_matrix[1:] = weights[:total_words-1]"
      ],
      "execution_count": null,
      "outputs": []
    },
    {
      "cell_type": "code",
      "metadata": {
        "id": "qkqcqyZoLAkF"
      },
      "source": [
        "resize_function = lambda x, y: (tf.image.resize(x, (299, 299))/255.0, y)\n",
        "\n",
        "input_cats_dogs = input_cats_dogs.map(resize_function).batch(32).prefetch(1)"
      ],
      "execution_count": null,
      "outputs": []
    },
    {
      "cell_type": "code",
      "metadata": {
        "id": "2p8J2KQfB_Wh",
        "colab": {
          "base_uri": "https://localhost:8080/"
        },
        "outputId": "6f26aa95-7763-44cb-ebf1-18c305339605"
      },
      "source": [
        "IMAGE_RES = 299\n",
        "URL = \"https://tfhub.dev/google/imagenet/inception_v3/feature_vector/4\"\n",
        "feature_extractor = hub.KerasLayer(URL, input_shape=(IMAGE_RES, IMAGE_RES, 3), name=\"imagenet\")\n",
        "feature_extractor.trainable = False\n",
        "\n",
        "image_model = tf.keras.Sequential([\n",
        "            feature_extractor\n",
        "])\n",
        "\n",
        "cats_dogs_encoded = image_model.predict(input_cats_dogs, verbose=1)"
      ],
      "execution_count": null,
      "outputs": [
        {
          "output_type": "stream",
          "text": [
            "25/25 [==============================] - 39s 341ms/step\n"
          ],
          "name": "stdout"
        }
      ]
    },
    {
      "cell_type": "code",
      "metadata": {
        "colab": {
          "base_uri": "https://localhost:8080/"
        },
        "id": "nTb4I59IDWrt",
        "outputId": "65876df0-ea83-4436-8a7d-fb1215b4b172"
      },
      "source": [
        "cats_dogs_encoded.shape"
      ],
      "execution_count": null,
      "outputs": [
        {
          "output_type": "execute_result",
          "data": {
            "text/plain": [
              "(750, 2048)"
            ]
          },
          "metadata": {
            "tags": []
          },
          "execution_count": 10
        }
      ]
    },
    {
      "cell_type": "code",
      "metadata": {
        "colab": {
          "base_uri": "https://localhost:8080/"
        },
        "id": "AnQYuA_2Y-NE",
        "outputId": "4c1390f1-da73-478e-fd71-0c188f052291"
      },
      "source": [
        "tf.keras.backend.clear_session()\n",
        "\n",
        "###### Image\n",
        "input_image = tf.keras.Input(shape=(2048), name=\"input_image\")\n",
        "###############################################\n",
        "\n",
        "###### Text\n",
        "input_text = tf.keras.Input(shape=(max_sequence_length), name=\"input_text\")\n",
        "\n",
        "x = tf.keras.layers.Embedding(total_words, 50, input_length=max_sequence_length, weights=[embedding_matrix], trainable=True)(input_text)\n",
        "x = tf.keras.layers.Bidirectional(tf.keras.layers.GRU(10, return_sequences=True))(x)\n",
        "x = tf.keras.layers.GRU(10)(x)\n",
        "text_model = tf.keras.layers.Dense(16, 'relu')(x)\n",
        "###############################################\n",
        "\n",
        "\n",
        "###### Concatenate\n",
        "# c = tf.keras.layers.concatenate([input_image, text_model])\n",
        "\n",
        "output_image = tf.keras.layers.Dense(1, 'sigmoid', name='output_image')(input_image)\n",
        "output_text = tf.keras.layers.Dense(1, 'sigmoid', name='output_text')(text_model)\n",
        "###############################################\n",
        "model = tf.keras.Model(inputs=[input_image, input_text], outputs=[output_image, output_text])\n",
        "\n",
        "model.summary()"
      ],
      "execution_count": null,
      "outputs": [
        {
          "output_type": "stream",
          "text": [
            "Model: \"model\"\n",
            "__________________________________________________________________________________________________\n",
            "Layer (type)                    Output Shape         Param #     Connected to                     \n",
            "==================================================================================================\n",
            "input_text (InputLayer)         [(None, 69)]         0                                            \n",
            "__________________________________________________________________________________________________\n",
            "embedding (Embedding)           (None, 69, 50)       208300      input_text[0][0]                 \n",
            "__________________________________________________________________________________________________\n",
            "bidirectional (Bidirectional)   (None, 69, 20)       3720        embedding[0][0]                  \n",
            "__________________________________________________________________________________________________\n",
            "gru_1 (GRU)                     (None, 10)           960         bidirectional[0][0]              \n",
            "__________________________________________________________________________________________________\n",
            "input_image (InputLayer)        [(None, 2048)]       0                                            \n",
            "__________________________________________________________________________________________________\n",
            "dense (Dense)                   (None, 16)           176         gru_1[0][0]                      \n",
            "__________________________________________________________________________________________________\n",
            "output_image (Dense)            (None, 1)            2049        input_image[0][0]                \n",
            "__________________________________________________________________________________________________\n",
            "output_text (Dense)             (None, 1)            17          dense[0][0]                      \n",
            "==================================================================================================\n",
            "Total params: 215,222\n",
            "Trainable params: 215,222\n",
            "Non-trainable params: 0\n",
            "__________________________________________________________________________________________________\n"
          ],
          "name": "stdout"
        }
      ]
    },
    {
      "cell_type": "code",
      "metadata": {
        "colab": {
          "base_uri": "https://localhost:8080/",
          "height": 644
        },
        "id": "-1st3DlsANmh",
        "outputId": "79c9da7e-1879-496f-a1e5-e1299ac2c9fb"
      },
      "source": [
        "tf.keras.utils.plot_model(model, \"multimodal.png\", show_shapes=True)"
      ],
      "execution_count": null,
      "outputs": [
        {
          "output_type": "execute_result",
          "data": {
            "image/png": "[encoded data removed]",
            "text/plain": [
              "<IPython.core.display.Image object>"
            ]
          },
          "metadata": {
            "tags": []
          },
          "execution_count": 12
        }
      ]
    },
    {
      "cell_type": "code",
      "metadata": {
        "id": "bur2R9KIH29t"
      },
      "source": [
        "model.compile(\n",
        "    optimizer=tf.keras.optimizers.Adam(),\n",
        "    loss=[\n",
        "        tf.keras.losses.BinaryCrossentropy(),\n",
        "        tf.keras.losses.BinaryCrossentropy(),\n",
        "    ],\n",
        "    loss_weights=[1, 1],\n",
        "    metrics=['accuracy']\n",
        ")"
      ],
      "execution_count": null,
      "outputs": []
    },
    {
      "cell_type": "code",
      "metadata": {
        "colab": {
          "base_uri": "https://localhost:8080/"
        },
        "id": "yqMje_WBRIj6",
        "outputId": "b1d11b4d-c372-4148-e866-06e400234a93"
      },
      "source": [
        "y2 = np.concatenate([yc.numpy() for _ , yc in input_cats_dogs], axis=0)\n",
        "\n",
        "y2.shape"
      ],
      "execution_count": null,
      "outputs": [
        {
          "output_type": "execute_result",
          "data": {
            "text/plain": [
              "(750,)"
            ]
          },
          "metadata": {
            "tags": []
          },
          "execution_count": 14
        }
      ]
    },
    {
      "cell_type": "code",
      "metadata": {
        "colab": {
          "base_uri": "https://localhost:8080/"
        },
        "id": "BlTdh3RNRS4s",
        "outputId": "e747694c-0f28-4c52-bc21-3592c48ee95e"
      },
      "source": [
        "for text, labels2 in input_reviews.batch(SIZE).take(1):  # only take first element of dataset\n",
        "    numpy_text = text.numpy()\n",
        "    numpy_labels2 = labels2.numpy()\n",
        "\n",
        "numpy_labels2.shape"
      ],
      "execution_count": null,
      "outputs": [
        {
          "output_type": "execute_result",
          "data": {
            "text/plain": [
              "(750,)"
            ]
          },
          "metadata": {
            "tags": []
          },
          "execution_count": 15
        }
      ]
    },
    {
      "cell_type": "code",
      "metadata": {
        "id": "4al4otPSK0FG"
      },
      "source": [
        "class Stopper(tf.keras.callbacks.Callback):\n",
        "  def __init__(self, metric, value):\n",
        "    super().__init__()\n",
        "    self.metric = metric\n",
        "    self.value = value\n",
        "\n",
        "  def on_epoch_end(self, epoch, logs={}):\n",
        "    if(logs.get(self.metric)>self.value):\n",
        "      print(f\"\\nReached {self.value} {self.metric} or above\")\n",
        "      self.model.stop_training = True\n",
        "\n",
        "callbacks = Stopper('output_text_accuracy', 0.9)"
      ],
      "execution_count": null,
      "outputs": []
    },
    {
      "cell_type": "code",
      "metadata": {
        "colab": {
          "base_uri": "https://localhost:8080/"
        },
        "id": "CGDl6kboIoHk",
        "outputId": "58189175-2e0e-4674-c630-41f27ca94fbb"
      },
      "source": [
        "model.fit(\n",
        "    {\"input_image\": cats_dogs_encoded, \"input_text\": numpy_text},\n",
        "    {\"output_image\": y2, \"output_text\": numpy_labels2},\n",
        "    epochs=10,\n",
        "    # callbacks=[callbacks]\n",
        ")"
      ],
      "execution_count": null,
      "outputs": [
        {
          "output_type": "stream",
          "text": [
            "Epoch 1/10\n",
            "24/24 [==============================] - 7s 46ms/step - loss: 1.0560 - output_image_loss: 0.3653 - output_text_loss: 0.6906 - output_image_accuracy: 0.9013 - output_text_accuracy: 0.5347\n",
            "Epoch 2/10\n",
            "24/24 [==============================] - 1s 46ms/step - loss: 0.8352 - output_image_loss: 0.1650 - output_text_loss: 0.6701 - output_image_accuracy: 0.9720 - output_text_accuracy: 0.6707\n",
            "Epoch 3/10\n",
            "24/24 [==============================] - 1s 46ms/step - loss: 0.7118 - output_image_loss: 0.1129 - output_text_loss: 0.5990 - output_image_accuracy: 0.9813 - output_text_accuracy: 0.7907\n",
            "Epoch 4/10\n",
            "24/24 [==============================] - 1s 45ms/step - loss: 0.4519 - output_image_loss: 0.0906 - output_text_loss: 0.3613 - output_image_accuracy: 0.9840 - output_text_accuracy: 0.8853\n",
            "Epoch 5/10\n",
            "24/24 [==============================] - 1s 45ms/step - loss: 0.2488 - output_image_loss: 0.0769 - output_text_loss: 0.1719 - output_image_accuracy: 0.9893 - output_text_accuracy: 0.9360\n",
            "Epoch 6/10\n",
            "24/24 [==============================] - 1s 44ms/step - loss: 0.1593 - output_image_loss: 0.0666 - output_text_loss: 0.0927 - output_image_accuracy: 0.9920 - output_text_accuracy: 0.9747\n",
            "Epoch 7/10\n",
            "24/24 [==============================] - 1s 46ms/step - loss: 0.1119 - output_image_loss: 0.0613 - output_text_loss: 0.0506 - output_image_accuracy: 0.9893 - output_text_accuracy: 0.9867\n",
            "Epoch 8/10\n",
            "24/24 [==============================] - 1s 45ms/step - loss: 0.0855 - output_image_loss: 0.0539 - output_text_loss: 0.0316 - output_image_accuracy: 0.9907 - output_text_accuracy: 0.9933\n",
            "Epoch 9/10\n",
            "24/24 [==============================] - 1s 45ms/step - loss: 0.0766 - output_image_loss: 0.0491 - output_text_loss: 0.0275 - output_image_accuracy: 0.9933 - output_text_accuracy: 0.9947\n",
            "Epoch 10/10\n",
            "24/24 [==============================] - 1s 45ms/step - loss: 0.0667 - output_image_loss: 0.0449 - output_text_loss: 0.0219 - output_image_accuracy: 0.9933 - output_text_accuracy: 0.9947\n"
          ],
          "name": "stdout"
        },
        {
          "output_type": "execute_result",
          "data": {
            "text/plain": [
              "<tensorflow.python.keras.callbacks.History at 0x7f790f290290>"
            ]
          },
          "metadata": {
            "tags": []
          },
          "execution_count": 17
        }
      ]
    },
    {
      "cell_type": "code",
      "metadata": {
        "colab": {
          "base_uri": "https://localhost:8080/"
        },
        "id": "EAF3ARnstMJ6",
        "outputId": "90206375-7eb9-415e-cacb-db1d330d4793"
      },
      "source": [
        "da.validation()"
      ],
      "execution_count": null,
      "outputs": [
        {
          "output_type": "execute_result",
          "data": {
            "text/plain": [
              "(<MapDataset shapes: ((150, 150, 3), ()), types: (tf.uint8, tf.int64)>,\n",
              " <MapDataset shapes: ((69,), ()), types: (tf.int32, tf.int64)>)"
            ]
          },
          "metadata": {
            "tags": []
          },
          "execution_count": 18
        }
      ]
    },
    {
      "cell_type": "code",
      "metadata": {
        "id": "gOlJrx3tWxDf"
      },
      "source": [
        "validation_cats_dogs = da.validation_cats_dogs.map(resize_function).batch(32).prefetch(1)"
      ],
      "execution_count": null,
      "outputs": []
    },
    {
      "cell_type": "code",
      "metadata": {
        "id": "Eqj2aOiOJqka",
        "colab": {
          "base_uri": "https://localhost:8080/"
        },
        "outputId": "e40a15c5-2c3f-4b88-9aaf-52235a386bd8"
      },
      "source": [
        "validation_cats_dogs_encoded = image_model.predict(validation_cats_dogs, verbose=1)"
      ],
      "execution_count": null,
      "outputs": [
        {
          "output_type": "stream",
          "text": [
            "12/12 [==============================] - 5s 385ms/step\n"
          ],
          "name": "stdout"
        }
      ]
    },
    {
      "cell_type": "code",
      "metadata": {
        "colab": {
          "base_uri": "https://localhost:8080/"
        },
        "id": "aDaZsYa7XLo6",
        "outputId": "bb5e51be-0d97-468c-ff5d-6fd84a26b8fc"
      },
      "source": [
        "y3 = np.concatenate([yc.numpy() for _ , yc in validation_cats_dogs], axis=0)\n",
        "\n",
        "y3.shape"
      ],
      "execution_count": null,
      "outputs": [
        {
          "output_type": "execute_result",
          "data": {
            "text/plain": [
              "(323,)"
            ]
          },
          "metadata": {
            "tags": []
          },
          "execution_count": 21
        }
      ]
    },
    {
      "cell_type": "code",
      "metadata": {
        "id": "3GXues3sW7u0"
      },
      "source": [
        "validation_reviews = da.validation_reviews.batch(SIZE)"
      ],
      "execution_count": null,
      "outputs": []
    },
    {
      "cell_type": "code",
      "metadata": {
        "colab": {
          "base_uri": "https://localhost:8080/"
        },
        "id": "ze_507WFXNzt",
        "outputId": "691a5912-bd04-402c-c1ca-d3ef2ec58d68"
      },
      "source": [
        "for text, labels2 in validation_reviews.take(1):  # only take first element of dataset\n",
        "    validation_numpy_text = text.numpy()\n",
        "    validation_numpy_labels = labels2.numpy()\n",
        "\n",
        "validation_numpy_labels.shape"
      ],
      "execution_count": null,
      "outputs": [
        {
          "output_type": "execute_result",
          "data": {
            "text/plain": [
              "(323,)"
            ]
          },
          "metadata": {
            "tags": []
          },
          "execution_count": 23
        }
      ]
    },
    {
      "cell_type": "code",
      "metadata": {
        "colab": {
          "base_uri": "https://localhost:8080/"
        },
        "id": "FLemsQ-CWExT",
        "outputId": "bf03a425-cd98-406a-e90e-43e580e380f0"
      },
      "source": [
        "model.evaluate({\"input_image\": validation_cats_dogs_encoded, \"input_text\": validation_numpy_text},\n",
        "    {\"output_image\": y3, \"output_text\": validation_numpy_labels})"
      ],
      "execution_count": null,
      "outputs": [
        {
          "output_type": "stream",
          "text": [
            "11/11 [==============================] - 1s 20ms/step - loss: 0.6877 - output_image_loss: 0.0481 - output_text_loss: 0.6396 - output_image_accuracy: 0.9938 - output_text_accuracy: 0.8111\n"
          ],
          "name": "stdout"
        },
        {
          "output_type": "execute_result",
          "data": {
            "text/plain": [
              "[0.6876586079597473,\n",
              " 0.04809178411960602,\n",
              " 0.6395667791366577,\n",
              " 0.9938080310821533,\n",
              " 0.8111454844474792]"
            ]
          },
          "metadata": {
            "tags": []
          },
          "execution_count": 24
        }
      ]
    },
    {
      "cell_type": "code",
      "metadata": {
        "id": "jCg2ybueWWM5"
      },
      "source": [
        "model_result = model.predict({\"input_image\": validation_cats_dogs_encoded, \"input_text\": validation_numpy_text})"
      ],
      "execution_count": null,
      "outputs": []
    },
    {
      "cell_type": "code",
      "metadata": {
        "id": "fDTE1awPXrIJ"
      },
      "source": [
        "y_pred_image = [y_t.item() for y_t in model_result[0]]\n",
        "y_pred_text = [y_t.item() for y_t in model_result[1]]"
      ],
      "execution_count": null,
      "outputs": []
    },
    {
      "cell_type": "markdown",
      "metadata": {
        "id": "FiMohQEEE67j"
      },
      "source": [
        "# Método mayor seguridad"
      ]
    },
    {
      "cell_type": "code",
      "metadata": {
        "id": "XwVk4QUFFMPI"
      },
      "source": [
        "y_pred_image_b = [0 if y_t < 0.5 else 1 for y_t in model_result[0]]\n",
        "y_pred_text_b = [0 if y_t < 0.5 else 1 for y_t in model_result[1]]"
      ],
      "execution_count": null,
      "outputs": []
    },
    {
      "cell_type": "code",
      "metadata": {
        "id": "9Gzr61WrFaeY"
      },
      "source": [
        "final_result = []\n",
        "for i, value in enumerate(y_pred_image):\n",
        "  if y_pred_text[i] != value:\n",
        "    cert_a = (0.5 - y_pred_image[i])**2\n",
        "    cert_b = (0.5 - y_pred_text[i])**2\n",
        "    if cert_a > cert_b:\n",
        "      final_result.append(value)\n",
        "    else:\n",
        "      final_result.append(y_pred_text[i])\n",
        "  else:\n",
        "    final_result.append(value)"
      ],
      "execution_count": null,
      "outputs": []
    },
    {
      "cell_type": "code",
      "metadata": {
        "id": "h1jQowatBrSF"
      },
      "source": [
        "y_vali = [0 if y_t < 0.5 else 1 for y_t in final_result]"
      ],
      "execution_count": null,
      "outputs": []
    },
    {
      "cell_type": "code",
      "metadata": {
        "colab": {
          "base_uri": "https://localhost:8080/"
        },
        "id": "LrjZelSoGfvK",
        "outputId": "ec86cf34-58af-4311-ddba-6dd3672af317"
      },
      "source": [
        "from sklearn.metrics import classification_report\n",
        "\n",
        "print(classification_report(validation_numpy_labels, y_vali))"
      ],
      "execution_count": null,
      "outputs": [
        {
          "output_type": "stream",
          "text": [
            "              precision    recall  f1-score   support\n",
            "\n",
            "           0       0.89      0.93      0.91       105\n",
            "           1       0.97      0.94      0.96       218\n",
            "\n",
            "    accuracy                           0.94       323\n",
            "   macro avg       0.93      0.94      0.93       323\n",
            "weighted avg       0.94      0.94      0.94       323\n",
            "\n"
          ],
          "name": "stdout"
        }
      ]
    },
    {
      "cell_type": "code",
      "metadata": {
        "colab": {
          "base_uri": "https://localhost:8080/"
        },
        "id": "n6TN-hd8GiDE",
        "outputId": "06ee63f1-d3a7-44f4-c606-e0f36bd66811"
      },
      "source": [
        "from sklearn.metrics import confusion_matrix\n",
        "\n",
        "confusion_matrix(validation_numpy_labels, y_vali)"
      ],
      "execution_count": null,
      "outputs": [
        {
          "output_type": "execute_result",
          "data": {
            "text/plain": [
              "array([[ 98,   7],\n",
              "       [ 12, 206]])"
            ]
          },
          "metadata": {
            "tags": []
          },
          "execution_count": 32
        }
      ]
    }
  ]
}